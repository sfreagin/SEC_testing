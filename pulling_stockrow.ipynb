{
 "cells": [
  {
   "cell_type": "markdown",
   "metadata": {},
   "source": [
    "# Main for StockRow screener\n",
    "This notebook contains code to \n",
    "1. Pull financial data from an external source \n",
    "2. Lightly clean the data\n",
    "3. Perform introductory financial analysis"
   ]
  },
  {
   "cell_type": "code",
   "execution_count": 2,
   "metadata": {},
   "outputs": [],
   "source": [
    "import pandas as pd\n",
    "import numpy as np\n",
    "import matplotlib.pyplot as plt\n",
    "import seaborn as sns\n",
    "import csv\n",
    "import requests\n",
    "import os\n",
    "import time"
   ]
  },
  {
   "cell_type": "code",
   "execution_count": 3,
   "metadata": {},
   "outputs": [
    {
     "data": {
      "text/html": [
       "<div>\n",
       "<style scoped>\n",
       "    .dataframe tbody tr th:only-of-type {\n",
       "        vertical-align: middle;\n",
       "    }\n",
       "\n",
       "    .dataframe tbody tr th {\n",
       "        vertical-align: top;\n",
       "    }\n",
       "\n",
       "    .dataframe thead th {\n",
       "        text-align: right;\n",
       "    }\n",
       "</style>\n",
       "<table border=\"1\" class=\"dataframe\">\n",
       "  <thead>\n",
       "    <tr style=\"text-align: right;\">\n",
       "      <th></th>\n",
       "      <th>Ticker</th>\n",
       "      <th>Name</th>\n",
       "      <th>Sector</th>\n",
       "      <th>Asset Class</th>\n",
       "      <th>Market Value</th>\n",
       "      <th>Weight (%)</th>\n",
       "      <th>Notional Value</th>\n",
       "      <th>Shares</th>\n",
       "      <th>CUSIP</th>\n",
       "      <th>ISIN</th>\n",
       "      <th>SEDOL</th>\n",
       "      <th>Price</th>\n",
       "      <th>Location</th>\n",
       "      <th>Exchange</th>\n",
       "      <th>Currency</th>\n",
       "      <th>FX Rate</th>\n",
       "      <th>Market Currency</th>\n",
       "      <th>Accrual Date</th>\n",
       "    </tr>\n",
       "  </thead>\n",
       "  <tbody>\n",
       "    <tr>\n",
       "      <th>0</th>\n",
       "      <td>AAPL</td>\n",
       "      <td>APPLE INC</td>\n",
       "      <td>Information Technology</td>\n",
       "      <td>Equity</td>\n",
       "      <td>1,875,566,056.60</td>\n",
       "      <td>4.85</td>\n",
       "      <td>1,875,566,056.60</td>\n",
       "      <td>14,040,770.00</td>\n",
       "      <td>37833100</td>\n",
       "      <td>US0378331005</td>\n",
       "      <td>2046251</td>\n",
       "      <td>133.58</td>\n",
       "      <td>United States</td>\n",
       "      <td>NASDAQ</td>\n",
       "      <td>USD</td>\n",
       "      <td>1</td>\n",
       "      <td>USD</td>\n",
       "      <td>--</td>\n",
       "    </tr>\n",
       "    <tr>\n",
       "      <th>1</th>\n",
       "      <td>MSFT</td>\n",
       "      <td>MICROSOFT CORP</td>\n",
       "      <td>Information Technology</td>\n",
       "      <td>Equity</td>\n",
       "      <td>1,709,995,853.92</td>\n",
       "      <td>4.42</td>\n",
       "      <td>1,709,995,853.92</td>\n",
       "      <td>6,717,457.00</td>\n",
       "      <td>594918104</td>\n",
       "      <td>US5949181045</td>\n",
       "      <td>2588173</td>\n",
       "      <td>254.56</td>\n",
       "      <td>United States</td>\n",
       "      <td>NASDAQ</td>\n",
       "      <td>USD</td>\n",
       "      <td>1</td>\n",
       "      <td>USD</td>\n",
       "      <td>--</td>\n",
       "    </tr>\n",
       "  </tbody>\n",
       "</table>\n",
       "</div>"
      ],
      "text/plain": [
       "  Ticker            Name                  Sector Asset Class  \\\n",
       "0   AAPL       APPLE INC  Information Technology      Equity   \n",
       "1   MSFT  MICROSOFT CORP  Information Technology      Equity   \n",
       "\n",
       "       Market Value  Weight (%)    Notional Value         Shares      CUSIP  \\\n",
       "0  1,875,566,056.60        4.85  1,875,566,056.60  14,040,770.00   37833100   \n",
       "1  1,709,995,853.92        4.42  1,709,995,853.92   6,717,457.00  594918104   \n",
       "\n",
       "           ISIN    SEDOL   Price       Location Exchange Currency  FX Rate  \\\n",
       "0  US0378331005  2046251  133.58  United States   NASDAQ      USD        1   \n",
       "1  US5949181045  2588173  254.56  United States   NASDAQ      USD        1   \n",
       "\n",
       "  Market Currency Accrual Date  \n",
       "0             USD           --  \n",
       "1             USD           --  "
      ]
     },
     "execution_count": 3,
     "metadata": {},
     "output_type": "execute_result"
    }
   ],
   "source": [
    "stock_list = pd.read_csv('list_of_stocks.csv')\n",
    "stock_list.head(2)"
   ]
  },
  {
   "cell_type": "code",
   "execution_count": 4,
   "metadata": {},
   "outputs": [],
   "source": [
    "# this function pulls Income Statement data from StockRow.com\n",
    "    # based on the user's choice of ticker\n",
    "# and outputs a DataFrame of the Income Statement\n",
    "\n",
    "##### btw PLEASE visit stockrow.com #####\n",
    "##### they made a wonderful resource ####\n",
    "\n",
    "## also the 'meat' of this code comes from:\n",
    "## https://www.kite.com/python/answers/how-to-download-a-csv-file-from-a-url-in-python\n",
    "\n",
    "def income_puller(ticker):\n",
    "    url=f'https://stockrow.com/api/companies/{ticker}/financials.xlsx?dimension=T&section=Income%20Statement&sort=desc'\n",
    "    response = requests.get(url)\n",
    "    with open(os.path.join(\"Income\", f\"{ticker}_inc.xlsx\"), 'wb') as f:\n",
    "        f.write(response.content)\n",
    "    time.sleep(0.25)\n",
    "    \n",
    "    ticker_df = pd.read_excel(f'./Income/{ticker}_inc.xlsx').T\n",
    "    # change the first row to the columns\n",
    "    ticker_df.columns = ticker_df.iloc[0]\n",
    "    #remove the first row\n",
    "    ticker_df = ticker_df.iloc[1:]\n",
    "    \n",
    "    return ticker_df"
   ]
  },
  {
   "cell_type": "code",
   "execution_count": 5,
   "metadata": {},
   "outputs": [],
   "source": [
    "# this function pulls Balance Sheet data from StockRow.com\n",
    "\n",
    "def balance_puller(ticker):\n",
    "    url=f'https://stockrow.com/api/companies/{ticker}/financials.xlsx?dimension=Q&section=Balance%20Sheet&sort=desc'\n",
    "    response = requests.get(url)\n",
    "    with open(os.path.join(\"BalanceSheet\", f\"{ticker}_balance.xlsx\"), 'wb') as f:\n",
    "        f.write(response.content)\n",
    "    time.sleep(0.25)\n",
    "    \n",
    "    ticker_df = pd.read_excel(f'./BalanceSheet/{ticker}_balance.xlsx').T\n",
    "    # change the first row to the columns\n",
    "    ticker_df.columns = ticker_df.iloc[0]\n",
    "    #remove the first row\n",
    "    ticker_df = ticker_df.iloc[1:]\n",
    "    \n",
    "    return ticker_df"
   ]
  },
  {
   "cell_type": "code",
   "execution_count": 6,
   "metadata": {},
   "outputs": [],
   "source": [
    "# this function pulls Cash Flow statement data from StockRow.com\n",
    "\n",
    "def cashflow_puller(ticker):\n",
    "    url=f'https://stockrow.com/api/companies/{ticker}/financials.xlsx?dimension=T&section=Cash%20Flow&sort=desc'\n",
    "    response = requests.get(url)\n",
    "    with open(os.path.join(\"CashFlow\", f\"{ticker}_cashflow.xlsx\"), 'wb') as f:\n",
    "        f.write(response.content)\n",
    "    time.sleep(0.25)\n",
    "    \n",
    "    ticker_df = pd.read_excel(f'./CashFlow/{ticker}_cashflow.xlsx').T\n",
    "    # change the first row to the columns\n",
    "    ticker_df.columns = ticker_df.iloc[0]\n",
    "    #remove the first row\n",
    "    ticker_df = ticker_df.iloc[1:]\n",
    "    \n",
    "    return ticker_df"
   ]
  },
  {
   "cell_type": "code",
   "execution_count": null,
   "metadata": {},
   "outputs": [],
   "source": []
  },
  {
   "cell_type": "code",
   "execution_count": 7,
   "metadata": {},
   "outputs": [],
   "source": [
    "# this function prompts the user for a ticker input\n",
    "# and calls the income_puller() function to return a DataFrame\n",
    "# same for balance_puller() to return Balance Sheet info\n",
    "def ticker_input():\n",
    "    ticker = input('Please enter a ticker').upper()\n",
    "    income_df = income_puller(ticker.upper())\n",
    "    balance_df = balance_puller(ticker.upper())\n",
    "    cashflow_df = cashflow_puller(ticker.upper())\n",
    "    return income_df, balance_df, cashflow_df, ticker"
   ]
  },
  {
   "cell_type": "code",
   "execution_count": 8,
   "metadata": {},
   "outputs": [
    {
     "name": "stdin",
     "output_type": "stream",
     "text": [
      "Please enter a ticker SWKS\n"
     ]
    },
    {
     "data": {
      "text/plain": [
       "'SWKS'"
      ]
     },
     "execution_count": 8,
     "metadata": {},
     "output_type": "execute_result"
    }
   ],
   "source": [
    "# call the function and print charts\n",
    "income_df,balance_df, cashflow_df, ticker = ticker_input()\n",
    "ticker.upper()"
   ]
  },
  {
   "cell_type": "code",
   "execution_count": 9,
   "metadata": {},
   "outputs": [
    {
     "data": {
      "image/png": "[encoded data removed]",
      "text/plain": [
       "<Figure size 432x288 with 1 Axes>"
      ]
     },
     "metadata": {
      "needs_background": "light"
     },
     "output_type": "display_data"
    }
   ],
   "source": [
    "# plot the charts I like most\n",
    "sns.scatterplot(data=income_df,x=income_df.index,y='Revenue')\n",
    "sns.scatterplot(data=income_df,x=income_df.index,y='EBITDA')\n",
    "sns.scatterplot(data=income_df,x=income_df.index,y='Net Income Common')\n",
    "sns.scatterplot(data=income_df,x=income_df.index,y='Gross Profit').set(xlabel='x',ylabel='y')\n",
    "plt.legend(labels=['Revenue','EBITDA','Net Income','Gross Profit']);\n",
    "\n",
    "# this code is optional, it may bounce errors\n",
    "ticker_name = stock_list[stock_list['Ticker']==ticker]['Name'].to_string()\n",
    "plt.title(f'Income Statement data for {ticker_name[5:]}');"
   ]
  },
  {
   "cell_type": "code",
   "execution_count": 10,
   "metadata": {},
   "outputs": [
    {
     "data": {
      "image/png": "[encoded data removed]",
      "text/plain": [
       "<Figure size 432x288 with 1 Axes>"
      ]
     },
     "metadata": {
      "needs_background": "light"
     },
     "output_type": "display_data"
    }
   ],
   "source": [
    "sns.scatterplot(data=balance_df,x=balance_df.index,y=\"Cash and Short Term Investments\", color='green')\n",
    "sns.scatterplot(data=balance_df,x=balance_df.index,y=\"Total current assets\", color='goldenrod')\n",
    "sns.scatterplot(data=balance_df,x=balance_df.index,y=\"Total Assets\", color='blue')\n",
    "sns.scatterplot(data=balance_df,x=balance_df.index,y=\"Total current liabilities\", color='crimson')\n",
    "sns.scatterplot(data=balance_df,x=balance_df.index,y=\"Total liabilities\",color='red')\n",
    "plt.legend(labels=['Cash & Equivalents','Current Assets','Total Assets','Current Liabilities','Total Liabilities']);\n",
    "\n",
    "# this code is optional, \n",
    "# it may bounce errors if the ticker isn't in stocks_list \n",
    "# try big familiar tickers like JNJ or INTC to calibrate \n",
    "ticker_name = stock_list[stock_list['Ticker']==ticker]['Name'].to_string()\n",
    "plt.title(f'Balance Sheet data for {ticker_name[6:]}');"
   ]
  },
  {
   "cell_type": "code",
   "execution_count": 11,
   "metadata": {},
   "outputs": [
    {
     "data": {
      "image/png": "[encoded data removed]",
      "text/plain": [
       "<Figure size 432x288 with 1 Axes>"
      ]
     },
     "metadata": {
      "needs_background": "light"
     },
     "output_type": "display_data"
    }
   ],
   "source": [
    "sns.scatterplot(data=cashflow_df,x=cashflow_df.index,y=\"Operating Cash Flow\", color='blue')\n",
    "sns.scatterplot(data=cashflow_df,x=cashflow_df.index,y=-cashflow_df[\"Capital expenditures\"], color='red')\n",
    "sns.scatterplot(data=cashflow_df,x=cashflow_df.index,y=-cashflow_df[\"Dividends Paid (Total)\"], color='goldenrod')\n",
    "sns.scatterplot(data=cashflow_df,x=cashflow_df.index,y=cashflow_df[\"Operating Cash Flow\"]+cashflow_df[\"Capital expenditures\"], color='green')\n",
    "plt.legend(labels=['Operating Cash Flow','CapEx','Dividends','FCF (est)']);\n",
    "\n",
    "# this code is optional, \n",
    "# it may bounce errors if the ticker isn't in stocks_list \n",
    "# try big familiar tickers like JNJ or INTC to calibrate \n",
    "ticker_name = stock_list[stock_list['Ticker']==ticker]['Name'].to_string()\n",
    "plt.title(f'Cash Flow data for {ticker_name[5:]}');"
   ]
  },
  {
   "cell_type": "code",
   "execution_count": null,
   "metadata": {},
   "outputs": [],
   "source": []
  },
  {
   "cell_type": "code",
   "execution_count": 14,
   "metadata": {},
   "outputs": [],
   "source": [
    "#code to pull data in bulk\n",
    "ticker_list = stock_list['Ticker'][:500]\n",
    "bad_list = []\n",
    "\n",
    "for ticker in ticker_list:\n",
    "    try:\n",
    "        url_inc=f'https://stockrow.com/api/companies/{ticker}/financials.xlsx?dimension=T&section=Income%20Statement&sort=desc'\n",
    "        response_inc = requests.get(url_inc)\n",
    "        with open(os.path.join(\"Income\", f\"{ticker}_inc.xlsx\"), 'wb') as f:\n",
    "            f.write(response_inc.content)\n",
    "\n",
    "        url_bal=f'https://stockrow.com/api/companies/{ticker}/financials.xlsx?dimension=Q&section=Balance%20Sheet&sort=desc'    \n",
    "        response_bal = requests.get(url_bal)\n",
    "        with open(os.path.join(\"BalanceSheet\", f\"{ticker}_bal.xlsx\"), 'wb') as f:\n",
    "            f.write(response_bal.content)\n",
    "\n",
    "        url_cfl=f'https://stockrow.com/api/companies/{ticker}/financials.xlsx?dimension=T&section=Cash%20Flow&sort=desc'\n",
    "        response_cfl = requests.get(url_cfl)\n",
    "        with open(os.path.join(\"CashFlow\", f\"{ticker}_cashflow.xlsx\"), 'wb') as f:\n",
    "            f.write(response_cfl.content)\n",
    "        time.sleep(0.25)\n",
    "    except:\n",
    "        print(f\"{ticker} is bad\")\n",
    "        bad_list.append(ticker)"
   ]
  },
  {
   "cell_type": "code",
   "execution_count": 15,
   "metadata": {},
   "outputs": [
    {
     "data": {
      "text/plain": [
       "0       AAPL\n",
       "1       MSFT\n",
       "2       AMZN\n",
       "3         FB\n",
       "4      GOOGL\n",
       "       ...  \n",
       "495      AAL\n",
       "496      MOH\n",
       "497      WSM\n",
       "498      UDR\n",
       "499      XPO\n",
       "Name: Ticker, Length: 500, dtype: object"
      ]
     },
     "execution_count": 15,
     "metadata": {},
     "output_type": "execute_result"
    }
   ],
   "source": [
    "ticker_list"
   ]
  },
  {
   "cell_type": "code",
   "execution_count": null,
   "metadata": {},
   "outputs": [],
   "source": []
  },
  {
   "cell_type": "code",
   "execution_count": null,
   "metadata": {},
   "outputs": [],
   "source": []
  },
  {
   "cell_type": "code",
   "execution_count": null,
   "metadata": {},
   "outputs": [],
   "source": []
  },
  {
   "cell_type": "code",
   "execution_count": null,
   "metadata": {},
   "outputs": [],
   "source": []
  }
 ],
 "metadata": {
  "kernelspec": {
   "display_name": "Python 3",
   "language": "python",
   "name": "python3"
  },
  "language_info": {
   "codemirror_mode": {
    "name": "ipython",
    "version": 3
   },
   "file_extension": ".py",
   "mimetype": "text/x-python",
   "name": "python",
   "nbconvert_exporter": "python",
   "pygments_lexer": "ipython3",
   "version": "3.8.5"
  }
 },
 "nbformat": 4,
 "nbformat_minor": 4
}
