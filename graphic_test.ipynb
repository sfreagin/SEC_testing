{
 "cells": [
  {
   "cell_type": "markdown",
   "metadata": {},
   "source": [
    "# PROTOTYPE\n",
    "### Pulling financial data based on a ticker defined by user"
   ]
  },
  {
   "cell_type": "markdown",
   "metadata": {},
   "source": [
    "#### First run the imports"
   ]
  },
  {
   "cell_type": "code",
   "execution_count": 13,
   "metadata": {},
   "outputs": [],
   "source": [
    "import pandas as pd\n",
    "import numpy as np\n",
    "import matplotlib.pyplot as plt\n",
    "import seaborn as sns\n",
    "import csv\n",
    "import requests\n",
    "import os\n",
    "import time"
   ]
  },
  {
   "cell_type": "markdown",
   "metadata": {},
   "source": [
    "#### Run this cell too please :D\n",
    "\n",
    "These cells define the functions to pull financial data. You may need to create folders called \"Income\" and \"BalanceSheet\" in your directory"
   ]
  },
  {
   "cell_type": "code",
   "execution_count": 14,
   "metadata": {},
   "outputs": [],
   "source": [
    "def income_puller(ticker):\n",
    "    url=f'https://stockrow.com/api/companies/{ticker}/financials.xlsx?dimension=T&section=Income%20Statement&sort=desc'\n",
    "    response = requests.get(url)\n",
    "    with open(os.path.join(\"Income\", f\"{ticker}_inc.xlsx\"), 'wb') as f:\n",
    "        f.write(response.content)\n",
    "    time.sleep(0.25)\n",
    "    \n",
    "    ticker_df = pd.read_excel(f'./Income/{ticker}_inc.xlsx').T\n",
    "    # change the first row to the columns\n",
    "    ticker_df.columns = ticker_df.iloc[0]\n",
    "    #remove the first row\n",
    "    ticker_df = ticker_df.iloc[1:]\n",
    "    \n",
    "    return ticker_df\n",
    "\n",
    "# this function pulls Balance Sheet data from StockRow.com\n",
    "def balance_puller(ticker):\n",
    "    url=f'https://stockrow.com/api/companies/{ticker}/financials.xlsx?dimension=Q&section=Balance%20Sheet&sort=desc'\n",
    "    response = requests.get(url)\n",
    "    with open(os.path.join(\"BalanceSheet\", f\"{ticker}_balance.xlsx\"), 'wb') as f:\n",
    "        f.write(response.content)\n",
    "    time.sleep(0.25)\n",
    "    \n",
    "    ticker_df = pd.read_excel(f'./BalanceSheet/{ticker}_balance.xlsx').T\n",
    "    # change the first row to the columns\n",
    "    ticker_df.columns = ticker_df.iloc[0]\n",
    "    #remove the first row\n",
    "    ticker_df = ticker_df.iloc[1:]\n",
    "    \n",
    "    return ticker_df\n",
    "\n",
    "# this function pulls Cash Flow statement data from StockRow.com\n",
    "def cashflow_puller(ticker):\n",
    "    url=f'https://stockrow.com/api/companies/{ticker}/financials.xlsx?dimension=T&section=Cash%20Flow&sort=desc'\n",
    "    response = requests.get(url)\n",
    "    with open(os.path.join(\"CashFlow\", f\"{ticker}_cashflow.xlsx\"), 'wb') as f:\n",
    "        f.write(response.content)\n",
    "    time.sleep(0.25)\n",
    "    \n",
    "    ticker_df = pd.read_excel(f'./CashFlow/{ticker}_cashflow.xlsx').T\n",
    "    # change the first row to the columns\n",
    "    ticker_df.columns = ticker_df.iloc[0]\n",
    "    #remove the first row\n",
    "    ticker_df = ticker_df.iloc[1:]\n",
    "    \n",
    "    return ticker_df"
   ]
  },
  {
   "cell_type": "code",
   "execution_count": 15,
   "metadata": {},
   "outputs": [],
   "source": [
    "stock_list = pd.read_csv('list_of_stocks.csv')"
   ]
  },
  {
   "cell_type": "code",
   "execution_count": 16,
   "metadata": {},
   "outputs": [],
   "source": [
    "# this function prompts the user for a ticker input\n",
    "# and calls the income_puller() function to return a DataFrame\n",
    "# same for balance_puller() to return Balance Sheet info\n",
    "def ticker_input():\n",
    "    ticker = input('Please enter a ticker').upper()\n",
    "    income_df = income_puller(ticker.upper())\n",
    "    balance_df = balance_puller(ticker.upper())\n",
    "    cashflow_df = cashflow_puller(ticker.upper())\n",
    "    return income_df, balance_df, cashflow_df, ticker"
   ]
  },
  {
   "cell_type": "markdown",
   "metadata": {},
   "source": [
    "#### Please run this cell and enter a ticker; let's see if it works!"
   ]
  },
  {
   "cell_type": "code",
   "execution_count": 17,
   "metadata": {},
   "outputs": [
    {
     "name": "stdin",
     "output_type": "stream",
     "text": [
      "Please enter a ticker SWKS\n"
     ]
    },
    {
     "name": "stdout",
     "output_type": "stream",
     "text": [
      "Financial data for SWKS below:\n"
     ]
    }
   ],
   "source": [
    "# call the function and print charts\n",
    "income_df,balance_df, cashflow_df, ticker = ticker_input()\n",
    "print(f\"Financial data for {ticker.upper()} below:\")"
   ]
  },
  {
   "cell_type": "markdown",
   "metadata": {},
   "source": [
    "#### If no errors, then run this cell to see Income Statement data"
   ]
  },
  {
   "cell_type": "code",
   "execution_count": 18,
   "metadata": {},
   "outputs": [],
   "source": [
    "def income_statement_chart_maker(income_df):\n",
    "    # plot the charts I like most\n",
    "    plt.figure(figsize=(8,5))\n",
    "    sns.scatterplot(data=income_df,x=income_df.index,y='Revenue',color='green')\n",
    "    sns.scatterplot(data=income_df,x=income_df.index,y='Gross Profit',color='red')\n",
    "    sns.scatterplot(data=income_df,x=income_df.index,y='EBITDA')\n",
    "    sns.scatterplot(data=income_df,x=income_df.index,y='Net Income Common')\n",
    "    plt.legend(labels=['Revenue','Gross Profit','EBITDA','Net Income'],bbox_to_anchor=(1,1));\n",
    "    plt.ylabel('income statement money')\n",
    "    # this code is optional, \n",
    "    # it may bounce errors if the ticker isn't in stocks_list \n",
    "    # try big familiar tickers like JNJ or INTC to calibrate \n",
    "    ticker_name = stock_list[stock_list['Ticker']==ticker]['Name'].to_string()\n",
    "    plt.title(f'TTM Income Statement data for {ticker_name[5:]}');\n"
   ]
  },
  {
   "cell_type": "markdown",
   "metadata": {},
   "source": [
    "#### Run this cell to see Balance Sheet data"
   ]
  },
  {
   "cell_type": "code",
   "execution_count": 19,
   "metadata": {},
   "outputs": [],
   "source": [
    "def balance_sheet_chart_maker(balance_df):\n",
    "    plt.figure(figsize=(8,5))\n",
    "    sns.scatterplot(data=balance_df,x=balance_df.index,y=\"Total Assets\", color='blue')\n",
    "    sns.scatterplot(data=balance_df,x=balance_df.index,y=\"Cash and Short Term Investments\", color='green')\n",
    "    sns.scatterplot(data=balance_df,x=balance_df.index,y=\"Total current assets\", color='goldenrod')\n",
    "    sns.scatterplot(data=balance_df,x=balance_df.index,y=\"Total liabilities\",color='red')\n",
    "    sns.scatterplot(data=balance_df,x=balance_df.index,y=\"Total current liabilities\", color='crimson')\n",
    "    plt.legend(labels=['Total Assets','Cash & Equivalents','Current Assets','Total Liabilities','Current Liabilities'],bbox_to_anchor=(1,1));\n",
    "    plt.ylabel('balance sheet money')\n",
    "    # this code is optional, \n",
    "    # it may bounce errors if the ticker isn't in stocks_list \n",
    "    # try big familiar tickers like JNJ or INTC to calibrate \n",
    "    ticker_name = stock_list[stock_list['Ticker']==ticker]['Name'].to_string()\n",
    "    plt.title(f'TTM Balance Sheet data for {ticker_name[5:]}');"
   ]
  },
  {
   "cell_type": "markdown",
   "metadata": {},
   "source": [
    "#### Run this cell to see Cash Flow Statement data"
   ]
  },
  {
   "cell_type": "code",
   "execution_count": 20,
   "metadata": {},
   "outputs": [],
   "source": [
    "def cash_flow_chart_maker(cashflow_df):\n",
    "    plt.figure(figsize=(8,5))\n",
    "    sns.scatterplot(data=cashflow_df,x=cashflow_df.index,y=\"Operating Cash Flow\", color='blue')\n",
    "    sns.scatterplot(data=cashflow_df,x=cashflow_df.index,y=-cashflow_df[\"Capital expenditures\"], color='red')\n",
    "    sns.scatterplot(data=cashflow_df,x=cashflow_df.index,y=cashflow_df[\"Operating Cash Flow\"]+cashflow_df[\"Capital expenditures\"], color='green')\n",
    "    sns.scatterplot(data=cashflow_df,x=cashflow_df.index,y=-cashflow_df[\"Dividends Paid (Total)\"], color='goldenrod')\n",
    "    plt.legend(labels=['Operating Cash Flow','CapEx','FCF (est)','Dividends'],bbox_to_anchor=(1,1));\n",
    "    plt.ylabel('cash flow money')\n",
    "    # this code is optional, \n",
    "    # it may bounce errors if the ticker isn't in stocks_list \n",
    "    # try big familiar tickers like JNJ or INTC to calibrate \n",
    "    ticker_name = stock_list[stock_list['Ticker']==ticker]['Name'].to_string()\n",
    "    plt.title(f'TTM Cash Flow data for {ticker_name[5:]}');\n"
   ]
  },
  {
   "cell_type": "code",
   "execution_count": null,
   "metadata": {},
   "outputs": [],
   "source": []
  },
  {
   "cell_type": "code",
   "execution_count": null,
   "metadata": {},
   "outputs": [],
   "source": []
  },
  {
   "cell_type": "code",
   "execution_count": null,
   "metadata": {},
   "outputs": [],
   "source": []
  },
  {
   "cell_type": "code",
   "execution_count": null,
   "metadata": {},
   "outputs": [],
   "source": []
  },
  {
   "cell_type": "code",
   "execution_count": null,
   "metadata": {},
   "outputs": [],
   "source": []
  },
  {
   "cell_type": "markdown",
   "metadata": {},
   "source": [
    "# Charts"
   ]
  },
  {
   "cell_type": "code",
   "execution_count": 21,
   "metadata": {},
   "outputs": [
    {
     "name": "stdin",
     "output_type": "stream",
     "text": [
      "Please enter a ticker SWKS\n"
     ]
    },
    {
     "name": "stdout",
     "output_type": "stream",
     "text": [
      "Financial data for SWKS below:\n"
     ]
    }
   ],
   "source": [
    "# call the function and print charts\n",
    "income_df,balance_df, cashflow_df, ticker = ticker_input()\n",
    "print(f\"Financial data for {ticker.upper()} below:\")"
   ]
  },
  {
   "cell_type": "code",
   "execution_count": 22,
   "metadata": {},
   "outputs": [
    {
     "data": {
      "image/png": "[encoded data removed]",
      "text/plain": [
       "<Figure size 576x360 with 1 Axes>"
      ]
     },
     "metadata": {
      "needs_background": "light"
     },
     "output_type": "display_data"
    }
   ],
   "source": [
    "income_statement_chart_maker(income_df)"
   ]
  },
  {
   "cell_type": "code",
   "execution_count": 23,
   "metadata": {},
   "outputs": [
    {
     "data": {
      "image/png": "[encoded data removed]",
      "text/plain": [
       "<Figure size 576x360 with 1 Axes>"
      ]
     },
     "metadata": {
      "needs_background": "light"
     },
     "output_type": "display_data"
    }
   ],
   "source": [
    "balance_sheet_chart_maker(balance_df)"
   ]
  },
  {
   "cell_type": "code",
   "execution_count": 24,
   "metadata": {},
   "outputs": [
    {
     "data": {
      "image/png": "[encoded data removed]",
      "text/plain": [
       "<Figure size 576x360 with 1 Axes>"
      ]
     },
     "metadata": {
      "needs_background": "light"
     },
     "output_type": "display_data"
    }
   ],
   "source": [
    "cash_flow_chart_maker(cashflow_df)"
   ]
  },
  {
   "cell_type": "code",
   "execution_count": null,
   "metadata": {},
   "outputs": [],
   "source": [
    "#All in one cell"
   ]
  },
  {
   "cell_type": "code",
   "execution_count": null,
   "metadata": {},
   "outputs": [],
   "source": []
  },
  {
   "cell_type": "code",
   "execution_count": null,
   "metadata": {},
   "outputs": [],
   "source": []
  },
  {
   "cell_type": "code",
   "execution_count": null,
   "metadata": {},
   "outputs": [],
   "source": []
  },
  {
   "cell_type": "code",
   "execution_count": null,
   "metadata": {},
   "outputs": [],
   "source": []
  },
  {
   "cell_type": "code",
   "execution_count": null,
   "metadata": {},
   "outputs": [],
   "source": []
  },
  {
   "cell_type": "code",
   "execution_count": null,
   "metadata": {},
   "outputs": [],
   "source": []
  },
  {
   "cell_type": "code",
   "execution_count": null,
   "metadata": {},
   "outputs": [],
   "source": []
  },
  {
   "cell_type": "markdown",
   "metadata": {},
   "source": [
    "# Bokeh test"
   ]
  },
  {
   "cell_type": "code",
   "execution_count": 25,
   "metadata": {},
   "outputs": [],
   "source": [
    "from bokeh.plotting import figure, show"
   ]
  },
  {
   "cell_type": "code",
   "execution_count": 119,
   "metadata": {},
   "outputs": [
    {
     "data": {
      "text/html": [
       "<div style=\"display: table;\"><div style=\"display: table-row;\"><div style=\"display: table-cell;\"><b title=\"bokeh.models.renderers.GlyphRenderer\">GlyphRenderer</b>(</div><div style=\"display: table-cell;\">id&nbsp;=&nbsp;'6498', <span id=\"6501\" style=\"cursor: pointer;\">&hellip;)</span></div></div><div class=\"6500\" style=\"display: none;\"><div style=\"display: table-cell;\"></div><div style=\"display: table-cell;\">data_source&nbsp;=&nbsp;ColumnDataSource(id='6495', ...),</div></div><div class=\"6500\" style=\"display: none;\"><div style=\"display: table-cell;\"></div><div style=\"display: table-cell;\">glyph&nbsp;=&nbsp;Circle(id='6496', ...),</div></div><div class=\"6500\" style=\"display: none;\"><div style=\"display: table-cell;\"></div><div style=\"display: table-cell;\">hover_glyph&nbsp;=&nbsp;None,</div></div><div class=\"6500\" style=\"display: none;\"><div style=\"display: table-cell;\"></div><div style=\"display: table-cell;\">js_event_callbacks&nbsp;=&nbsp;{},</div></div><div class=\"6500\" style=\"display: none;\"><div style=\"display: table-cell;\"></div><div style=\"display: table-cell;\">js_property_callbacks&nbsp;=&nbsp;{},</div></div><div class=\"6500\" style=\"display: none;\"><div style=\"display: table-cell;\"></div><div style=\"display: table-cell;\">level&nbsp;=&nbsp;'glyph',</div></div><div class=\"6500\" style=\"display: none;\"><div style=\"display: table-cell;\"></div><div style=\"display: table-cell;\">muted&nbsp;=&nbsp;False,</div></div><div class=\"6500\" style=\"display: none;\"><div style=\"display: table-cell;\"></div><div style=\"display: table-cell;\">muted_glyph&nbsp;=&nbsp;None,</div></div><div class=\"6500\" style=\"display: none;\"><div style=\"display: table-cell;\"></div><div style=\"display: table-cell;\">name&nbsp;=&nbsp;None,</div></div><div class=\"6500\" style=\"display: none;\"><div style=\"display: table-cell;\"></div><div style=\"display: table-cell;\">nonselection_glyph&nbsp;=&nbsp;Circle(id='6497', ...),</div></div><div class=\"6500\" style=\"display: none;\"><div style=\"display: table-cell;\"></div><div style=\"display: table-cell;\">selection_glyph&nbsp;=&nbsp;None,</div></div><div class=\"6500\" style=\"display: none;\"><div style=\"display: table-cell;\"></div><div style=\"display: table-cell;\">subscribed_events&nbsp;=&nbsp;[],</div></div><div class=\"6500\" style=\"display: none;\"><div style=\"display: table-cell;\"></div><div style=\"display: table-cell;\">tags&nbsp;=&nbsp;[],</div></div><div class=\"6500\" style=\"display: none;\"><div style=\"display: table-cell;\"></div><div style=\"display: table-cell;\">view&nbsp;=&nbsp;CDSView(id='6499', ...),</div></div><div class=\"6500\" style=\"display: none;\"><div style=\"display: table-cell;\"></div><div style=\"display: table-cell;\">visible&nbsp;=&nbsp;True,</div></div><div class=\"6500\" style=\"display: none;\"><div style=\"display: table-cell;\"></div><div style=\"display: table-cell;\">x_range_name&nbsp;=&nbsp;'default',</div></div><div class=\"6500\" style=\"display: none;\"><div style=\"display: table-cell;\"></div><div style=\"display: table-cell;\">y_range_name&nbsp;=&nbsp;'default')</div></div></div>\n",
       "<script>\n",
       "(function() {\n",
       "  var expanded = false;\n",
       "  var ellipsis = document.getElementById(\"6501\");\n",
       "  ellipsis.addEventListener(\"click\", function() {\n",
       "    var rows = document.getElementsByClassName(\"6500\");\n",
       "    for (var i = 0; i < rows.length; i++) {\n",
       "      var el = rows[i];\n",
       "      el.style.display = expanded ? \"none\" : \"table-row\";\n",
       "    }\n",
       "    ellipsis.innerHTML = expanded ? \"&hellip;)\" : \"&lsaquo;&lsaquo;&lsaquo;\";\n",
       "    expanded = !expanded;\n",
       "  });\n",
       "})();\n",
       "</script>\n"
      ],
      "text/plain": [
       "GlyphRenderer(id='6498', ...)"
      ]
     },
     "execution_count": 119,
     "metadata": {},
     "output_type": "execute_result"
    }
   ],
   "source": [
    "# prep some data\n",
    "x = income_df.index\n",
    "\n",
    "y1 = income_df['Revenue']\n",
    "y2 = income_df['Net Income Common']\n",
    "y3 = balance_df['Total Assets']\n",
    "y4 = balance_df['Total current liabilities']\n",
    "\n",
    "p = figure(title='Example', x_axis_label='x',y_axis_label='y')\n",
    "\n",
    "p.circle(x,y1,line_color='green',size=12,fill_alpha=0.25)\n",
    "p.circle(x,y2,size=12,fill_alpha=0.25)\n",
    "p.circle(x,y3,color='black',size=12,fill_alpha=0.25)\n",
    "p.circle(x,y4,color='red',size=12,fill_alpha=0.25)"
   ]
  },
  {
   "cell_type": "code",
   "execution_count": 129,
   "metadata": {},
   "outputs": [
    {
     "data": {
      "text/html": [
       "<div style=\"display: table;\"><div style=\"display: table-row;\"><div style=\"display: table-cell;\"><b title=\"bokeh.models.renderers.GlyphRenderer\">GlyphRenderer</b>(</div><div style=\"display: table-cell;\">id&nbsp;=&nbsp;'7533', <span id=\"7536\" style=\"cursor: pointer;\">&hellip;)</span></div></div><div class=\"7535\" style=\"display: none;\"><div style=\"display: table-cell;\"></div><div style=\"display: table-cell;\">data_source&nbsp;=&nbsp;ColumnDataSource(id='7530', ...),</div></div><div class=\"7535\" style=\"display: none;\"><div style=\"display: table-cell;\"></div><div style=\"display: table-cell;\">glyph&nbsp;=&nbsp;Circle(id='7531', ...),</div></div><div class=\"7535\" style=\"display: none;\"><div style=\"display: table-cell;\"></div><div style=\"display: table-cell;\">hover_glyph&nbsp;=&nbsp;None,</div></div><div class=\"7535\" style=\"display: none;\"><div style=\"display: table-cell;\"></div><div style=\"display: table-cell;\">js_event_callbacks&nbsp;=&nbsp;{},</div></div><div class=\"7535\" style=\"display: none;\"><div style=\"display: table-cell;\"></div><div style=\"display: table-cell;\">js_property_callbacks&nbsp;=&nbsp;{},</div></div><div class=\"7535\" style=\"display: none;\"><div style=\"display: table-cell;\"></div><div style=\"display: table-cell;\">level&nbsp;=&nbsp;'glyph',</div></div><div class=\"7535\" style=\"display: none;\"><div style=\"display: table-cell;\"></div><div style=\"display: table-cell;\">muted&nbsp;=&nbsp;False,</div></div><div class=\"7535\" style=\"display: none;\"><div style=\"display: table-cell;\"></div><div style=\"display: table-cell;\">muted_glyph&nbsp;=&nbsp;None,</div></div><div class=\"7535\" style=\"display: none;\"><div style=\"display: table-cell;\"></div><div style=\"display: table-cell;\">name&nbsp;=&nbsp;None,</div></div><div class=\"7535\" style=\"display: none;\"><div style=\"display: table-cell;\"></div><div style=\"display: table-cell;\">nonselection_glyph&nbsp;=&nbsp;Circle(id='7532', ...),</div></div><div class=\"7535\" style=\"display: none;\"><div style=\"display: table-cell;\"></div><div style=\"display: table-cell;\">selection_glyph&nbsp;=&nbsp;None,</div></div><div class=\"7535\" style=\"display: none;\"><div style=\"display: table-cell;\"></div><div style=\"display: table-cell;\">subscribed_events&nbsp;=&nbsp;[],</div></div><div class=\"7535\" style=\"display: none;\"><div style=\"display: table-cell;\"></div><div style=\"display: table-cell;\">tags&nbsp;=&nbsp;[],</div></div><div class=\"7535\" style=\"display: none;\"><div style=\"display: table-cell;\"></div><div style=\"display: table-cell;\">view&nbsp;=&nbsp;CDSView(id='7534', ...),</div></div><div class=\"7535\" style=\"display: none;\"><div style=\"display: table-cell;\"></div><div style=\"display: table-cell;\">visible&nbsp;=&nbsp;True,</div></div><div class=\"7535\" style=\"display: none;\"><div style=\"display: table-cell;\"></div><div style=\"display: table-cell;\">x_range_name&nbsp;=&nbsp;'default',</div></div><div class=\"7535\" style=\"display: none;\"><div style=\"display: table-cell;\"></div><div style=\"display: table-cell;\">y_range_name&nbsp;=&nbsp;'default')</div></div></div>\n",
       "<script>\n",
       "(function() {\n",
       "  var expanded = false;\n",
       "  var ellipsis = document.getElementById(\"7536\");\n",
       "  ellipsis.addEventListener(\"click\", function() {\n",
       "    var rows = document.getElementsByClassName(\"7535\");\n",
       "    for (var i = 0; i < rows.length; i++) {\n",
       "      var el = rows[i];\n",
       "      el.style.display = expanded ? \"none\" : \"table-row\";\n",
       "    }\n",
       "    ellipsis.innerHTML = expanded ? \"&hellip;)\" : \"&lsaquo;&lsaquo;&lsaquo;\";\n",
       "    expanded = !expanded;\n",
       "  });\n",
       "})();\n",
       "</script>\n"
      ],
      "text/plain": [
       "GlyphRenderer(id='7533', ...)"
      ]
     },
     "execution_count": 129,
     "metadata": {},
     "output_type": "execute_result"
    }
   ],
   "source": [
    "# prep some data\n",
    "x = income_df.index\n",
    "\n",
    "y1 = balance_df['Cash and Short Term Investments']\n",
    "y2 = balance_df['Shareholders Equity (Tangible)']\n",
    "y3 = balance_df['Total Assets']\n",
    "y4 = balance_df['Total liabilities']\n",
    "y5 = balance_df['Total current assets']\n",
    "\n",
    "p = figure(title='Example', x_axis_label='x',y_axis_label='y')\n",
    "\n",
    "p.circle(x,y1,line_color='green',size=12,fill_alpha=0.25)\n",
    "p.circle(x,y2,color='blue',size=12,fill_alpha=0.25)\n",
    "p.circle(x,y3,color='black',size=12,fill_alpha=0.25)\n",
    "p.circle(x,y4,color='red',size=12,fill_alpha=0.25)\n",
    "p.circle(x,y5,color='gold',size=12,fill_alpha=0.25)"
   ]
  },
  {
   "cell_type": "code",
   "execution_count": 130,
   "metadata": {},
   "outputs": [],
   "source": [
    "show(p)"
   ]
  },
  {
   "cell_type": "code",
   "execution_count": null,
   "metadata": {},
   "outputs": [],
   "source": []
  }
 ],
 "metadata": {
  "kernelspec": {
   "display_name": "Python 3",
   "language": "python",
   "name": "python3"
  },
  "language_info": {
   "codemirror_mode": {
    "name": "ipython",
    "version": 3
   },
   "file_extension": ".py",
   "mimetype": "text/x-python",
   "name": "python",
   "nbconvert_exporter": "python",
   "pygments_lexer": "ipython3",
   "version": "3.8.5"
  }
 },
 "nbformat": 4,
 "nbformat_minor": 4
}
