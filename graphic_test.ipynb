{
 "cells": [
  {
   "cell_type": "markdown",
   "metadata": {},
   "source": [
    "# PROTOTYPE\n",
    "### Pulling financial data based on a ticker defined by user"
   ]
  },
  {
   "cell_type": "markdown",
   "metadata": {},
   "source": [
    "#### First run the imports"
   ]
  },
  {
   "cell_type": "code",
   "execution_count": 1,
   "metadata": {},
   "outputs": [],
   "source": [
    "import pandas as pd\n",
    "import numpy as np\n",
    "import matplotlib.pyplot as plt\n",
    "import seaborn as sns\n",
    "import csv\n",
    "import requests\n",
    "import os\n",
    "import time"
   ]
  },
  {
   "cell_type": "markdown",
   "metadata": {},
   "source": [
    "#### Run this cell too please :D\n",
    "\n",
    "This defines the function that pulls financial data. You may need to create a folder called \"Income\" in your directory"
   ]
  },
  {
   "cell_type": "code",
   "execution_count": 2,
   "metadata": {},
   "outputs": [],
   "source": [
    "def income_puller(ticker):\n",
    "    url=f'https://stockrow.com/api/companies/{ticker}/financials.xlsx?dimension=T&section=Income%20Statement&sort=desc'\n",
    "    response = requests.get(url)\n",
    "    with open(os.path.join(\"Income\", f\"{ticker}_inc.xlsx\"), 'wb') as f:\n",
    "        f.write(response.content)\n",
    "    time.sleep(0.25)\n",
    "    \n",
    "    ticker_df = pd.read_excel(f'./Income/{ticker}_inc.xlsx').T\n",
    "    # change the first row to the columns\n",
    "    ticker_df.columns = ticker_df.iloc[0]\n",
    "    #remove the first row\n",
    "    ticker_df = ticker_df.iloc[1:]\n",
    "    \n",
    "    return ticker_df"
   ]
  },
  {
   "cell_type": "code",
   "execution_count": 3,
   "metadata": {},
   "outputs": [],
   "source": [
    "stock_list = pd.read_csv('list_of_stocks.csv')"
   ]
  },
  {
   "cell_type": "code",
   "execution_count": 4,
   "metadata": {},
   "outputs": [],
   "source": [
    "# this function prompts the user for a ticker input\n",
    "# and calls the income_puller() function to return a DataFrame\n",
    "def ticker_input():\n",
    "    ticker = input('Please enter a ticker:').upper()\n",
    "    ticker_df = income_puller(ticker.upper())\n",
    "    return ticker_df, ticker"
   ]
  },
  {
   "cell_type": "markdown",
   "metadata": {},
   "source": [
    "#### Please run this cell and enter a ticker; let's see if it works!"
   ]
  },
  {
   "cell_type": "code",
   "execution_count": 5,
   "metadata": {},
   "outputs": [
    {
     "name": "stdin",
     "output_type": "stream",
     "text": [
      "Please enter a ticker: LMT\n"
     ]
    },
    {
     "data": {
      "image/png": "[encoded data removed]",
      "text/plain": [
       "<Figure size 432x288 with 1 Axes>"
      ]
     },
     "metadata": {
      "needs_background": "light"
     },
     "output_type": "display_data"
    }
   ],
   "source": [
    "# call the function and print charts\n",
    "ticker_df,ticker = ticker_input()\n",
    "ticker.upper()\n",
    "\n",
    "# plot the charts I like most\n",
    "sns.scatterplot(data=ticker_df,x=ticker_df.index,y='Revenue')\n",
    "sns.scatterplot(data=ticker_df,x=ticker_df.index,y='EBITDA')\n",
    "sns.scatterplot(data=ticker_df,x=ticker_df.index,y='Net Income Common')\n",
    "sns.scatterplot(data=ticker_df,x=ticker_df.index,y='Gross Profit').set(xlabel='x',ylabel='y')\n",
    "plt.legend(labels=['Revenue','EBITDA','Net Income','Gross Profit']);\n",
    "\n",
    "# this code is optional, \n",
    "# it may bounce errors if the ticker isn't in stocks_list \n",
    "# try big familiar tickers like JNJ or INTC to calibrate \n",
    "ticker_name = stock_list[stock_list['Ticker']==ticker]['Name'].to_string()\n",
    "plt.title(f'Income Statement data for {ticker_name[5:]}');\n"
   ]
  },
  {
   "cell_type": "code",
   "execution_count": null,
   "metadata": {},
   "outputs": [],
   "source": []
  },
  {
   "cell_type": "code",
   "execution_count": null,
   "metadata": {},
   "outputs": [],
   "source": []
  }
 ],
 "metadata": {
  "kernelspec": {
   "display_name": "Python 3",
   "language": "python",
   "name": "python3"
  },
  "language_info": {
   "codemirror_mode": {
    "name": "ipython",
    "version": 3
   },
   "file_extension": ".py",
   "mimetype": "text/x-python",
   "name": "python",
   "nbconvert_exporter": "python",
   "pygments_lexer": "ipython3",
   "version": "3.8.5"
  }
 },
 "nbformat": 4,
 "nbformat_minor": 4
}
