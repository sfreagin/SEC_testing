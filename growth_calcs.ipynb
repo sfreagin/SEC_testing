{
 "cells": [
  {
   "cell_type": "markdown",
   "metadata": {},
   "source": [
    "# Calculating Growth, DCF models"
   ]
  },
  {
   "cell_type": "code",
   "execution_count": null,
   "metadata": {},
   "outputs": [],
   "source": [
    "import pandas as pd\n",
    "import numpy as np\n",
    "import matplotlib.pyplot as plt\n",
    "import seaborn as sns"
   ]
  },
  {
   "cell_type": "code",
   "execution_count": null,
   "metadata": {},
   "outputs": [],
   "source": [
    "#pull the income statement, balance sheet, and cash flow statement as downloaded from stockrow.com\n",
    "ticker = 'AAPL'\n",
    "ticker_inc_df = pd.read_excel(f'./Income/{ticker}_inc.xlsx').T\n",
    "ticker_bal_df = pd.read_excel(f'./BalanceSheet/{ticker}_bal.xlsx').T\n",
    "ticker_cfl_df = pd.read_excel(f'./CashFlow/{ticker}_cashflow.xlsx').T\n",
    "\n",
    "# change the first row to be the column headers\n",
    "ticker_inc_df.columns = ticker_inc_df.iloc[0]\n",
    "ticker_bal_df.columns = ticker_bal_df.iloc[0]\n",
    "ticker_cfl_df.columns = ticker_cfl_df.iloc[0]\n",
    "\n",
    "#remove the first row\n",
    "ticker_inc_df = ticker_inc_df.iloc[1:]\n",
    "ticker_bal_df = ticker_bal_df.iloc[1:]\n",
    "ticker_cfl_df = ticker_cfl_df.iloc[1:]\n",
    "\n",
    "ticker_inc_df.head(2)"
   ]
  },
  {
   "cell_type": "markdown",
   "metadata": {},
   "source": [
    "#### Some data cleaning\n",
    "Set columns we want, combine into one DF, create a field for FreeCashFlow (FCF)"
   ]
  },
  {
   "cell_type": "code",
   "execution_count": null,
   "metadata": {},
   "outputs": [],
   "source": [
    "# these are the columns we're interested in\n",
    "inc_columns = ['Revenue','Gross Profit','Operating Income','Income Tax Provision', 'Net Income Common']\n",
    "bal_columns = ['Total Assets','Total current assets','Total liabilities','Total current liabilities',\n",
    "               'Shareholders Equity (Total)']#,'Shares (Common)']\n",
    "cfl_columns = ['Dividends Paid (Common)','Capital expenditures','Operating Cash Flow']#,'Equity Repurchase (Common, Net)']\n",
    "\n",
    "# this will apply only the columns above to each of our financial statement DataFrames\n",
    "ticker_inc_df = ticker_inc_df[inc_columns]\n",
    "ticker_bal_df = ticker_bal_df[bal_columns]\n",
    "ticker_cfl_df = ticker_cfl_df[cfl_columns]\n",
    "\n",
    "# this will combine or concatenate our three DataFrames into one\n",
    "ticker_df = pd.concat([ticker_inc_df,ticker_bal_df,ticker_cfl_df], axis=1)\n",
    "\n",
    "# defining a new column for FCF\n",
    "ticker_df['FreeCashFlow'] = ticker_df['Operating Cash Flow'] - ticker_df['Capital expenditures']\n",
    "\n",
    "ticker_df.head(2)"
   ]
  },
  {
   "cell_type": "code",
   "execution_count": null,
   "metadata": {},
   "outputs": [],
   "source": [
    "# TTM - Revenue\n",
    "plt.figure(figsize=(9,6))\n",
    "sns.scatterplot(x=ticker_df.index,y=ticker_df['Revenue'])\n",
    "plt.title('Trailing 12 months of Revenue for company')\n",
    "plt.ylabel('Revenue ($100B)');"
   ]
  },
  {
   "cell_type": "markdown",
   "metadata": {},
   "source": [
    "## Growth rates 1\n",
    "This method determines an average Revenue growth rate by taking the average of all 1-yr Revenue growth rates at t = 0, t = -1, t = -2 etc"
   ]
  },
  {
   "cell_type": "code",
   "execution_count": null,
   "metadata": {},
   "outputs": [],
   "source": [
    "# averaging all cumulative 1-yr revenue growths\n",
    "rev_growth_list = [((ticker_df['Revenue'][i] - ticker_df['Revenue'][i+4]) / ticker_df['Revenue'][i+4]) \n",
    "                   for i in range(0,len(ticker_df['Revenue'])-4)]\n",
    "\n",
    "print(f\"Avg 1-yr Revenue growth rate: {round(sum(rev_growth_list)/len(rev_growth_list)*100,2)}%\")"
   ]
  },
  {
   "cell_type": "markdown",
   "metadata": {},
   "source": [
    "##### Same for Free Cash Flow:"
   ]
  },
  {
   "cell_type": "code",
   "execution_count": null,
   "metadata": {},
   "outputs": [],
   "source": [
    "# averaging all FCF growth rates\n",
    "fcf_growth_list1 = [((ticker_df['FreeCashFlow'][i] - ticker_df['FreeCashFlow'][i+4]) / ticker_df['FreeCashFlow'][i+4]) \n",
    "                   for i in range(0,len(ticker_df['FreeCashFlow'])-4)]\n",
    "\n",
    "fcf_growth_rate1 = sum(fcf_growth_list1)/len(fcf_growth_list1)\n",
    "print(f\"Free Cash Flow average 1-yr growth rate: {round(fcf_growth_rate1*100,2)}%\")"
   ]
  },
  {
   "cell_type": "markdown",
   "metadata": {},
   "source": [
    "##### Same for *every* financial metric"
   ]
  },
  {
   "cell_type": "code",
   "execution_count": null,
   "metadata": {},
   "outputs": [],
   "source": [
    "#calculating all cumulative 1-yr average growths at once\n",
    "growth_list1 = []\n",
    "for col in ticker_df.columns:\n",
    "    try:\n",
    "        col_growth_list1 = [((ticker_df[col][i] - ticker_df[col][i+4]) / ticker_df[col][i+4]) \n",
    "                           for i in range(0,len(ticker_df[col])-4)]\n",
    "        print(f\"Avg growth for {col} is {sum(col_growth_list1)/len(col_growth_list1)}\")\n",
    "        growth_list1.append(sum(col_growth_list1)/len(col_growth_list1))\n",
    "    except:\n",
    "        print(f\"{col} throws an error\")\n",
    "\n",
    "all_metrics_growth_rate1 = sum(growth_list1)/len(growth_list1) \n",
    "print(f\"Avg growth: {all_metrics_growth_rate1}\")"
   ]
  },
  {
   "cell_type": "code",
   "execution_count": null,
   "metadata": {},
   "outputs": [],
   "source": [
    "# this code sorts the growth rates from low to high, \n",
    "# then it removes the top 2 and lowest 2\n",
    "growth_list1.sort()\n",
    "normalized_ticker_growth1 = sum(growth_list1[2:-2]) / len(growth_list1[2:-2])\n",
    "\n",
    "print(f\"The 'normalized' growth rate for (almost all) metrics: {round(normalized_ticker_growth1*100,2)}%\")"
   ]
  },
  {
   "cell_type": "markdown",
   "metadata": {},
   "source": []
  },
  {
   "cell_type": "markdown",
   "metadata": {},
   "source": [
    "## Growth rates 2\n",
    "This method determines an average Revenue growth rate by taking the 1-yr, 2-yr, 3-yr etc. growth rates and averaging them all together"
   ]
  },
  {
   "cell_type": "code",
   "execution_count": null,
   "metadata": {},
   "outputs": [],
   "source": [
    "#this version only considers growth rate starting from t = 0, looking backwards at quarterly data\n",
    "fcf_growth_list2 = [((1+((ticker_df['FreeCashFlow'][0] - ticker_df['FreeCashFlow'][i+4]) / ticker_df['FreeCashFlow'][i+4]))**(1/(1+i/4))-1) \n",
    "                    for i in range(len(ticker_df['FreeCashFlow'])-4)]\n",
    "\n",
    "fcf_growth_rate2 = sum(fcf_growth_list2)/len(fcf_growth_list2)\n",
    "print(f\"Free Cash Flow avg growth rate last decade: {round(fcf_growth_rate2*100,2)}%\")"
   ]
  },
  {
   "cell_type": "code",
   "execution_count": null,
   "metadata": {},
   "outputs": [],
   "source": [
    "growth_list2 = []\n",
    "for col in ticker_df.columns:\n",
    "    try:\n",
    "        col_growth_list2 = [((1+((ticker_df[col][0] - ticker_df[col][i+4]) / ticker_df[col][i+4]))**(1/(1+i/4))-1) \n",
    "                            for i in range(len(ticker_df[col])-4)]\n",
    "        print(f\"Avg growth for {col} is {sum(col_growth_list2)/len(col_growth_list2)}\")\n",
    "        growth_list2.append(sum(col_growth_list2)/len(col_growth_list2))\n",
    "    except:\n",
    "        print(f'{col} throws an error')\n",
    "        \n",
    "all_metrics_growth_rate2 = sum(growth_list2)/len(growth_list2) \n",
    "print(f\"Avg growth of all metrics: {all_metrics_growth_rate2}\")"
   ]
  },
  {
   "cell_type": "code",
   "execution_count": null,
   "metadata": {},
   "outputs": [],
   "source": [
    "# this code sorts the growth rates from low to high, \n",
    "# then it removes the top 2 and lowest 2\n",
    "growth_list2.sort()\n",
    "normalized_ticker_growth2 = sum(growth_list2[2:-2]) / len(growth_list2[2:-2])\n",
    "\n",
    "print(f\"The 'normalized' growth rate for (almost all) metrics: {round(normalized_ticker_growth2*100,2)}%\")"
   ]
  },
  {
   "cell_type": "code",
   "execution_count": null,
   "metadata": {},
   "outputs": [],
   "source": []
  },
  {
   "cell_type": "markdown",
   "metadata": {},
   "source": [
    "## DCF Models"
   ]
  },
  {
   "cell_type": "code",
   "execution_count": null,
   "metadata": {},
   "outputs": [],
   "source": [
    "# DCF using the treasury rate as the discount rate and avg. FCF growth as growth rate\n",
    "discount_rate = 0.0163\n",
    "\n",
    "def dcf_maker(ticker_df,growth_rate,discount_rate,years):\n",
    "    # we start at zero, then incrementally add each subsequent year's FCF\n",
    "    fcf_over_time = 0\n",
    "    # our base will be the most recent year's FCF\n",
    "    fcf_start = ticker_df['FreeCashFlow'][0]\n",
    "\n",
    "    # covering a range of 10 years\n",
    "    for i in range(1,years+1):\n",
    "        fcf_over_time += fcf_start * (1+growth_rate)**i / (1+discount_rate)**i\n",
    "\n",
    "    print(f\"Total FCF: ${round(fcf_over_time/1_000_000_000,1)} billion\")\n",
    "    return fcf_over_time"
   ]
  },
  {
   "cell_type": "code",
   "execution_count": null,
   "metadata": {},
   "outputs": [],
   "source": [
    "test1 = dcf_maker(ticker_df=ticker_df,growth_rate=0.1,discount_rate=0.0163,years=10)"
   ]
  },
  {
   "cell_type": "code",
   "execution_count": null,
   "metadata": {},
   "outputs": [],
   "source": [
    "all_growth_rates = [fcf_growth_rate1,fcf_growth_rate2,all_metrics_growth_rate1,all_metrics_growth_rate2,\n",
    "                    normalized_ticker_growth1, normalized_ticker_growth2]\n",
    "discount_list = np.linspace(0.01,0.08,20).tolist()\n",
    "year_list = [8,9,10,11,12]\n",
    "\n",
    "fcf_values_list = []\n",
    "for rate in all_growth_rates:\n",
    "    for discount in discount_list:\n",
    "        for year in year_list:\n",
    "            #print(f\"Growth rate: {round(rate*100,2)}%, Discount rate: {round(discount*100,2)}%, Years: {year}\")\n",
    "            fcf_values_list.append(dcf_maker(ticker_df,rate,discount,year))"
   ]
  },
  {
   "cell_type": "code",
   "execution_count": null,
   "metadata": {},
   "outputs": [],
   "source": [
    "sum(fcf_values_list) / len(fcf_values_list) / 1000000000"
   ]
  },
  {
   "cell_type": "code",
   "execution_count": null,
   "metadata": {},
   "outputs": [],
   "source": [
    "fcf_values_list.sort\n",
    "len(fcf_values_list)\n",
    "plt.hist(fcf_values_list,bins=50);"
   ]
  },
  {
   "cell_type": "code",
   "execution_count": null,
   "metadata": {},
   "outputs": [],
   "source": [
    "from bokeh.io import show, output_file\n",
    "from bokeh.plotting import figure\n",
    "\n",
    "data = fcf_values_list\n",
    "hist, edges = np.histogram(data, density=True, bins=50)\n",
    "\n",
    "p = figure()\n",
    "p.quad(top=hist, bottom=0, left=edges[:-1], right=edges[1:], line_color=\"white\")\n",
    "\n",
    "output_file(\"hist.html\")\n",
    "show(p)"
   ]
  },
  {
   "cell_type": "code",
   "execution_count": null,
   "metadata": {},
   "outputs": [],
   "source": []
  },
  {
   "cell_type": "code",
   "execution_count": null,
   "metadata": {},
   "outputs": [],
   "source": []
  },
  {
   "cell_type": "code",
   "execution_count": null,
   "metadata": {},
   "outputs": [],
   "source": []
  },
  {
   "cell_type": "code",
   "execution_count": null,
   "metadata": {},
   "outputs": [],
   "source": [
    "growth_rate = fcf_growth_rate1\n",
    "discount_rate = 0.05\n",
    "years=15\n",
    "\n",
    "dcf_maker(ticker_df,growth_rate,discount_rate,years)"
   ]
  },
  {
   "cell_type": "code",
   "execution_count": null,
   "metadata": {},
   "outputs": [],
   "source": [
    "np.linspace(0.01,0.15,15)"
   ]
  },
  {
   "cell_type": "code",
   "execution_count": null,
   "metadata": {},
   "outputs": [],
   "source": []
  },
  {
   "cell_type": "code",
   "execution_count": null,
   "metadata": {},
   "outputs": [],
   "source": []
  },
  {
   "cell_type": "code",
   "execution_count": null,
   "metadata": {},
   "outputs": [],
   "source": [
    "# Calculate most recent FCF, next year FCF, and discount next year's FCF\n",
    "# discount_rate is treasury rate here\n",
    "bill = 1_000_000_000\n",
    "discount_rate = 0.0163\n",
    "\n",
    "print(f\"Most recent FCF: ${round(ticker_df['FreeCashFlow'][0]/bill,2)} billion\")\n",
    "print(f\"Next year FCF: ${round(ticker_df['FreeCashFlow'][0]*(1+fcf_growth_rate1)/bill,2)} billion\")\n",
    "print(f\"Next year FCF, discounted: ${round(ticker_df['FreeCashFlow'][0]*(1+fcf_growth_rate1)**(1)/(1+discount_rate)/bill,2)} billion\")"
   ]
  },
  {
   "cell_type": "code",
   "execution_count": null,
   "metadata": {},
   "outputs": [],
   "source": [
    "# DCF using the treasury rate as the discount rate and avg. FCF growth as growth rate\n",
    "treasury_rate = 0.0163\n",
    "# we start at zero, then incrementally add each subsequent year's FCF\n",
    "fcf_over_time1 = 0\n",
    "# our base will be the most recent year's FCF\n",
    "fcf_start = ticker_df['FreeCashFlow'][0]\n",
    "\n",
    "# covering a range of 10 years\n",
    "for i in range(1,10+1):\n",
    "    fcf_over_time1 += fcf_start * (1+fcf_growth_rate1)**i / (1+treasury_rate)**i\n",
    "    print(f\"Year {i}: ${round(fcf_start * (1+fcf_growth_rate1)**i / (1+treasury_rate)**i / 1_000_000_000,1)} billion\")\n",
    "\n",
    "print(f\"Total FCF: ${round(fcf_over_time1/1_000_000_000,1)} billion\")"
   ]
  },
  {
   "cell_type": "code",
   "execution_count": null,
   "metadata": {},
   "outputs": [],
   "source": [
    "# DCF using 5% as the discount rate and avg. FCF growth as growth rate\n",
    "discount_rate = 0.05\n",
    "# we start at zero, then incrementally add each subsequent year's FCF\n",
    "fcf_over_time = 0\n",
    "# our base will be the most recent year's FCF\n",
    "fcf_start = ticker_df['FreeCashFlow'][0]\n",
    "\n",
    "# covering a range of 15 years\n",
    "for i in range(1,15+1):\n",
    "    fcf_over_time += fcf_start * (1+fcf_growth_rate1)**i / (1+discount_rate)**i\n",
    "    print(f\"Year {i}: ${round(fcf_start * (1+fcf_growth_rate1)**i / (1+discount_rate)**i / 1_000_000_000,1)} billion\")\n",
    "\n",
    "print(f\"Total FCF: ${round(fcf_over_time/1_000_000_000,1)} billion\")"
   ]
  },
  {
   "cell_type": "code",
   "execution_count": null,
   "metadata": {},
   "outputs": [],
   "source": [
    "# turning FCF into per-share stock price predictions\n",
    "ticker_fcf1 = round(fcf_over_time1/ticker_df['Shares (Common)'][0],2)\n",
    "ticker_fcf2 = round(fcf_over_time/ticker_df['Shares (Common)'][0],2)\n",
    "\n",
    "avg_fcf = round((ticker_fcf1 + ticker_fcf2)/2,2)\n",
    "\n",
    "print(f\"Total FCF per share, v1: ${ticker_fcf1}\")\n",
    "print(f\"Total FCF per share, v2: ${ticker_fcf2}\")\n",
    "print(f\"Average FCF per share: ${avg_fcf}\")"
   ]
  },
  {
   "cell_type": "code",
   "execution_count": null,
   "metadata": {},
   "outputs": [],
   "source": [
    "# DCF using treasury as discount rate and all AAPL growth as growth rate\n",
    "treasury_rate = 0.05\n",
    "fcf_over_time = 0\n",
    "fcf_start = ticker_df['FreeCashFlow'][0]\n",
    "for i in range(1,15+1):\n",
    "    fcf_over_time += fcf_start * (1+normalized_ticker_growth)**i / (1+treasury_rate)**i\n",
    "\n",
    "fcf_over_time/1_000_000_000"
   ]
  },
  {
   "cell_type": "code",
   "execution_count": null,
   "metadata": {},
   "outputs": [],
   "source": [
    "# if total growth over 5 years is 180%\n",
    "# then the growth rate is:\n",
    "growth_180 = 1.8**(1/5)\n",
    "growth_180"
   ]
  },
  {
   "cell_type": "code",
   "execution_count": null,
   "metadata": {},
   "outputs": [],
   "source": [
    "for i in range(0,25):\n",
    "    print(f\"{1+i/4} - {1.80**(1/(1+i/4))}\")"
   ]
  },
  {
   "cell_type": "code",
   "execution_count": null,
   "metadata": {},
   "outputs": [],
   "source": []
  },
  {
   "cell_type": "code",
   "execution_count": null,
   "metadata": {},
   "outputs": [],
   "source": []
  }
 ],
 "metadata": {
  "kernelspec": {
   "display_name": "Python 3",
   "language": "python",
   "name": "python3"
  },
  "language_info": {
   "codemirror_mode": {
    "name": "ipython",
    "version": 3
   },
   "file_extension": ".py",
   "mimetype": "text/x-python",
   "name": "python",
   "nbconvert_exporter": "python",
   "pygments_lexer": "ipython3",
   "version": "3.8.5"
  }
 },
 "nbformat": 4,
 "nbformat_minor": 4
}
