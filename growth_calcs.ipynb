{
 "cells": [
  {
   "cell_type": "code",
   "execution_count": 2,
   "metadata": {},
   "outputs": [],
   "source": [
    "import pandas as pd\n",
    "import numpy as np\n",
    "import matplotlib.pyplot as plt\n",
    "import seaborn as sns"
   ]
  },
  {
   "cell_type": "code",
   "execution_count": 3,
   "metadata": {},
   "outputs": [
    {
     "data": {
      "text/html": [
       "<div>\n",
       "<style scoped>\n",
       "    .dataframe tbody tr th:only-of-type {\n",
       "        vertical-align: middle;\n",
       "    }\n",
       "\n",
       "    .dataframe tbody tr th {\n",
       "        vertical-align: top;\n",
       "    }\n",
       "\n",
       "    .dataframe thead th {\n",
       "        text-align: right;\n",
       "    }\n",
       "</style>\n",
       "<table border=\"1\" class=\"dataframe\">\n",
       "  <thead>\n",
       "    <tr style=\"text-align: right;\">\n",
       "      <th>Unnamed: 0</th>\n",
       "      <th>Revenue</th>\n",
       "      <th>Cost of Revenue</th>\n",
       "      <th>Gross Profit</th>\n",
       "      <th>R&amp;D Expenses</th>\n",
       "      <th>SG&amp;A Expenses</th>\n",
       "      <th>Operating Income</th>\n",
       "      <th>Interest Expense (Operating)</th>\n",
       "      <th>Non-operating Income/Expense</th>\n",
       "      <th>Non-operating Interest Expenses</th>\n",
       "      <th>EBT</th>\n",
       "      <th>...</th>\n",
       "      <th>Free Cash Flow Margin</th>\n",
       "      <th>EBITDA</th>\n",
       "      <th>EBIT</th>\n",
       "      <th>EPS (Diluted, from Cont. Ops)</th>\n",
       "      <th>EPS (Basic, Consolidated)</th>\n",
       "      <th>EPS (Basic, from Continuous Ops)</th>\n",
       "      <th>Income from Continuous Operations</th>\n",
       "      <th>Consolidated Net Income/Loss</th>\n",
       "      <th>EBITDA Margin</th>\n",
       "      <th>Operating Cash Flow Margin</th>\n",
       "    </tr>\n",
       "  </thead>\n",
       "  <tbody>\n",
       "    <tr>\n",
       "      <th>2021-03-31 00:00:00</th>\n",
       "      <td>3.25208e+11</td>\n",
       "      <td>1.98607e+11</td>\n",
       "      <td>1.26601e+11</td>\n",
       "      <td>2.0161e+10</td>\n",
       "      <td>2.0712e+10</td>\n",
       "      <td>8.8903e+10</td>\n",
       "      <td>2.639e+09</td>\n",
       "      <td>1e+07</td>\n",
       "      <td>3.134e+09</td>\n",
       "      <td>8.9628e+10</td>\n",
       "      <td>...</td>\n",
       "      <td>0.2782</td>\n",
       "      <td>9.6645e+10</td>\n",
       "      <td>8.8903e+10</td>\n",
       "      <td>4.4649</td>\n",
       "      <td>4.5129</td>\n",
       "      <td>4.5129</td>\n",
       "      <td>7.6311e+10</td>\n",
       "      <td>7.6311e+10</td>\n",
       "      <td>0.2972</td>\n",
       "      <td>0.3062</td>\n",
       "    </tr>\n",
       "    <tr>\n",
       "      <th>2020-12-31 00:00:00</th>\n",
       "      <td>2.93971e+11</td>\n",
       "      <td>1.80236e+11</td>\n",
       "      <td>1.13735e+11</td>\n",
       "      <td>1.9464e+10</td>\n",
       "      <td>2.035e+10</td>\n",
       "      <td>7.4253e+10</td>\n",
       "      <td>2.726e+09</td>\n",
       "      <td>-7.46e+08</td>\n",
       "      <td>3.465e+09</td>\n",
       "      <td>7.4752e+10</td>\n",
       "      <td>...</td>\n",
       "      <td>0.2729</td>\n",
       "      <td>8.4827e+10</td>\n",
       "      <td>7.4253e+10</td>\n",
       "      <td>3.7076</td>\n",
       "      <td>3.7474</td>\n",
       "      <td>3.7474</td>\n",
       "      <td>6.393e+10</td>\n",
       "      <td>6.393e+10</td>\n",
       "      <td>0.2886</td>\n",
       "      <td>0.3025</td>\n",
       "    </tr>\n",
       "  </tbody>\n",
       "</table>\n",
       "<p>2 rows × 28 columns</p>\n",
       "</div>"
      ],
      "text/plain": [
       "Unnamed: 0               Revenue Cost of Revenue Gross Profit R&D Expenses  \\\n",
       "2021-03-31 00:00:00  3.25208e+11     1.98607e+11  1.26601e+11   2.0161e+10   \n",
       "2020-12-31 00:00:00  2.93971e+11     1.80236e+11  1.13735e+11   1.9464e+10   \n",
       "\n",
       "Unnamed: 0          SG&A Expenses Operating Income  \\\n",
       "2021-03-31 00:00:00    2.0712e+10       8.8903e+10   \n",
       "2020-12-31 00:00:00     2.035e+10       7.4253e+10   \n",
       "\n",
       "Unnamed: 0          Interest Expense (Operating) Non-operating Income/Expense  \\\n",
       "2021-03-31 00:00:00                    2.639e+09                        1e+07   \n",
       "2020-12-31 00:00:00                    2.726e+09                    -7.46e+08   \n",
       "\n",
       "Unnamed: 0          Non-operating Interest Expenses         EBT  ...  \\\n",
       "2021-03-31 00:00:00                       3.134e+09  8.9628e+10  ...   \n",
       "2020-12-31 00:00:00                       3.465e+09  7.4752e+10  ...   \n",
       "\n",
       "Unnamed: 0          Free Cash Flow Margin      EBITDA        EBIT  \\\n",
       "2021-03-31 00:00:00                0.2782  9.6645e+10  8.8903e+10   \n",
       "2020-12-31 00:00:00                0.2729  8.4827e+10  7.4253e+10   \n",
       "\n",
       "Unnamed: 0          EPS (Diluted, from Cont. Ops) EPS (Basic, Consolidated)  \\\n",
       "2021-03-31 00:00:00                        4.4649                    4.5129   \n",
       "2020-12-31 00:00:00                        3.7076                    3.7474   \n",
       "\n",
       "Unnamed: 0          EPS (Basic, from Continuous Ops)  \\\n",
       "2021-03-31 00:00:00                           4.5129   \n",
       "2020-12-31 00:00:00                           3.7474   \n",
       "\n",
       "Unnamed: 0          Income from Continuous Operations  \\\n",
       "2021-03-31 00:00:00                        7.6311e+10   \n",
       "2020-12-31 00:00:00                         6.393e+10   \n",
       "\n",
       "Unnamed: 0          Consolidated Net Income/Loss EBITDA Margin  \\\n",
       "2021-03-31 00:00:00                   7.6311e+10        0.2972   \n",
       "2020-12-31 00:00:00                    6.393e+10        0.2886   \n",
       "\n",
       "Unnamed: 0          Operating Cash Flow Margin  \n",
       "2021-03-31 00:00:00                     0.3062  \n",
       "2020-12-31 00:00:00                     0.3025  \n",
       "\n",
       "[2 rows x 28 columns]"
      ]
     },
     "execution_count": 3,
     "metadata": {},
     "output_type": "execute_result"
    }
   ],
   "source": [
    "#pull the income statement, balance sheet, and cash flow statement \n",
    "# as downloaded from stockrow.com\n",
    "aapl_inc_df = pd.read_excel(f'./Income/AAPL_inc.xlsx').T\n",
    "aapl_bal_df = pd.read_excel(f'./BalanceSheet/AAPL_bal.xlsx').T\n",
    "aapl_cfl_df = pd.read_excel(f'./CashFlow/AAPL_cashflow.xlsx').T\n",
    "\n",
    "# change the first row to be the column headers\n",
    "aapl_inc_df.columns = aapl_inc_df.iloc[0]\n",
    "aapl_bal_df.columns = aapl_bal_df.iloc[0]\n",
    "aapl_cfl_df.columns = aapl_cfl_df.iloc[0]\n",
    "\n",
    "#remove the first row\n",
    "aapl_inc_df = aapl_inc_df.iloc[1:]\n",
    "aapl_bal_df = aapl_bal_df.iloc[1:]\n",
    "aapl_cfl_df = aapl_cfl_df.iloc[1:]\n",
    "\n",
    "aapl_inc_df.head(2)"
   ]
  },
  {
   "cell_type": "code",
   "execution_count": null,
   "metadata": {},
   "outputs": [],
   "source": []
  },
  {
   "cell_type": "code",
   "execution_count": 4,
   "metadata": {},
   "outputs": [
    {
     "data": {
      "text/html": [
       "<div>\n",
       "<style scoped>\n",
       "    .dataframe tbody tr th:only-of-type {\n",
       "        vertical-align: middle;\n",
       "    }\n",
       "\n",
       "    .dataframe tbody tr th {\n",
       "        vertical-align: top;\n",
       "    }\n",
       "\n",
       "    .dataframe thead th {\n",
       "        text-align: right;\n",
       "    }\n",
       "</style>\n",
       "<table border=\"1\" class=\"dataframe\">\n",
       "  <thead>\n",
       "    <tr style=\"text-align: right;\">\n",
       "      <th>Unnamed: 0</th>\n",
       "      <th>Revenue</th>\n",
       "      <th>Gross Profit</th>\n",
       "      <th>Operating Income</th>\n",
       "      <th>Income Tax Provision</th>\n",
       "      <th>Net Income Common</th>\n",
       "      <th>Total Assets</th>\n",
       "      <th>Total current assets</th>\n",
       "      <th>Total liabilities</th>\n",
       "      <th>Total current liabilities</th>\n",
       "      <th>Shareholders Equity (Total)</th>\n",
       "      <th>Shares (Common)</th>\n",
       "      <th>Dividends Paid (Common)</th>\n",
       "      <th>Capital expenditures</th>\n",
       "      <th>Operating Cash Flow</th>\n",
       "      <th>Equity Repurchase (Common, Net)</th>\n",
       "    </tr>\n",
       "  </thead>\n",
       "  <tbody>\n",
       "    <tr>\n",
       "      <th>2021-03-31 00:00:00</th>\n",
       "      <td>3.25208e+11</td>\n",
       "      <td>1.26601e+11</td>\n",
       "      <td>8.8903e+10</td>\n",
       "      <td>1.3317e+10</td>\n",
       "      <td>7.6311e+10</td>\n",
       "      <td>3.37158e+11</td>\n",
       "      <td>1.21465e+11</td>\n",
       "      <td>2.6798e+11</td>\n",
       "      <td>1.06385e+11</td>\n",
       "      <td>6.9178e+10</td>\n",
       "      <td>1.66863e+10</td>\n",
       "      <td>-1.4227e+10</td>\n",
       "      <td>-9.118e+09</td>\n",
       "      <td>9.9591e+10</td>\n",
       "      <td>-7.539e+10</td>\n",
       "    </tr>\n",
       "    <tr>\n",
       "      <th>2020-12-31 00:00:00</th>\n",
       "      <td>2.93971e+11</td>\n",
       "      <td>1.13735e+11</td>\n",
       "      <td>7.4253e+10</td>\n",
       "      <td>1.0822e+10</td>\n",
       "      <td>6.393e+10</td>\n",
       "      <td>3.54054e+11</td>\n",
       "      <td>1.54106e+11</td>\n",
       "      <td>2.8783e+11</td>\n",
       "      <td>1.32507e+11</td>\n",
       "      <td>6.6224e+10</td>\n",
       "      <td>1.68233e+10</td>\n",
       "      <td>-1.4155e+10</td>\n",
       "      <td>-8.702e+09</td>\n",
       "      <td>8.8921e+10</td>\n",
       "      <td>-7.5549e+10</td>\n",
       "    </tr>\n",
       "  </tbody>\n",
       "</table>\n",
       "</div>"
      ],
      "text/plain": [
       "Unnamed: 0               Revenue Gross Profit Operating Income  \\\n",
       "2021-03-31 00:00:00  3.25208e+11  1.26601e+11       8.8903e+10   \n",
       "2020-12-31 00:00:00  2.93971e+11  1.13735e+11       7.4253e+10   \n",
       "\n",
       "Unnamed: 0          Income Tax Provision Net Income Common Total Assets  \\\n",
       "2021-03-31 00:00:00           1.3317e+10        7.6311e+10  3.37158e+11   \n",
       "2020-12-31 00:00:00           1.0822e+10         6.393e+10  3.54054e+11   \n",
       "\n",
       "Unnamed: 0          Total current assets Total liabilities  \\\n",
       "2021-03-31 00:00:00          1.21465e+11        2.6798e+11   \n",
       "2020-12-31 00:00:00          1.54106e+11        2.8783e+11   \n",
       "\n",
       "Unnamed: 0          Total current liabilities Shareholders Equity (Total)  \\\n",
       "2021-03-31 00:00:00               1.06385e+11                  6.9178e+10   \n",
       "2020-12-31 00:00:00               1.32507e+11                  6.6224e+10   \n",
       "\n",
       "Unnamed: 0          Shares (Common) Dividends Paid (Common)  \\\n",
       "2021-03-31 00:00:00     1.66863e+10             -1.4227e+10   \n",
       "2020-12-31 00:00:00     1.68233e+10             -1.4155e+10   \n",
       "\n",
       "Unnamed: 0          Capital expenditures Operating Cash Flow  \\\n",
       "2021-03-31 00:00:00           -9.118e+09          9.9591e+10   \n",
       "2020-12-31 00:00:00           -8.702e+09          8.8921e+10   \n",
       "\n",
       "Unnamed: 0          Equity Repurchase (Common, Net)  \n",
       "2021-03-31 00:00:00                      -7.539e+10  \n",
       "2020-12-31 00:00:00                     -7.5549e+10  "
      ]
     },
     "execution_count": 4,
     "metadata": {},
     "output_type": "execute_result"
    }
   ],
   "source": [
    "# these are the columns we're interested in\n",
    "inc_columns = ['Revenue','Gross Profit','Operating Income','Income Tax Provision', 'Net Income Common']\n",
    "bal_columns = ['Total Assets','Total current assets','Total liabilities','Total current liabilities',\n",
    "               'Shareholders Equity (Total)','Shares (Common)']\n",
    "cfl_columns = ['Dividends Paid (Common)','Capital expenditures','Operating Cash Flow','Equity Repurchase (Common, Net)']\n",
    "\n",
    "# this will apply only the columns above to each of our financial statement DataFrames\n",
    "aapl_inc_df = aapl_inc_df[inc_columns]\n",
    "aapl_bal_df = aapl_bal_df[bal_columns]\n",
    "aapl_cfl_df = aapl_cfl_df[cfl_columns]\n",
    "\n",
    "# this will combine or concatenate our three DataFrames into one\n",
    "aapl_df = pd.concat([aapl_inc_df,aapl_bal_df,aapl_cfl_df], axis=1)\n",
    "\n",
    "aapl_df.head(2)"
   ]
  },
  {
   "cell_type": "code",
   "execution_count": 5,
   "metadata": {},
   "outputs": [
    {
     "data": {
      "image/png": "[encoded data removed]",
      "text/plain": [
       "<Figure size 648x432 with 1 Axes>"
      ]
     },
     "metadata": {
      "needs_background": "light"
     },
     "output_type": "display_data"
    }
   ],
   "source": [
    "# TTM - Revenue\n",
    "plt.figure(figsize=(9,6))\n",
    "sns.scatterplot(x=aapl_df.index,y=aapl_df['Revenue'])\n",
    "plt.title('Trailing 12 months of Revenue for Apple, Inc')\n",
    "plt.ylabel('Revenue ($100B)');"
   ]
  },
  {
   "cell_type": "code",
   "execution_count": 6,
   "metadata": {},
   "outputs": [
    {
     "data": {
      "text/plain": [
       "0.21339477268063356"
      ]
     },
     "execution_count": 6,
     "metadata": {},
     "output_type": "execute_result"
    }
   ],
   "source": [
    "# 1-year growth rate, last year of the dataset\n",
    "(aapl_df['Revenue'][0] - aapl_df['Revenue'][4]) / aapl_df['Revenue'][4]"
   ]
  },
  {
   "cell_type": "code",
   "execution_count": 7,
   "metadata": {},
   "outputs": [
    {
     "data": {
      "text/plain": [
       "0.12165355461657912"
      ]
     },
     "execution_count": 7,
     "metadata": {},
     "output_type": "execute_result"
    }
   ],
   "source": [
    "# 2-year growth rate, last year of the dataset\n",
    "(1 + (aapl_df['Revenue'][0] - aapl_df['Revenue'][8]) / aapl_df['Revenue'][8])**(1/2)-1"
   ]
  },
  {
   "cell_type": "code",
   "execution_count": 8,
   "metadata": {},
   "outputs": [
    {
     "data": {
      "text/plain": [
       "0.11133725497985407"
      ]
     },
     "execution_count": 8,
     "metadata": {},
     "output_type": "execute_result"
    }
   ],
   "source": [
    "# averaging all 1-yr revenue growths\n",
    "rev_growth_list = [((aapl_df['Revenue'][i] - aapl_df['Revenue'][i+4]) / aapl_df['Revenue'][i+4]) \n",
    "                   for i in range(0,len(aapl_df['Revenue'])-4)]\n",
    "\n",
    "sum(rev_growth_list)/len(rev_growth_list)"
   ]
  },
  {
   "cell_type": "code",
   "execution_count": 9,
   "metadata": {},
   "outputs": [
    {
     "name": "stdout",
     "output_type": "stream",
     "text": [
      "Avg growth for Revenue is 0.11133725497985407\n",
      "Avg growth for Gross Profit is 0.10594369552209343\n",
      "Avg growth for Operating Income is 0.08996071324022206\n",
      "Avg growth for Income Tax Provision is 0.041693283427884045\n",
      "Avg growth for Net Income Common is 0.1034889307872158\n",
      "Avg growth for Total Assets is 0.1229159743282768\n",
      "Avg growth for Total current assets is 0.13270611753933415\n",
      "Avg growth for Total liabilities is 0.23556981918745235\n",
      "Avg growth for Total current liabilities is 0.1623257958285469\n",
      "Avg growth for Shareholders Equity (Total) is -0.003583780903502146\n",
      "Avg growth for Shares (Common) is -0.046694381827137886\n",
      "Dividends Paid (Common) throws an error\n",
      "Avg growth for Capital expenditures is 0.12999951725249131\n",
      "Avg growth for Operating Cash Flow is 0.1006475188816269\n",
      "Avg growth for Equity Repurchase (Common, Net) is -0.32919617910389176\n",
      "Avg growth: 0.06836530565289042\n"
     ]
    }
   ],
   "source": [
    "#calculating all average growths at once\n",
    "growth_list = []\n",
    "for col in aapl_df.columns:\n",
    "    try:\n",
    "        col_growth_list = [((aapl_df[col][i] - aapl_df[col][i+4]) / aapl_df[col][i+4]) \n",
    "                           for i in range(0,len(aapl_df[col])-4)]\n",
    "        print(f\"Avg growth for {col} is {sum(col_growth_list)/len(col_growth_list)}\")\n",
    "        growth_list.append(sum(col_growth_list)/len(col_growth_list))\n",
    "    except:\n",
    "        print(f\"{col} throws an error\")\n",
    "\n",
    "print(f\"Avg growth: {sum(growth_list)/len(growth_list)}\")"
   ]
  },
  {
   "cell_type": "code",
   "execution_count": 10,
   "metadata": {},
   "outputs": [
    {
     "data": {
      "text/plain": [
       "0.09351092250554965"
      ]
     },
     "execution_count": 10,
     "metadata": {},
     "output_type": "execute_result"
    }
   ],
   "source": [
    "# this code sorts the growth rates from low to high, \n",
    "# then it removes the top 2 and lowest 2\n",
    "growth_list.sort()\n",
    "normalized_aapl_growth = sum(growth_list[2:-2]) / len(growth_list[2:-2])\n",
    "normalized_aapl_growth"
   ]
  },
  {
   "cell_type": "code",
   "execution_count": 11,
   "metadata": {},
   "outputs": [],
   "source": [
    "# defining a new column for FCF\n",
    "aapl_df['FreeCashFlow'] = aapl_df['Operating Cash Flow'] - aapl_df['Capital expenditures']"
   ]
  },
  {
   "cell_type": "code",
   "execution_count": null,
   "metadata": {},
   "outputs": [],
   "source": []
  },
  {
   "cell_type": "code",
   "execution_count": 12,
   "metadata": {},
   "outputs": [
    {
     "name": "stdout",
     "output_type": "stream",
     "text": [
      "Free Cash Flow average 1-yr growth rate: 10.03%\n"
     ]
    }
   ],
   "source": [
    "# averaging all FCF growth rates\n",
    "fcf_growth_list = [((aapl_df['FreeCashFlow'][i] - aapl_df['FreeCashFlow'][i+4]) / aapl_df['FreeCashFlow'][i+4]) \n",
    "                   for i in range(0,len(aapl_df['FreeCashFlow'])-4)]\n",
    "\n",
    "fcf_growth_rate1 = sum(fcf_growth_list)/len(fcf_growth_list)\n",
    "print(f\"Free Cash Flow average 1-yr growth rate: {round(fcf_growth_rate1*100,2)}%\")"
   ]
  },
  {
   "cell_type": "code",
   "execution_count": 63,
   "metadata": {},
   "outputs": [
    {
     "name": "stdout",
     "output_type": "stream",
     "text": [
      "Most recent FCF: $108.71 billion\n",
      "Next year FCF: $119.62 billion\n",
      "Next year FCF, discounted: $117.7 billion\n"
     ]
    }
   ],
   "source": [
    "# Calculate most recent FCF, next year FCF, and discount next year's FCF\n",
    "bill = 1_000_000_000\n",
    "discount_rate = 0.0163\n",
    "\n",
    "print(f\"Most recent FCF: ${round(aapl_df['FreeCashFlow'][0]/bill,2)} billion\")\n",
    "print(f\"Next year FCF: ${round(aapl_df['FreeCashFlow'][0]*(1+fcf_growth_rate1)/bill,2)} billion\")\n",
    "print(f\"Next year FCF, discounted: ${round(aapl_df['FreeCashFlow'][0]*(1+fcf_growth_rate1)**(1)/(1+discount_rate)/bill,2)} billion\")"
   ]
  },
  {
   "cell_type": "code",
   "execution_count": 30,
   "metadata": {},
   "outputs": [
    {
     "data": {
      "text/plain": [
       "119.61614903383273"
      ]
     },
     "execution_count": 30,
     "metadata": {},
     "output_type": "execute_result"
    }
   ],
   "source": [
    "aapl_df['FreeCashFlow'][0]*(1+fcf_growth_rate1)**(1/1)/1000000000"
   ]
  },
  {
   "cell_type": "code",
   "execution_count": 77,
   "metadata": {},
   "outputs": [
    {
     "name": "stdout",
     "output_type": "stream",
     "text": [
      "Year 1: $117.7 billion\n",
      "Year 2: $127.4 billion\n",
      "Year 3: $138.0 billion\n",
      "Year 4: $149.4 billion\n",
      "Year 5: $161.7 billion\n",
      "Year 6: $175.1 billion\n",
      "Year 7: $189.6 billion\n",
      "Year 8: $205.3 billion\n",
      "Year 9: $222.2 billion\n",
      "Year 10: $240.6 billion\n",
      "Total FCF: $1726.9 billion\n"
     ]
    }
   ],
   "source": [
    "# DCF using the treasury rate as the discount rate and avg. FCF growth as growth rate\n",
    "treasury_rate = 0.0163\n",
    "# we start at zero, then incrementally add each subsequent year's FCF\n",
    "fcf_over_time1 = 0\n",
    "# our base will be the most recent year's FCF\n",
    "fcf_start = aapl_df['FreeCashFlow'][0]\n",
    "\n",
    "# covering a range of 10 years\n",
    "for i in range(1,10+1):\n",
    "    fcf_over_time1 += fcf_start * (1+fcf_growth_rate1)**i / (1+treasury_rate)**i\n",
    "    print(f\"Year {i}: ${round(fcf_start * (1+fcf_growth_rate1)**i / (1+treasury_rate)**i / 1_000_000_000,1)} billion\")\n",
    "\n",
    "print(f\"Total FCF: ${round(fcf_over_time1/1_000_000_000,1)} billion\")"
   ]
  },
  {
   "cell_type": "code",
   "execution_count": 72,
   "metadata": {},
   "outputs": [
    {
     "name": "stdout",
     "output_type": "stream",
     "text": [
      "Year 1: $113.9 billion\n",
      "Year 2: $119.4 billion\n",
      "Year 3: $125.1 billion\n",
      "Year 4: $131.1 billion\n",
      "Year 5: $137.4 billion\n",
      "Year 6: $144.0 billion\n",
      "Year 7: $150.9 billion\n",
      "Year 8: $158.1 billion\n",
      "Year 9: $165.7 billion\n",
      "Year 10: $173.6 billion\n",
      "Year 11: $181.9 billion\n",
      "Year 12: $190.7 billion\n",
      "Year 13: $199.8 billion\n",
      "Year 14: $209.4 billion\n",
      "Year 15: $219.4 billion\n",
      "Total FCF: $2420.4 billion\n"
     ]
    }
   ],
   "source": [
    "# DCF using 5% as the discount rate and avg. FCF growth as growth rate\n",
    "discount_rate = 0.05\n",
    "# we start at zero, then incrementally add each subsequent year's FCF\n",
    "fcf_over_time = 0\n",
    "# our base will be the most recent year's FCF\n",
    "fcf_start = aapl_df['FreeCashFlow'][0]\n",
    "\n",
    "# covering a range of 15 years\n",
    "for i in range(1,15+1):\n",
    "    fcf_over_time += fcf_start * (1+fcf_growth_rate1)**i / (1+discount_rate)**i\n",
    "    print(f\"Year {i}: ${round(fcf_start * (1+fcf_growth_rate1)**i / (1+discount_rate)**i / 1_000_000_000,1)} billion\")\n",
    "\n",
    "print(f\"Total FCF: ${round(fcf_over_time/1_000_000_000,1)} billion\")"
   ]
  },
  {
   "cell_type": "code",
   "execution_count": 86,
   "metadata": {},
   "outputs": [
    {
     "name": "stdout",
     "output_type": "stream",
     "text": [
      "Total FCF per share, v1: $103.49\n",
      "Total FCF per share, v2: $145.05\n",
      "Average FCF per share: $124.27\n"
     ]
    }
   ],
   "source": [
    "# turning FCF into per-share stock price predictions\n",
    "aapl_fcf1 = round(fcf_over_time1/aapl_df['Shares (Common)'][0],2)\n",
    "aapl_fcf2 = round(fcf_over_time/aapl_df['Shares (Common)'][0],2)\n",
    "\n",
    "avg_fcf = round((aapl_fcf1 + aapl_fcf2)/2,2)\n",
    "\n",
    "print(f\"Total FCF per share, v1: ${aapl_fcf1}\")\n",
    "print(f\"Total FCF per share, v2: ${aapl_fcf2}\")\n",
    "print(f\"Average FCF per share: ${avg_fcf}\")"
   ]
  },
  {
   "cell_type": "code",
   "execution_count": 36,
   "metadata": {},
   "outputs": [
    {
     "data": {
      "text/plain": [
       "2291.3389834781656"
      ]
     },
     "execution_count": 36,
     "metadata": {},
     "output_type": "execute_result"
    }
   ],
   "source": [
    "# DCF using treasury as discount rate and all AAPL growth as growth rate\n",
    "treasury_rate = 0.05\n",
    "fcf_over_time = 0\n",
    "fcf_start = aapl_df['FreeCashFlow'][0]\n",
    "for i in range(1,15+1):\n",
    "    fcf_over_time += fcf_start * (1+normalized_aapl_growth)**i / (1+treasury_rate)**i\n",
    "\n",
    "fcf_over_time/1_000_000_000"
   ]
  },
  {
   "cell_type": "code",
   "execution_count": 46,
   "metadata": {},
   "outputs": [
    {
     "data": {
      "text/plain": [
       "1.1247461131420948"
      ]
     },
     "execution_count": 46,
     "metadata": {},
     "output_type": "execute_result"
    }
   ],
   "source": [
    "# if total growth over 5 years is 180%\n",
    "# then the growth rate is:\n",
    "growth_180 = 1.8**(1/5)\n",
    "growth_180"
   ]
  },
  {
   "cell_type": "code",
   "execution_count": 61,
   "metadata": {},
   "outputs": [
    {
     "name": "stdout",
     "output_type": "stream",
     "text": [
      "1.0 - 1.8\n",
      "1.25 - 1.60036116503796\n",
      "1.5 - 1.479727244598282\n",
      "1.75 - 1.399168447706693\n",
      "2.0 - 1.3416407864998738\n",
      "2.25 - 1.2985373526865052\n",
      "2.5 - 1.2650538190282499\n",
      "2.75 - 1.2383014044559357\n",
      "3.0 - 1.21644039911468\n",
      "3.25 - 1.1982443398361224\n",
      "3.5 - 1.1828645094459014\n",
      "3.75 - 1.1696950930790704\n",
      "4.0 - 1.158292185288269\n",
      "4.25 - 1.1483231463818495\n",
      "4.5 - 1.139533831304058\n",
      "4.75 - 1.1317267469617007\n",
      "5.0 - 1.1247461131420948\n",
      "5.25 - 1.118467410511232\n",
      "5.5 - 1.1127899192821329\n",
      "5.75 - 1.1076312962277344\n",
      "6.0 - 1.1029235690267392\n",
      "6.25 - 1.098610134036251\n",
      "6.5 - 1.0946434761309831\n",
      "6.75 - 1.0909834159010432\n",
      "7.0 - 1.0875957472544207\n"
     ]
    }
   ],
   "source": [
    "for i in range(0,25):\n",
    "    print(f\"{1+i/4} - {1.80**(1/(1+i/4))}\")"
   ]
  },
  {
   "cell_type": "code",
   "execution_count": 76,
   "metadata": {},
   "outputs": [],
   "source": [
    "#this version only considers growth rate starting from t = 0, looking backwards at quarterly data\n",
    "fcf_growth_list2 = [((1+((aapl_df['FreeCashFlow'][0] - aapl_df['FreeCashFlow'][i+4]) / aapl_df['FreeCashFlow'][i+4]))**(1/(1+i/4))-1) \n",
    "                    for i in range(len(aapl_df['FreeCashFlow'])-4)]"
   ]
  },
  {
   "cell_type": "code",
   "execution_count": 81,
   "metadata": {},
   "outputs": [
    {
     "data": {
      "text/plain": [
       "0.09602325071090867"
      ]
     },
     "execution_count": 81,
     "metadata": {},
     "output_type": "execute_result"
    }
   ],
   "source": [
    "fcf_growth_rate2 = sum(fcf_growth_list2)/len(fcf_growth_list2)\n",
    "fcf_growth_rate2"
   ]
  },
  {
   "cell_type": "code",
   "execution_count": 83,
   "metadata": {},
   "outputs": [
    {
     "data": {
      "text/plain": [
       "0.0981783504372449"
      ]
     },
     "execution_count": 83,
     "metadata": {},
     "output_type": "execute_result"
    }
   ],
   "source": [
    "(fcf_growth_rate1 + fcf_growth_rate2)/2"
   ]
  },
  {
   "cell_type": "code",
   "execution_count": null,
   "metadata": {},
   "outputs": [],
   "source": []
  }
 ],
 "metadata": {
  "kernelspec": {
   "display_name": "Python 3",
   "language": "python",
   "name": "python3"
  },
  "language_info": {
   "codemirror_mode": {
    "name": "ipython",
    "version": 3
   },
   "file_extension": ".py",
   "mimetype": "text/x-python",
   "name": "python",
   "nbconvert_exporter": "python",
   "pygments_lexer": "ipython3",
   "version": "3.8.5"
  }
 },
 "nbformat": 4,
 "nbformat_minor": 4
}
