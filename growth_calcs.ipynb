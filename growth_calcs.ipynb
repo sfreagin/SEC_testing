{
 "cells": [
  {
   "cell_type": "code",
   "execution_count": 1,
   "metadata": {},
   "outputs": [],
   "source": [
    "import pandas as pd\n",
    "import numpy as np\n",
    "import matplotlib.pyplot as plt\n",
    "import seaborn as sns"
   ]
  },
  {
   "cell_type": "code",
   "execution_count": 2,
   "metadata": {},
   "outputs": [
    {
     "data": {
      "text/html": [
       "<div>\n",
       "<style scoped>\n",
       "    .dataframe tbody tr th:only-of-type {\n",
       "        vertical-align: middle;\n",
       "    }\n",
       "\n",
       "    .dataframe tbody tr th {\n",
       "        vertical-align: top;\n",
       "    }\n",
       "\n",
       "    .dataframe thead th {\n",
       "        text-align: right;\n",
       "    }\n",
       "</style>\n",
       "<table border=\"1\" class=\"dataframe\">\n",
       "  <thead>\n",
       "    <tr style=\"text-align: right;\">\n",
       "      <th>Unnamed: 0</th>\n",
       "      <th>Revenue</th>\n",
       "      <th>Cost of Revenue</th>\n",
       "      <th>Gross Profit</th>\n",
       "      <th>R&amp;D Expenses</th>\n",
       "      <th>SG&amp;A Expenses</th>\n",
       "      <th>Operating Income</th>\n",
       "      <th>Interest Expense (Operating)</th>\n",
       "      <th>Non-operating Income/Expense</th>\n",
       "      <th>Non-operating Interest Expenses</th>\n",
       "      <th>EBT</th>\n",
       "      <th>...</th>\n",
       "      <th>Free Cash Flow Margin</th>\n",
       "      <th>EBITDA</th>\n",
       "      <th>EBIT</th>\n",
       "      <th>EPS (Diluted, from Cont. Ops)</th>\n",
       "      <th>EPS (Basic, Consolidated)</th>\n",
       "      <th>EPS (Basic, from Continuous Ops)</th>\n",
       "      <th>Income from Continuous Operations</th>\n",
       "      <th>Consolidated Net Income/Loss</th>\n",
       "      <th>EBITDA Margin</th>\n",
       "      <th>Operating Cash Flow Margin</th>\n",
       "    </tr>\n",
       "  </thead>\n",
       "  <tbody>\n",
       "    <tr>\n",
       "      <th>2021-03-31 00:00:00</th>\n",
       "      <td>3.25208e+11</td>\n",
       "      <td>1.98607e+11</td>\n",
       "      <td>1.26601e+11</td>\n",
       "      <td>2.0161e+10</td>\n",
       "      <td>2.0712e+10</td>\n",
       "      <td>8.8903e+10</td>\n",
       "      <td>2.639e+09</td>\n",
       "      <td>1e+07</td>\n",
       "      <td>3.134e+09</td>\n",
       "      <td>8.9628e+10</td>\n",
       "      <td>...</td>\n",
       "      <td>0.2782</td>\n",
       "      <td>9.6645e+10</td>\n",
       "      <td>8.8903e+10</td>\n",
       "      <td>4.4649</td>\n",
       "      <td>4.5129</td>\n",
       "      <td>4.5129</td>\n",
       "      <td>7.6311e+10</td>\n",
       "      <td>7.6311e+10</td>\n",
       "      <td>0.2972</td>\n",
       "      <td>0.3062</td>\n",
       "    </tr>\n",
       "    <tr>\n",
       "      <th>2020-12-31 00:00:00</th>\n",
       "      <td>2.93971e+11</td>\n",
       "      <td>1.80236e+11</td>\n",
       "      <td>1.13735e+11</td>\n",
       "      <td>1.9464e+10</td>\n",
       "      <td>2.035e+10</td>\n",
       "      <td>7.4253e+10</td>\n",
       "      <td>2.726e+09</td>\n",
       "      <td>-7.46e+08</td>\n",
       "      <td>3.465e+09</td>\n",
       "      <td>7.4752e+10</td>\n",
       "      <td>...</td>\n",
       "      <td>0.2729</td>\n",
       "      <td>8.4827e+10</td>\n",
       "      <td>7.4253e+10</td>\n",
       "      <td>3.7076</td>\n",
       "      <td>3.7474</td>\n",
       "      <td>3.7474</td>\n",
       "      <td>6.393e+10</td>\n",
       "      <td>6.393e+10</td>\n",
       "      <td>0.2886</td>\n",
       "      <td>0.3025</td>\n",
       "    </tr>\n",
       "  </tbody>\n",
       "</table>\n",
       "<p>2 rows × 28 columns</p>\n",
       "</div>"
      ],
      "text/plain": [
       "Unnamed: 0               Revenue Cost of Revenue Gross Profit R&D Expenses  \\\n",
       "2021-03-31 00:00:00  3.25208e+11     1.98607e+11  1.26601e+11   2.0161e+10   \n",
       "2020-12-31 00:00:00  2.93971e+11     1.80236e+11  1.13735e+11   1.9464e+10   \n",
       "\n",
       "Unnamed: 0          SG&A Expenses Operating Income  \\\n",
       "2021-03-31 00:00:00    2.0712e+10       8.8903e+10   \n",
       "2020-12-31 00:00:00     2.035e+10       7.4253e+10   \n",
       "\n",
       "Unnamed: 0          Interest Expense (Operating) Non-operating Income/Expense  \\\n",
       "2021-03-31 00:00:00                    2.639e+09                        1e+07   \n",
       "2020-12-31 00:00:00                    2.726e+09                    -7.46e+08   \n",
       "\n",
       "Unnamed: 0          Non-operating Interest Expenses         EBT  ...  \\\n",
       "2021-03-31 00:00:00                       3.134e+09  8.9628e+10  ...   \n",
       "2020-12-31 00:00:00                       3.465e+09  7.4752e+10  ...   \n",
       "\n",
       "Unnamed: 0          Free Cash Flow Margin      EBITDA        EBIT  \\\n",
       "2021-03-31 00:00:00                0.2782  9.6645e+10  8.8903e+10   \n",
       "2020-12-31 00:00:00                0.2729  8.4827e+10  7.4253e+10   \n",
       "\n",
       "Unnamed: 0          EPS (Diluted, from Cont. Ops) EPS (Basic, Consolidated)  \\\n",
       "2021-03-31 00:00:00                        4.4649                    4.5129   \n",
       "2020-12-31 00:00:00                        3.7076                    3.7474   \n",
       "\n",
       "Unnamed: 0          EPS (Basic, from Continuous Ops)  \\\n",
       "2021-03-31 00:00:00                           4.5129   \n",
       "2020-12-31 00:00:00                           3.7474   \n",
       "\n",
       "Unnamed: 0          Income from Continuous Operations  \\\n",
       "2021-03-31 00:00:00                        7.6311e+10   \n",
       "2020-12-31 00:00:00                         6.393e+10   \n",
       "\n",
       "Unnamed: 0          Consolidated Net Income/Loss EBITDA Margin  \\\n",
       "2021-03-31 00:00:00                   7.6311e+10        0.2972   \n",
       "2020-12-31 00:00:00                    6.393e+10        0.2886   \n",
       "\n",
       "Unnamed: 0          Operating Cash Flow Margin  \n",
       "2021-03-31 00:00:00                     0.3062  \n",
       "2020-12-31 00:00:00                     0.3025  \n",
       "\n",
       "[2 rows x 28 columns]"
      ]
     },
     "execution_count": 2,
     "metadata": {},
     "output_type": "execute_result"
    }
   ],
   "source": [
    "aapl_inc_df = pd.read_excel(f'./Income/AAPL_inc.xlsx').T\n",
    "# change the first row to the columns\n",
    "aapl_inc_df.columns = aapl_inc_df.iloc[0]\n",
    "#remove the first row\n",
    "aapl_inc_df = aapl_inc_df.iloc[1:]\n",
    "\n",
    "aapl_inc_df.head(2)"
   ]
  },
  {
   "cell_type": "code",
   "execution_count": 3,
   "metadata": {},
   "outputs": [
    {
     "data": {
      "text/html": [
       "<div>\n",
       "<style scoped>\n",
       "    .dataframe tbody tr th:only-of-type {\n",
       "        vertical-align: middle;\n",
       "    }\n",
       "\n",
       "    .dataframe tbody tr th {\n",
       "        vertical-align: top;\n",
       "    }\n",
       "\n",
       "    .dataframe thead th {\n",
       "        text-align: right;\n",
       "    }\n",
       "</style>\n",
       "<table border=\"1\" class=\"dataframe\">\n",
       "  <thead>\n",
       "    <tr style=\"text-align: right;\">\n",
       "      <th>Unnamed: 0</th>\n",
       "      <th>Cash and Short Term Investments</th>\n",
       "      <th>Receivables</th>\n",
       "      <th>Inventory</th>\n",
       "      <th>Other current assets</th>\n",
       "      <th>Total current assets</th>\n",
       "      <th>Property, Plant, Equpment (Net)</th>\n",
       "      <th>Long-Term Investments</th>\n",
       "      <th>Goodwill and Intangible Assets (Total)</th>\n",
       "      <th>Long-term assets (Other)</th>\n",
       "      <th>Total non-current assets</th>\n",
       "      <th>...</th>\n",
       "      <th>Total liabilities</th>\n",
       "      <th>Common Stock (Net)</th>\n",
       "      <th>Retained Earnings</th>\n",
       "      <th>Common Equity (Total)</th>\n",
       "      <th>Shareholders Equity (Total)</th>\n",
       "      <th>Shareholders Equity and Liabilities (Total)</th>\n",
       "      <th>Shares (Common)</th>\n",
       "      <th>Shareholders Equity (Tangible)</th>\n",
       "      <th>Net Debt</th>\n",
       "      <th>Total Debt</th>\n",
       "    </tr>\n",
       "  </thead>\n",
       "  <tbody>\n",
       "    <tr>\n",
       "      <th>2021-03-31 00:00:00</th>\n",
       "      <td>6.9834e+10</td>\n",
       "      <td>3.3036e+10</td>\n",
       "      <td>4.943e+09</td>\n",
       "      <td>1.3376e+10</td>\n",
       "      <td>1.21465e+11</td>\n",
       "      <td>3.7815e+10</td>\n",
       "      <td>1.34539e+11</td>\n",
       "      <td>NaN</td>\n",
       "      <td>4.3339e+10</td>\n",
       "      <td>2.15693e+11</td>\n",
       "      <td>...</td>\n",
       "      <td>2.6798e+11</td>\n",
       "      <td>5.4203e+10</td>\n",
       "      <td>1.5261e+10</td>\n",
       "      <td>6.9178e+10</td>\n",
       "      <td>6.9178e+10</td>\n",
       "      <td>3.37158e+11</td>\n",
       "      <td>1.66863e+10</td>\n",
       "      <td>6.9178e+10</td>\n",
       "      <td>5.1811e+10</td>\n",
       "      <td>1.21645e+11</td>\n",
       "    </tr>\n",
       "    <tr>\n",
       "      <th>2020-12-31 00:00:00</th>\n",
       "      <td>7.6826e+10</td>\n",
       "      <td>5.862e+10</td>\n",
       "      <td>4.023e+09</td>\n",
       "      <td>1.3687e+10</td>\n",
       "      <td>1.54106e+11</td>\n",
       "      <td>3.7933e+10</td>\n",
       "      <td>1.20454e+11</td>\n",
       "      <td>NaN</td>\n",
       "      <td>4.1561e+10</td>\n",
       "      <td>1.99948e+11</td>\n",
       "      <td>...</td>\n",
       "      <td>2.8783e+11</td>\n",
       "      <td>5.1744e+10</td>\n",
       "      <td>1.4301e+10</td>\n",
       "      <td>6.6224e+10</td>\n",
       "      <td>6.6224e+10</td>\n",
       "      <td>3.54054e+11</td>\n",
       "      <td>1.68233e+10</td>\n",
       "      <td>6.6224e+10</td>\n",
       "      <td>3.5217e+10</td>\n",
       "      <td>1.12043e+11</td>\n",
       "    </tr>\n",
       "  </tbody>\n",
       "</table>\n",
       "<p>2 rows × 32 columns</p>\n",
       "</div>"
      ],
      "text/plain": [
       "Unnamed: 0          Cash and Short Term Investments Receivables  Inventory  \\\n",
       "2021-03-31 00:00:00                      6.9834e+10  3.3036e+10  4.943e+09   \n",
       "2020-12-31 00:00:00                      7.6826e+10   5.862e+10  4.023e+09   \n",
       "\n",
       "Unnamed: 0          Other current assets Total current assets  \\\n",
       "2021-03-31 00:00:00           1.3376e+10          1.21465e+11   \n",
       "2020-12-31 00:00:00           1.3687e+10          1.54106e+11   \n",
       "\n",
       "Unnamed: 0          Property, Plant, Equpment (Net) Long-Term Investments  \\\n",
       "2021-03-31 00:00:00                      3.7815e+10           1.34539e+11   \n",
       "2020-12-31 00:00:00                      3.7933e+10           1.20454e+11   \n",
       "\n",
       "Unnamed: 0          Goodwill and Intangible Assets (Total)  \\\n",
       "2021-03-31 00:00:00                                    NaN   \n",
       "2020-12-31 00:00:00                                    NaN   \n",
       "\n",
       "Unnamed: 0          Long-term assets (Other) Total non-current assets  ...  \\\n",
       "2021-03-31 00:00:00               4.3339e+10              2.15693e+11  ...   \n",
       "2020-12-31 00:00:00               4.1561e+10              1.99948e+11  ...   \n",
       "\n",
       "Unnamed: 0          Total liabilities Common Stock (Net) Retained Earnings  \\\n",
       "2021-03-31 00:00:00        2.6798e+11         5.4203e+10        1.5261e+10   \n",
       "2020-12-31 00:00:00        2.8783e+11         5.1744e+10        1.4301e+10   \n",
       "\n",
       "Unnamed: 0          Common Equity (Total) Shareholders Equity (Total)  \\\n",
       "2021-03-31 00:00:00            6.9178e+10                  6.9178e+10   \n",
       "2020-12-31 00:00:00            6.6224e+10                  6.6224e+10   \n",
       "\n",
       "Unnamed: 0          Shareholders Equity and Liabilities (Total)  \\\n",
       "2021-03-31 00:00:00                                 3.37158e+11   \n",
       "2020-12-31 00:00:00                                 3.54054e+11   \n",
       "\n",
       "Unnamed: 0          Shares (Common) Shareholders Equity (Tangible)  \\\n",
       "2021-03-31 00:00:00     1.66863e+10                     6.9178e+10   \n",
       "2020-12-31 00:00:00     1.68233e+10                     6.6224e+10   \n",
       "\n",
       "Unnamed: 0             Net Debt   Total Debt  \n",
       "2021-03-31 00:00:00  5.1811e+10  1.21645e+11  \n",
       "2020-12-31 00:00:00  3.5217e+10  1.12043e+11  \n",
       "\n",
       "[2 rows x 32 columns]"
      ]
     },
     "execution_count": 3,
     "metadata": {},
     "output_type": "execute_result"
    }
   ],
   "source": [
    "aapl_bal_df = pd.read_excel(f'./BalanceSheet/AAPL_bal.xlsx').T\n",
    "# change the first row to the columns\n",
    "aapl_bal_df.columns = aapl_bal_df.iloc[0]\n",
    "#remove the first row\n",
    "aapl_bal_df = aapl_bal_df.iloc[1:]\n",
    "\n",
    "aapl_bal_df.head(2)"
   ]
  },
  {
   "cell_type": "code",
   "execution_count": 4,
   "metadata": {},
   "outputs": [
    {
     "data": {
      "text/html": [
       "<div>\n",
       "<style scoped>\n",
       "    .dataframe tbody tr th:only-of-type {\n",
       "        vertical-align: middle;\n",
       "    }\n",
       "\n",
       "    .dataframe tbody tr th {\n",
       "        vertical-align: top;\n",
       "    }\n",
       "\n",
       "    .dataframe thead th {\n",
       "        text-align: right;\n",
       "    }\n",
       "</style>\n",
       "<table border=\"1\" class=\"dataframe\">\n",
       "  <thead>\n",
       "    <tr style=\"text-align: right;\">\n",
       "      <th>Unnamed: 0</th>\n",
       "      <th>Net Income</th>\n",
       "      <th>Depreciation &amp; Amortization</th>\n",
       "      <th>Non Cash Items (Other)</th>\n",
       "      <th>Accounts Receivable Change</th>\n",
       "      <th>Change in inventories</th>\n",
       "      <th>Accounts Payable Change</th>\n",
       "      <th>Change in payables and accrued liability</th>\n",
       "      <th>Change in other assets and liabilities</th>\n",
       "      <th>Operating Cash Flow</th>\n",
       "      <th>Capital expenditures</th>\n",
       "      <th>...</th>\n",
       "      <th>Financing cash flow</th>\n",
       "      <th>Change in Cash</th>\n",
       "      <th>Beginning Cash</th>\n",
       "      <th>Ending Cash</th>\n",
       "      <th>Stock Based Compensation</th>\n",
       "      <th>Dividends Paid (Common)</th>\n",
       "      <th>Assets Liabilities Change (Total)</th>\n",
       "      <th>Investments Change (Net)</th>\n",
       "      <th>Issuance/Purchase of Shares</th>\n",
       "      <th>Capital Stock Change</th>\n",
       "    </tr>\n",
       "  </thead>\n",
       "  <tbody>\n",
       "    <tr>\n",
       "      <th>2021-03-31 00:00:00</th>\n",
       "      <td>7.6311e+10</td>\n",
       "      <td>1.0917e+10</td>\n",
       "      <td>7.34e+09</td>\n",
       "      <td>-2.292e+09</td>\n",
       "      <td>1.6179e+10</td>\n",
       "      <td>7.461e+09</td>\n",
       "      <td>1.89055e+11</td>\n",
       "      <td>1.906e+09</td>\n",
       "      <td>9.9591e+10</td>\n",
       "      <td>-9.118e+09</td>\n",
       "      <td>...</td>\n",
       "      <td>-8.4048e+10</td>\n",
       "      <td>-3.043e+09</td>\n",
       "      <td>3.9789e+10</td>\n",
       "      <td>3.6746e+10</td>\n",
       "      <td>7.423e+09</td>\n",
       "      <td>-1.4227e+10</td>\n",
       "      <td>5.023e+09</td>\n",
       "      <td>-8.85e+09</td>\n",
       "      <td>-7.539e+10</td>\n",
       "      <td>-7.539e+10</td>\n",
       "    </tr>\n",
       "    <tr>\n",
       "      <th>2020-12-31 00:00:00</th>\n",
       "      <td>6.393e+10</td>\n",
       "      <td>1.0906e+10</td>\n",
       "      <td>7.285e+09</td>\n",
       "      <td>-1.8586e+10</td>\n",
       "      <td>1.5297e+10</td>\n",
       "      <td>1.8697e+10</td>\n",
       "      <td>1.92585e+11</td>\n",
       "      <td>7.738e+09</td>\n",
       "      <td>8.8921e+10</td>\n",
       "      <td>-8.702e+09</td>\n",
       "      <td>...</td>\n",
       "      <td>-9.3662e+10</td>\n",
       "      <td>-3.946e+09</td>\n",
       "      <td>3.9789e+10</td>\n",
       "      <td>3.5843e+10</td>\n",
       "      <td>7.139e+09</td>\n",
       "      <td>-1.4155e+10</td>\n",
       "      <td>6.8e+09</td>\n",
       "      <td>1.0452e+10</td>\n",
       "      <td>-7.5549e+10</td>\n",
       "      <td>-7.5549e+10</td>\n",
       "    </tr>\n",
       "  </tbody>\n",
       "</table>\n",
       "<p>2 rows × 30 columns</p>\n",
       "</div>"
      ],
      "text/plain": [
       "Unnamed: 0           Net Income Depreciation & Amortization  \\\n",
       "2021-03-31 00:00:00  7.6311e+10                  1.0917e+10   \n",
       "2020-12-31 00:00:00   6.393e+10                  1.0906e+10   \n",
       "\n",
       "Unnamed: 0          Non Cash Items (Other) Accounts Receivable Change  \\\n",
       "2021-03-31 00:00:00               7.34e+09                 -2.292e+09   \n",
       "2020-12-31 00:00:00              7.285e+09                -1.8586e+10   \n",
       "\n",
       "Unnamed: 0          Change in inventories Accounts Payable Change  \\\n",
       "2021-03-31 00:00:00            1.6179e+10               7.461e+09   \n",
       "2020-12-31 00:00:00            1.5297e+10              1.8697e+10   \n",
       "\n",
       "Unnamed: 0          Change in payables and accrued liability  \\\n",
       "2021-03-31 00:00:00                              1.89055e+11   \n",
       "2020-12-31 00:00:00                              1.92585e+11   \n",
       "\n",
       "Unnamed: 0          Change in other assets and liabilities  \\\n",
       "2021-03-31 00:00:00                              1.906e+09   \n",
       "2020-12-31 00:00:00                              7.738e+09   \n",
       "\n",
       "Unnamed: 0          Operating Cash Flow Capital expenditures  ...  \\\n",
       "2021-03-31 00:00:00          9.9591e+10           -9.118e+09  ...   \n",
       "2020-12-31 00:00:00          8.8921e+10           -8.702e+09  ...   \n",
       "\n",
       "Unnamed: 0          Financing cash flow Change in Cash Beginning Cash  \\\n",
       "2021-03-31 00:00:00         -8.4048e+10     -3.043e+09     3.9789e+10   \n",
       "2020-12-31 00:00:00         -9.3662e+10     -3.946e+09     3.9789e+10   \n",
       "\n",
       "Unnamed: 0          Ending Cash Stock Based Compensation  \\\n",
       "2021-03-31 00:00:00  3.6746e+10                7.423e+09   \n",
       "2020-12-31 00:00:00  3.5843e+10                7.139e+09   \n",
       "\n",
       "Unnamed: 0          Dividends Paid (Common) Assets Liabilities Change (Total)  \\\n",
       "2021-03-31 00:00:00             -1.4227e+10                         5.023e+09   \n",
       "2020-12-31 00:00:00             -1.4155e+10                           6.8e+09   \n",
       "\n",
       "Unnamed: 0          Investments Change (Net) Issuance/Purchase of Shares  \\\n",
       "2021-03-31 00:00:00                -8.85e+09                  -7.539e+10   \n",
       "2020-12-31 00:00:00               1.0452e+10                 -7.5549e+10   \n",
       "\n",
       "Unnamed: 0          Capital Stock Change  \n",
       "2021-03-31 00:00:00           -7.539e+10  \n",
       "2020-12-31 00:00:00          -7.5549e+10  \n",
       "\n",
       "[2 rows x 30 columns]"
      ]
     },
     "execution_count": 4,
     "metadata": {},
     "output_type": "execute_result"
    }
   ],
   "source": [
    "aapl_cfl_df = pd.read_excel(f'./CashFlow/AAPL_cashflow.xlsx').T\n",
    "# change the first row to the columns\n",
    "aapl_cfl_df.columns = aapl_cfl_df.iloc[0]\n",
    "#remove the first row\n",
    "aapl_cfl_df = aapl_cfl_df.iloc[1:]\n",
    "\n",
    "aapl_cfl_df.head(2)"
   ]
  },
  {
   "cell_type": "code",
   "execution_count": null,
   "metadata": {},
   "outputs": [],
   "source": []
  },
  {
   "cell_type": "code",
   "execution_count": 5,
   "metadata": {},
   "outputs": [],
   "source": [
    "inc_columns = ['Revenue','Gross Profit','Operating Income','Income Tax Provision', 'Net Income Common']\n",
    "bal_columns = ['Total Assets','Total current assets','Total liabilities','Total current liabilities',\n",
    "               'Shareholders Equity (Total)','Shares (Common)']\n",
    "cfl_columns = ['Dividends Paid (Common)','Capital expenditures','Operating Cash Flow','Equity Repurchase (Common, Net)']"
   ]
  },
  {
   "cell_type": "code",
   "execution_count": 6,
   "metadata": {},
   "outputs": [],
   "source": [
    "aapl_inc_df = aapl_inc_df[inc_columns]\n",
    "aapl_bal_df = aapl_bal_df[bal_columns]\n",
    "aapl_cfl_df = aapl_cfl_df[cfl_columns]"
   ]
  },
  {
   "cell_type": "code",
   "execution_count": 7,
   "metadata": {},
   "outputs": [],
   "source": [
    "aapl_df = pd.concat([aapl_inc_df,aapl_bal_df,aapl_cfl_df], axis=1)"
   ]
  },
  {
   "cell_type": "code",
   "execution_count": 8,
   "metadata": {},
   "outputs": [
    {
     "data": {
      "text/html": [
       "<div>\n",
       "<style scoped>\n",
       "    .dataframe tbody tr th:only-of-type {\n",
       "        vertical-align: middle;\n",
       "    }\n",
       "\n",
       "    .dataframe tbody tr th {\n",
       "        vertical-align: top;\n",
       "    }\n",
       "\n",
       "    .dataframe thead th {\n",
       "        text-align: right;\n",
       "    }\n",
       "</style>\n",
       "<table border=\"1\" class=\"dataframe\">\n",
       "  <thead>\n",
       "    <tr style=\"text-align: right;\">\n",
       "      <th>Unnamed: 0</th>\n",
       "      <th>Revenue</th>\n",
       "      <th>Gross Profit</th>\n",
       "      <th>Operating Income</th>\n",
       "      <th>Income Tax Provision</th>\n",
       "      <th>Net Income Common</th>\n",
       "      <th>Total Assets</th>\n",
       "      <th>Total current assets</th>\n",
       "      <th>Total liabilities</th>\n",
       "      <th>Total current liabilities</th>\n",
       "      <th>Shareholders Equity (Total)</th>\n",
       "      <th>Shares (Common)</th>\n",
       "      <th>Dividends Paid (Common)</th>\n",
       "      <th>Capital expenditures</th>\n",
       "      <th>Operating Cash Flow</th>\n",
       "      <th>Equity Repurchase (Common, Net)</th>\n",
       "    </tr>\n",
       "  </thead>\n",
       "  <tbody>\n",
       "    <tr>\n",
       "      <th>2021-03-31 00:00:00</th>\n",
       "      <td>3.25208e+11</td>\n",
       "      <td>1.26601e+11</td>\n",
       "      <td>8.8903e+10</td>\n",
       "      <td>1.3317e+10</td>\n",
       "      <td>7.6311e+10</td>\n",
       "      <td>3.37158e+11</td>\n",
       "      <td>1.21465e+11</td>\n",
       "      <td>2.6798e+11</td>\n",
       "      <td>1.06385e+11</td>\n",
       "      <td>6.9178e+10</td>\n",
       "      <td>1.66863e+10</td>\n",
       "      <td>-1.4227e+10</td>\n",
       "      <td>-9.118e+09</td>\n",
       "      <td>9.9591e+10</td>\n",
       "      <td>-7.539e+10</td>\n",
       "    </tr>\n",
       "    <tr>\n",
       "      <th>2020-12-31 00:00:00</th>\n",
       "      <td>2.93971e+11</td>\n",
       "      <td>1.13735e+11</td>\n",
       "      <td>7.4253e+10</td>\n",
       "      <td>1.0822e+10</td>\n",
       "      <td>6.393e+10</td>\n",
       "      <td>3.54054e+11</td>\n",
       "      <td>1.54106e+11</td>\n",
       "      <td>2.8783e+11</td>\n",
       "      <td>1.32507e+11</td>\n",
       "      <td>6.6224e+10</td>\n",
       "      <td>1.68233e+10</td>\n",
       "      <td>-1.4155e+10</td>\n",
       "      <td>-8.702e+09</td>\n",
       "      <td>8.8921e+10</td>\n",
       "      <td>-7.5549e+10</td>\n",
       "    </tr>\n",
       "    <tr>\n",
       "      <th>2020-09-30 00:00:00</th>\n",
       "      <td>2.74247e+11</td>\n",
       "      <td>1.04275e+11</td>\n",
       "      <td>6.6288e+10</td>\n",
       "      <td>9.68e+09</td>\n",
       "      <td>5.7411e+10</td>\n",
       "      <td>3.23888e+11</td>\n",
       "      <td>1.43713e+11</td>\n",
       "      <td>2.58549e+11</td>\n",
       "      <td>1.05392e+11</td>\n",
       "      <td>6.5339e+10</td>\n",
       "      <td>1.69768e+10</td>\n",
       "      <td>-1.4081e+10</td>\n",
       "      <td>-7.309e+09</td>\n",
       "      <td>8.0674e+10</td>\n",
       "      <td>-7.1478e+10</td>\n",
       "    </tr>\n",
       "    <tr>\n",
       "      <th>2020-06-30 00:00:00</th>\n",
       "      <td>2.73621e+11</td>\n",
       "      <td>1.03994e+11</td>\n",
       "      <td>6.7138e+10</td>\n",
       "      <td>9.893e+09</td>\n",
       "      <td>5.8424e+10</td>\n",
       "      <td>3.17344e+11</td>\n",
       "      <td>1.40065e+11</td>\n",
       "      <td>2.45062e+11</td>\n",
       "      <td>9.5318e+10</td>\n",
       "      <td>7.2282e+10</td>\n",
       "      <td>1.71358e+10</td>\n",
       "      <td>-1.4049e+10</td>\n",
       "      <td>-8.302e+09</td>\n",
       "      <td>8.0008e+10</td>\n",
       "      <td>-7.1795e+10</td>\n",
       "    </tr>\n",
       "    <tr>\n",
       "      <th>2020-03-31 00:00:00</th>\n",
       "      <td>2.68015e+11</td>\n",
       "      <td>1.02173e+11</td>\n",
       "      <td>6.5591e+10</td>\n",
       "      <td>9.876e+09</td>\n",
       "      <td>5.7215e+10</td>\n",
       "      <td>3.204e+11</td>\n",
       "      <td>1.43753e+11</td>\n",
       "      <td>2.41975e+11</td>\n",
       "      <td>9.6094e+10</td>\n",
       "      <td>7.8425e+10</td>\n",
       "      <td>1.7296e+10</td>\n",
       "      <td>-1.4022e+10</td>\n",
       "      <td>-8.737e+09</td>\n",
       "      <td>7.5373e+10</td>\n",
       "      <td>-7.2858e+10</td>\n",
       "    </tr>\n",
       "  </tbody>\n",
       "</table>\n",
       "</div>"
      ],
      "text/plain": [
       "Unnamed: 0               Revenue Gross Profit Operating Income  \\\n",
       "2021-03-31 00:00:00  3.25208e+11  1.26601e+11       8.8903e+10   \n",
       "2020-12-31 00:00:00  2.93971e+11  1.13735e+11       7.4253e+10   \n",
       "2020-09-30 00:00:00  2.74247e+11  1.04275e+11       6.6288e+10   \n",
       "2020-06-30 00:00:00  2.73621e+11  1.03994e+11       6.7138e+10   \n",
       "2020-03-31 00:00:00  2.68015e+11  1.02173e+11       6.5591e+10   \n",
       "\n",
       "Unnamed: 0          Income Tax Provision Net Income Common Total Assets  \\\n",
       "2021-03-31 00:00:00           1.3317e+10        7.6311e+10  3.37158e+11   \n",
       "2020-12-31 00:00:00           1.0822e+10         6.393e+10  3.54054e+11   \n",
       "2020-09-30 00:00:00             9.68e+09        5.7411e+10  3.23888e+11   \n",
       "2020-06-30 00:00:00            9.893e+09        5.8424e+10  3.17344e+11   \n",
       "2020-03-31 00:00:00            9.876e+09        5.7215e+10    3.204e+11   \n",
       "\n",
       "Unnamed: 0          Total current assets Total liabilities  \\\n",
       "2021-03-31 00:00:00          1.21465e+11        2.6798e+11   \n",
       "2020-12-31 00:00:00          1.54106e+11        2.8783e+11   \n",
       "2020-09-30 00:00:00          1.43713e+11       2.58549e+11   \n",
       "2020-06-30 00:00:00          1.40065e+11       2.45062e+11   \n",
       "2020-03-31 00:00:00          1.43753e+11       2.41975e+11   \n",
       "\n",
       "Unnamed: 0          Total current liabilities Shareholders Equity (Total)  \\\n",
       "2021-03-31 00:00:00               1.06385e+11                  6.9178e+10   \n",
       "2020-12-31 00:00:00               1.32507e+11                  6.6224e+10   \n",
       "2020-09-30 00:00:00               1.05392e+11                  6.5339e+10   \n",
       "2020-06-30 00:00:00                9.5318e+10                  7.2282e+10   \n",
       "2020-03-31 00:00:00                9.6094e+10                  7.8425e+10   \n",
       "\n",
       "Unnamed: 0          Shares (Common) Dividends Paid (Common)  \\\n",
       "2021-03-31 00:00:00     1.66863e+10             -1.4227e+10   \n",
       "2020-12-31 00:00:00     1.68233e+10             -1.4155e+10   \n",
       "2020-09-30 00:00:00     1.69768e+10             -1.4081e+10   \n",
       "2020-06-30 00:00:00     1.71358e+10             -1.4049e+10   \n",
       "2020-03-31 00:00:00      1.7296e+10             -1.4022e+10   \n",
       "\n",
       "Unnamed: 0          Capital expenditures Operating Cash Flow  \\\n",
       "2021-03-31 00:00:00           -9.118e+09          9.9591e+10   \n",
       "2020-12-31 00:00:00           -8.702e+09          8.8921e+10   \n",
       "2020-09-30 00:00:00           -7.309e+09          8.0674e+10   \n",
       "2020-06-30 00:00:00           -8.302e+09          8.0008e+10   \n",
       "2020-03-31 00:00:00           -8.737e+09          7.5373e+10   \n",
       "\n",
       "Unnamed: 0          Equity Repurchase (Common, Net)  \n",
       "2021-03-31 00:00:00                      -7.539e+10  \n",
       "2020-12-31 00:00:00                     -7.5549e+10  \n",
       "2020-09-30 00:00:00                     -7.1478e+10  \n",
       "2020-06-30 00:00:00                     -7.1795e+10  \n",
       "2020-03-31 00:00:00                     -7.2858e+10  "
      ]
     },
     "execution_count": 8,
     "metadata": {},
     "output_type": "execute_result"
    }
   ],
   "source": [
    "aapl_df.head()"
   ]
  },
  {
   "cell_type": "code",
   "execution_count": 14,
   "metadata": {},
   "outputs": [],
   "source": [
    "aapl_df['FreeCashFlow'] = aapl_df['Operating Cash Flow'] - aapl_df['Capital expenditures']"
   ]
  },
  {
   "cell_type": "code",
   "execution_count": 15,
   "metadata": {},
   "outputs": [
    {
     "data": {
      "text/plain": [
       "0.21339477268063356"
      ]
     },
     "execution_count": 15,
     "metadata": {},
     "output_type": "execute_result"
    }
   ],
   "source": [
    "#testing one growth\n",
    "(aapl_df['Revenue'][0] - aapl_df['Revenue'][4]) / aapl_df['Revenue'][4]"
   ]
  },
  {
   "cell_type": "code",
   "execution_count": 16,
   "metadata": {},
   "outputs": [
    {
     "data": {
      "text/plain": [
       "0.11133725497985407"
      ]
     },
     "execution_count": 16,
     "metadata": {},
     "output_type": "execute_result"
    }
   ],
   "source": [
    "# averaging all growths\n",
    "rev_growth_list = [((aapl_df['Revenue'][i] - aapl_df['Revenue'][i+4]) / aapl_df['Revenue'][i+4]) for i in range(0,len(aapl_df['Revenue'])-4)]\n",
    "\n",
    "sum(rev_growth_list)/len(rev_growth_list)"
   ]
  },
  {
   "cell_type": "code",
   "execution_count": 49,
   "metadata": {},
   "outputs": [
    {
     "name": "stdout",
     "output_type": "stream",
     "text": [
      "Avg growth for Revenue is 0.11133725497985407\n",
      "Avg growth for Gross Profit is 0.10594369552209343\n",
      "Avg growth for Operating Income is 0.08996071324022206\n",
      "Avg growth for Income Tax Provision is 0.041693283427884045\n",
      "Avg growth for Net Income Common is 0.1034889307872158\n",
      "Avg growth for Total Assets is 0.1229159743282768\n",
      "Avg growth for Total current assets is 0.13270611753933415\n",
      "Avg growth for Total liabilities is 0.23556981918745235\n",
      "Avg growth for Total current liabilities is 0.1623257958285469\n",
      "Avg growth for Shareholders Equity (Total) is -0.003583780903502146\n",
      "Avg growth for Shares (Common) is -0.046694381827137886\n",
      "Dividends Paid (Common) throws an error\n",
      "Avg growth for Capital expenditures is 0.12999951725249131\n",
      "Avg growth for Operating Cash Flow is 0.1006475188816269\n",
      "Avg growth for Equity Repurchase (Common, Net) is -0.32919617910389176\n",
      "Avg growth for FreeCashFlow is 0.10033345016358115\n",
      "Avg growth: 0.07049651528693647\n"
     ]
    }
   ],
   "source": [
    "#calculating all average growths at once\n",
    "growth_list = []\n",
    "for col in aapl_df.columns:\n",
    "    try:\n",
    "        col_growth_list = [((aapl_df[col][i] - aapl_df[col][i+4]) / aapl_df[col][i+4]) for i in range(0,len(aapl_df[col])-4)]\n",
    "        print(f\"Avg growth for {col} is {sum(col_growth_list)/len(col_growth_list)}\")\n",
    "        growth_list.append(sum(col_growth_list)/len(col_growth_list))\n",
    "    except:\n",
    "        print(f\"{col} throws an error\")\n",
    "\n",
    "print(f\"Avg growth: {sum(growth_list)/len(growth_list)}\")"
   ]
  },
  {
   "cell_type": "code",
   "execution_count": 50,
   "metadata": {},
   "outputs": [
    {
     "data": {
      "text/plain": [
       "0.09413115229264343"
      ]
     },
     "execution_count": 50,
     "metadata": {},
     "output_type": "execute_result"
    }
   ],
   "source": [
    "growth_list.sort()\n",
    "normalized_aapl_growth = sum(growth_list[2:-2]) / len(growth_list[2:-2])\n",
    "normalized_aapl_growth"
   ]
  },
  {
   "cell_type": "code",
   "execution_count": null,
   "metadata": {},
   "outputs": [],
   "source": []
  },
  {
   "cell_type": "code",
   "execution_count": 25,
   "metadata": {},
   "outputs": [
    {
     "name": "stdout",
     "output_type": "stream",
     "text": [
      "Free Cash Flow average 1-yr growth rate: 10.03%\n"
     ]
    }
   ],
   "source": [
    "# averaging all growths\n",
    "fcf_growth_list = [((aapl_df['FreeCashFlow'][i] - aapl_df['FreeCashFlow'][i+4]) / aapl_df['FreeCashFlow'][i+4]) for i in range(0,len(aapl_df['FreeCashFlow'])-4)]\n",
    "\n",
    "fcf_growth_rate1 = sum(fcf_growth_list)/len(fcf_growth_list)\n",
    "print(f\"Free Cash Flow average 1-yr growth rate: {round(fcf_growth_rate1*100,2)}%\")"
   ]
  },
  {
   "cell_type": "code",
   "execution_count": 30,
   "metadata": {},
   "outputs": [
    {
     "data": {
      "text/plain": [
       "119.61614903383273"
      ]
     },
     "execution_count": 30,
     "metadata": {},
     "output_type": "execute_result"
    }
   ],
   "source": [
    "aapl_df['FreeCashFlow'][0]*(1+fcf_growth_rate1)**(1)/1000000000"
   ]
  },
  {
   "cell_type": "code",
   "execution_count": 51,
   "metadata": {},
   "outputs": [
    {
     "data": {
      "text/plain": [
       "2420.4003378777425"
      ]
     },
     "execution_count": 51,
     "metadata": {},
     "output_type": "execute_result"
    }
   ],
   "source": [
    "# DCF using treasury as discount rate and FCF growth as growth rate\n",
    "treasury_rate = 0.05\n",
    "fcf_over_time = 0\n",
    "fcf_start = aapl_df['FreeCashFlow'][0]\n",
    "for i in range(1,15+1):\n",
    "    fcf_over_time += fcf_start * (1+fcf_growth_rate1)**i / (1+treasury_rate)**i\n",
    "\n",
    "fcf_over_time/1_000_000_000"
   ]
  },
  {
   "cell_type": "code",
   "execution_count": 52,
   "metadata": {},
   "outputs": [
    {
     "data": {
      "text/plain": [
       "2302.7467928267756"
      ]
     },
     "execution_count": 52,
     "metadata": {},
     "output_type": "execute_result"
    }
   ],
   "source": [
    "# DCF using treasury as discount rate and all AAPL growth as growth rate\n",
    "treasury_rate = 0.05\n",
    "fcf_over_time = 0\n",
    "fcf_start = aapl_df['FreeCashFlow'][0]\n",
    "for i in range(1,15+1):\n",
    "    fcf_over_time += fcf_start * (1+normalized_aapl_growth)**i / (1+treasury_rate)**i\n",
    "\n",
    "fcf_over_time/1_000_000_000"
   ]
  },
  {
   "cell_type": "code",
   "execution_count": 46,
   "metadata": {},
   "outputs": [
    {
     "data": {
      "text/plain": [
       "1.1247461131420948"
      ]
     },
     "execution_count": 46,
     "metadata": {},
     "output_type": "execute_result"
    }
   ],
   "source": [
    "# if total growth over 5 years is 180%\n",
    "# then the growth rate is:\n",
    "growth_180 = 1.8**(1/5)\n",
    "growth_180"
   ]
  },
  {
   "cell_type": "code",
   "execution_count": 61,
   "metadata": {},
   "outputs": [
    {
     "name": "stdout",
     "output_type": "stream",
     "text": [
      "1.0 - 1.8\n",
      "1.25 - 1.60036116503796\n",
      "1.5 - 1.479727244598282\n",
      "1.75 - 1.399168447706693\n",
      "2.0 - 1.3416407864998738\n",
      "2.25 - 1.2985373526865052\n",
      "2.5 - 1.2650538190282499\n",
      "2.75 - 1.2383014044559357\n",
      "3.0 - 1.21644039911468\n",
      "3.25 - 1.1982443398361224\n",
      "3.5 - 1.1828645094459014\n",
      "3.75 - 1.1696950930790704\n",
      "4.0 - 1.158292185288269\n",
      "4.25 - 1.1483231463818495\n",
      "4.5 - 1.139533831304058\n",
      "4.75 - 1.1317267469617007\n",
      "5.0 - 1.1247461131420948\n",
      "5.25 - 1.118467410511232\n",
      "5.5 - 1.1127899192821329\n",
      "5.75 - 1.1076312962277344\n",
      "6.0 - 1.1029235690267392\n",
      "6.25 - 1.098610134036251\n",
      "6.5 - 1.0946434761309831\n",
      "6.75 - 1.0909834159010432\n",
      "7.0 - 1.0875957472544207\n"
     ]
    }
   ],
   "source": [
    "for i in range(0,25):\n",
    "    print(f\"{1+i/4} - {1.80**(1/(1+i/4))}\")"
   ]
  },
  {
   "cell_type": "code",
   "execution_count": 76,
   "metadata": {},
   "outputs": [],
   "source": [
    "fcf_growth_list2 = [((1+((aapl_df['FreeCashFlow'][0] - aapl_df['FreeCashFlow'][i+4]) / aapl_df['FreeCashFlow'][i+4]))**(1/(1+i/4))-1) \n",
    "                    for i in range(len(aapl_df['FreeCashFlow'])-4)]"
   ]
  },
  {
   "cell_type": "code",
   "execution_count": 81,
   "metadata": {},
   "outputs": [
    {
     "data": {
      "text/plain": [
       "0.09602325071090867"
      ]
     },
     "execution_count": 81,
     "metadata": {},
     "output_type": "execute_result"
    }
   ],
   "source": [
    "fcf_growth_rate2 = sum(fcf_growth_list2)/len(fcf_growth_list2)\n",
    "fcf_growth_rate2"
   ]
  },
  {
   "cell_type": "code",
   "execution_count": 83,
   "metadata": {},
   "outputs": [
    {
     "data": {
      "text/plain": [
       "0.0981783504372449"
      ]
     },
     "execution_count": 83,
     "metadata": {},
     "output_type": "execute_result"
    }
   ],
   "source": [
    "(fcf_growth_rate1 + fcf_growth_rate2)/2"
   ]
  },
  {
   "cell_type": "code",
   "execution_count": null,
   "metadata": {},
   "outputs": [],
   "source": []
  }
 ],
 "metadata": {
  "kernelspec": {
   "display_name": "Python 3",
   "language": "python",
   "name": "python3"
  },
  "language_info": {
   "codemirror_mode": {
    "name": "ipython",
    "version": 3
   },
   "file_extension": ".py",
   "mimetype": "text/x-python",
   "name": "python",
   "nbconvert_exporter": "python",
   "pygments_lexer": "ipython3",
   "version": "3.8.5"
  }
 },
 "nbformat": 4,
 "nbformat_minor": 4
}
