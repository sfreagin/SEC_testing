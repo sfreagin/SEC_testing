{
 "cells": [
  {
   "cell_type": "code",
   "execution_count": 2,
   "metadata": {},
   "outputs": [],
   "source": [
    "import pandas as pd\n",
    "import numpy as np\n",
    "import matplotlib.pyplot as plt\n",
    "import seaborn as sns"
   ]
  },
  {
   "cell_type": "code",
   "execution_count": 90,
   "metadata": {},
   "outputs": [
    {
     "data": {
      "text/html": [
       "<div>\n",
       "<style scoped>\n",
       "    .dataframe tbody tr th:only-of-type {\n",
       "        vertical-align: middle;\n",
       "    }\n",
       "\n",
       "    .dataframe tbody tr th {\n",
       "        vertical-align: top;\n",
       "    }\n",
       "\n",
       "    .dataframe thead th {\n",
       "        text-align: right;\n",
       "    }\n",
       "</style>\n",
       "<table border=\"1\" class=\"dataframe\">\n",
       "  <thead>\n",
       "    <tr style=\"text-align: right;\">\n",
       "      <th>Unnamed: 0</th>\n",
       "      <th>Revenue</th>\n",
       "      <th>Cost of Revenue</th>\n",
       "      <th>Gross Profit</th>\n",
       "      <th>R&amp;D Expenses</th>\n",
       "      <th>SG&amp;A Expenses</th>\n",
       "      <th>Operating Income</th>\n",
       "      <th>Interest Expense (Operating)</th>\n",
       "      <th>Non-operating Income/Expense</th>\n",
       "      <th>Non-operating Interest Expenses</th>\n",
       "      <th>EBT</th>\n",
       "      <th>...</th>\n",
       "      <th>Free Cash Flow Margin</th>\n",
       "      <th>EBITDA</th>\n",
       "      <th>EBIT</th>\n",
       "      <th>EPS (Diluted, from Cont. Ops)</th>\n",
       "      <th>EPS (Basic, Consolidated)</th>\n",
       "      <th>EPS (Basic, from Continuous Ops)</th>\n",
       "      <th>Income from Continuous Operations</th>\n",
       "      <th>Consolidated Net Income/Loss</th>\n",
       "      <th>EBITDA Margin</th>\n",
       "      <th>Operating Cash Flow Margin</th>\n",
       "    </tr>\n",
       "  </thead>\n",
       "  <tbody>\n",
       "    <tr>\n",
       "      <th>2021-03-31 00:00:00</th>\n",
       "      <td>1.59969e+11</td>\n",
       "      <td>5.058e+10</td>\n",
       "      <td>1.09389e+11</td>\n",
       "      <td>2.0243e+10</td>\n",
       "      <td>2.4918e+10</td>\n",
       "      <td>6.4228e+10</td>\n",
       "      <td>2.479e+09</td>\n",
       "      <td>-3.79e+08</td>\n",
       "      <td>2.229e+09</td>\n",
       "      <td>6.5119e+10</td>\n",
       "      <td>...</td>\n",
       "      <td>0.3362</td>\n",
       "      <td>7.6074e+10</td>\n",
       "      <td>6.4228e+10</td>\n",
       "      <td>7.3471</td>\n",
       "      <td>7.4103</td>\n",
       "      <td>7.4103</td>\n",
       "      <td>5.6015e+10</td>\n",
       "      <td>5.6015e+10</td>\n",
       "      <td>0.4756</td>\n",
       "      <td>0.4545</td>\n",
       "    </tr>\n",
       "    <tr>\n",
       "      <th>2020-12-31 00:00:00</th>\n",
       "      <td>1.53284e+11</td>\n",
       "      <td>4.851e+10</td>\n",
       "      <td>1.04774e+11</td>\n",
       "      <td>1.9926e+10</td>\n",
       "      <td>2.4693e+10</td>\n",
       "      <td>6.0155e+10</td>\n",
       "      <td>2.46e+09</td>\n",
       "      <td>-2.24e+08</td>\n",
       "      <td>2.383e+09</td>\n",
       "      <td>6.0726e+10</td>\n",
       "      <td>...</td>\n",
       "      <td>0.329</td>\n",
       "      <td>7.2183e+10</td>\n",
       "      <td>6.0155e+10</td>\n",
       "      <td>6.7134</td>\n",
       "      <td>6.7744</td>\n",
       "      <td>6.7744</td>\n",
       "      <td>5.131e+10</td>\n",
       "      <td>5.131e+10</td>\n",
       "      <td>0.4709</td>\n",
       "      <td>0.4438</td>\n",
       "    </tr>\n",
       "  </tbody>\n",
       "</table>\n",
       "<p>2 rows × 28 columns</p>\n",
       "</div>"
      ],
      "text/plain": [
       "Unnamed: 0               Revenue Cost of Revenue Gross Profit R&D Expenses  \\\n",
       "2021-03-31 00:00:00  1.59969e+11       5.058e+10  1.09389e+11   2.0243e+10   \n",
       "2020-12-31 00:00:00  1.53284e+11       4.851e+10  1.04774e+11   1.9926e+10   \n",
       "\n",
       "Unnamed: 0          SG&A Expenses Operating Income  \\\n",
       "2021-03-31 00:00:00    2.4918e+10       6.4228e+10   \n",
       "2020-12-31 00:00:00    2.4693e+10       6.0155e+10   \n",
       "\n",
       "Unnamed: 0          Interest Expense (Operating) Non-operating Income/Expense  \\\n",
       "2021-03-31 00:00:00                    2.479e+09                    -3.79e+08   \n",
       "2020-12-31 00:00:00                     2.46e+09                    -2.24e+08   \n",
       "\n",
       "Unnamed: 0          Non-operating Interest Expenses         EBT  ...  \\\n",
       "2021-03-31 00:00:00                       2.229e+09  6.5119e+10  ...   \n",
       "2020-12-31 00:00:00                       2.383e+09  6.0726e+10  ...   \n",
       "\n",
       "Unnamed: 0          Free Cash Flow Margin      EBITDA        EBIT  \\\n",
       "2021-03-31 00:00:00                0.3362  7.6074e+10  6.4228e+10   \n",
       "2020-12-31 00:00:00                 0.329  7.2183e+10  6.0155e+10   \n",
       "\n",
       "Unnamed: 0          EPS (Diluted, from Cont. Ops) EPS (Basic, Consolidated)  \\\n",
       "2021-03-31 00:00:00                        7.3471                    7.4103   \n",
       "2020-12-31 00:00:00                        6.7134                    6.7744   \n",
       "\n",
       "Unnamed: 0          EPS (Basic, from Continuous Ops)  \\\n",
       "2021-03-31 00:00:00                           7.4103   \n",
       "2020-12-31 00:00:00                           6.7744   \n",
       "\n",
       "Unnamed: 0          Income from Continuous Operations  \\\n",
       "2021-03-31 00:00:00                        5.6015e+10   \n",
       "2020-12-31 00:00:00                         5.131e+10   \n",
       "\n",
       "Unnamed: 0          Consolidated Net Income/Loss EBITDA Margin  \\\n",
       "2021-03-31 00:00:00                   5.6015e+10        0.4756   \n",
       "2020-12-31 00:00:00                    5.131e+10        0.4709   \n",
       "\n",
       "Unnamed: 0          Operating Cash Flow Margin  \n",
       "2021-03-31 00:00:00                     0.4545  \n",
       "2020-12-31 00:00:00                     0.4438  \n",
       "\n",
       "[2 rows x 28 columns]"
      ]
     },
     "execution_count": 90,
     "metadata": {},
     "output_type": "execute_result"
    }
   ],
   "source": [
    "#pull the income statement, balance sheet, and cash flow statement \n",
    "# as downloaded from stockrow.com\n",
    "ticker_inc_df = pd.read_excel(f'./Income/MSFT_inc.xlsx').T\n",
    "ticker_bal_df = pd.read_excel(f'./BalanceSheet/MSFT_bal.xlsx').T\n",
    "ticker_cfl_df = pd.read_excel(f'./CashFlow/MSFT_cashflow.xlsx').T\n",
    "\n",
    "# change the first row to be the column headers\n",
    "ticker_inc_df.columns = ticker_inc_df.iloc[0]\n",
    "ticker_bal_df.columns = ticker_bal_df.iloc[0]\n",
    "ticker_cfl_df.columns = ticker_cfl_df.iloc[0]\n",
    "\n",
    "#remove the first row\n",
    "ticker_inc_df = ticker_inc_df.iloc[1:]\n",
    "ticker_bal_df = ticker_bal_df.iloc[1:]\n",
    "ticker_cfl_df = ticker_cfl_df.iloc[1:]\n",
    "\n",
    "ticker_inc_df.head(2)"
   ]
  },
  {
   "cell_type": "code",
   "execution_count": null,
   "metadata": {},
   "outputs": [],
   "source": []
  },
  {
   "cell_type": "code",
   "execution_count": 91,
   "metadata": {},
   "outputs": [
    {
     "data": {
      "text/html": [
       "<div>\n",
       "<style scoped>\n",
       "    .dataframe tbody tr th:only-of-type {\n",
       "        vertical-align: middle;\n",
       "    }\n",
       "\n",
       "    .dataframe tbody tr th {\n",
       "        vertical-align: top;\n",
       "    }\n",
       "\n",
       "    .dataframe thead th {\n",
       "        text-align: right;\n",
       "    }\n",
       "</style>\n",
       "<table border=\"1\" class=\"dataframe\">\n",
       "  <thead>\n",
       "    <tr style=\"text-align: right;\">\n",
       "      <th>Unnamed: 0</th>\n",
       "      <th>Revenue</th>\n",
       "      <th>Gross Profit</th>\n",
       "      <th>Operating Income</th>\n",
       "      <th>Income Tax Provision</th>\n",
       "      <th>Net Income Common</th>\n",
       "      <th>Total Assets</th>\n",
       "      <th>Total current assets</th>\n",
       "      <th>Total liabilities</th>\n",
       "      <th>Total current liabilities</th>\n",
       "      <th>Shareholders Equity (Total)</th>\n",
       "      <th>Shares (Common)</th>\n",
       "      <th>Dividends Paid (Common)</th>\n",
       "      <th>Capital expenditures</th>\n",
       "      <th>Operating Cash Flow</th>\n",
       "      <th>FreeCashFlow</th>\n",
       "    </tr>\n",
       "  </thead>\n",
       "  <tbody>\n",
       "    <tr>\n",
       "      <th>2021-03-31 00:00:00</th>\n",
       "      <td>1.59969e+11</td>\n",
       "      <td>1.09389e+11</td>\n",
       "      <td>6.4228e+10</td>\n",
       "      <td>9.104e+09</td>\n",
       "      <td>5.6015e+10</td>\n",
       "      <td>308879000000</td>\n",
       "      <td>165614000000</td>\n",
       "      <td>174374000000</td>\n",
       "      <td>72193000000</td>\n",
       "      <td>134505000000</td>\n",
       "      <td>7534000000</td>\n",
       "      <td>-16172000000</td>\n",
       "      <td>-18914000000</td>\n",
       "      <td>72703000000</td>\n",
       "      <td>91617000000</td>\n",
       "    </tr>\n",
       "    <tr>\n",
       "      <th>2020-12-31 00:00:00</th>\n",
       "      <td>1.53284e+11</td>\n",
       "      <td>1.04774e+11</td>\n",
       "      <td>6.0155e+10</td>\n",
       "      <td>9.416e+09</td>\n",
       "      <td>5.131e+10</td>\n",
       "      <td>304137000000</td>\n",
       "      <td>173973000000</td>\n",
       "      <td>173901000000</td>\n",
       "      <td>67486000000</td>\n",
       "      <td>130236000000</td>\n",
       "      <td>7546000000</td>\n",
       "      <td>-15827000000</td>\n",
       "      <td>-17592000000</td>\n",
       "      <td>68028000000</td>\n",
       "      <td>85620000000</td>\n",
       "    </tr>\n",
       "  </tbody>\n",
       "</table>\n",
       "</div>"
      ],
      "text/plain": [
       "Unnamed: 0               Revenue Gross Profit Operating Income  \\\n",
       "2021-03-31 00:00:00  1.59969e+11  1.09389e+11       6.4228e+10   \n",
       "2020-12-31 00:00:00  1.53284e+11  1.04774e+11       6.0155e+10   \n",
       "\n",
       "Unnamed: 0          Income Tax Provision Net Income Common  Total Assets  \\\n",
       "2021-03-31 00:00:00            9.104e+09        5.6015e+10  308879000000   \n",
       "2020-12-31 00:00:00            9.416e+09         5.131e+10  304137000000   \n",
       "\n",
       "Unnamed: 0          Total current assets Total liabilities  \\\n",
       "2021-03-31 00:00:00         165614000000      174374000000   \n",
       "2020-12-31 00:00:00         173973000000      173901000000   \n",
       "\n",
       "Unnamed: 0          Total current liabilities Shareholders Equity (Total)  \\\n",
       "2021-03-31 00:00:00               72193000000                134505000000   \n",
       "2020-12-31 00:00:00               67486000000                130236000000   \n",
       "\n",
       "Unnamed: 0          Shares (Common) Dividends Paid (Common)  \\\n",
       "2021-03-31 00:00:00      7534000000            -16172000000   \n",
       "2020-12-31 00:00:00      7546000000            -15827000000   \n",
       "\n",
       "Unnamed: 0          Capital expenditures Operating Cash Flow FreeCashFlow  \n",
       "2021-03-31 00:00:00         -18914000000         72703000000  91617000000  \n",
       "2020-12-31 00:00:00         -17592000000         68028000000  85620000000  "
      ]
     },
     "execution_count": 91,
     "metadata": {},
     "output_type": "execute_result"
    }
   ],
   "source": [
    "# these are the columns we're interested in\n",
    "inc_columns = ['Revenue','Gross Profit','Operating Income','Income Tax Provision', 'Net Income Common']\n",
    "bal_columns = ['Total Assets','Total current assets','Total liabilities','Total current liabilities',\n",
    "               'Shareholders Equity (Total)','Shares (Common)']\n",
    "cfl_columns = ['Dividends Paid (Common)','Capital expenditures','Operating Cash Flow']#,'Equity Repurchase (Common, Net)']\n",
    "\n",
    "# this will apply only the columns above to each of our financial statement DataFrames\n",
    "ticker_inc_df = ticker_inc_df[inc_columns]\n",
    "ticker_bal_df = ticker_bal_df[bal_columns]\n",
    "ticker_cfl_df = ticker_cfl_df[cfl_columns]\n",
    "\n",
    "# this will combine or concatenate our three DataFrames into one\n",
    "ticker_df = pd.concat([ticker_inc_df,ticker_bal_df,ticker_cfl_df], axis=1)\n",
    "\n",
    "# defining a new column for FCF\n",
    "ticker_df['FreeCashFlow'] = ticker_df['Operating Cash Flow'] - ticker_df['Capital expenditures']\n",
    "\n",
    "ticker_df.head(2)"
   ]
  },
  {
   "cell_type": "code",
   "execution_count": 92,
   "metadata": {},
   "outputs": [
    {
     "data": {
      "image/png": "[encoded data removed]",
      "text/plain": [
       "<Figure size 648x432 with 1 Axes>"
      ]
     },
     "metadata": {
      "needs_background": "light"
     },
     "output_type": "display_data"
    }
   ],
   "source": [
    "# TTM - Revenue\n",
    "plt.figure(figsize=(9,6))\n",
    "sns.scatterplot(x=ticker_df.index,y=ticker_df['Revenue'])\n",
    "plt.title('Trailing 12 months of Revenue for Apple, Inc')\n",
    "plt.ylabel('Revenue ($100B)');"
   ]
  },
  {
   "cell_type": "markdown",
   "metadata": {},
   "source": [
    "## Growth rates 1\n",
    "This method determines an average Revenue growth rate by taking the average of all 1-yr Revenue growth rates at t = 0, t = -1, t = -2 etc"
   ]
  },
  {
   "cell_type": "code",
   "execution_count": 93,
   "metadata": {},
   "outputs": [
    {
     "name": "stdout",
     "output_type": "stream",
     "text": [
      "Avg 1-yr Revenue growth rate: 8.82%\n"
     ]
    }
   ],
   "source": [
    "# averaging all cumulative 1-yr revenue growths\n",
    "rev_growth_list = [((ticker_df['Revenue'][i] - ticker_df['Revenue'][i+4]) / ticker_df['Revenue'][i+4]) \n",
    "                   for i in range(0,len(ticker_df['Revenue'])-4)]\n",
    "\n",
    "print(f\"Avg 1-yr Revenue growth rate: {round(sum(rev_growth_list)/len(rev_growth_list)*100,2)}%\")"
   ]
  },
  {
   "cell_type": "markdown",
   "metadata": {},
   "source": [
    "##### Same for Free Cash Flow:"
   ]
  },
  {
   "cell_type": "code",
   "execution_count": 94,
   "metadata": {},
   "outputs": [
    {
     "name": "stdout",
     "output_type": "stream",
     "text": [
      "Free Cash Flow average 1-yr growth rate: 12.24%\n"
     ]
    }
   ],
   "source": [
    "# averaging all FCF growth rates\n",
    "fcf_growth_list1 = [((ticker_df['FreeCashFlow'][i] - ticker_df['FreeCashFlow'][i+4]) / ticker_df['FreeCashFlow'][i+4]) \n",
    "                   for i in range(0,len(ticker_df['FreeCashFlow'])-4)]\n",
    "\n",
    "fcf_growth_rate1 = sum(fcf_growth_list1)/len(fcf_growth_list)\n",
    "print(f\"Free Cash Flow average 1-yr growth rate: {round(fcf_growth_rate1*100,2)}%\")"
   ]
  },
  {
   "cell_type": "markdown",
   "metadata": {},
   "source": [
    "##### Same for *every* financial metric"
   ]
  },
  {
   "cell_type": "code",
   "execution_count": 95,
   "metadata": {},
   "outputs": [
    {
     "name": "stdout",
     "output_type": "stream",
     "text": [
      "Avg growth for Revenue is 0.08823901120076255\n",
      "Avg growth for Gross Profit is 0.0747623989635195\n",
      "Avg growth for Operating Income is 0.13246176474406274\n",
      "Avg growth for Income Tax Provision is 0.31455886842931635\n",
      "Avg growth for Net Income Common is 0.209407963941271\n",
      "Avg growth for Total Assets is 0.12004920998464032\n",
      "Avg growth for Total current assets is 0.10118107889099814\n",
      "Avg growth for Total liabilities is 0.16087922620823186\n",
      "Avg growth for Total current liabilities is 0.1257705584874432\n",
      "Avg growth for Shareholders Equity (Total) is 0.09043696083895107\n",
      "Avg growth for Shares (Common) is -0.01157847792311903\n",
      "Avg growth for Dividends Paid (Common) is 0.12250587786410286\n",
      "Avg growth for Capital expenditures is 0.282540949668136\n",
      "Avg growth for Operating Cash Flow is 0.10550967173624155\n",
      "Avg growth for FreeCashFlow is 0.12235809337743316\n",
      "Avg growth: 0.13593887709413274\n"
     ]
    }
   ],
   "source": [
    "#calculating all cumulative 1-yr average growths at once\n",
    "growth_list1 = []\n",
    "for col in ticker_df.columns:\n",
    "    try:\n",
    "        col_growth_list1 = [((ticker_df[col][i] - ticker_df[col][i+4]) / ticker_df[col][i+4]) \n",
    "                           for i in range(0,len(ticker_df[col])-4)]\n",
    "        print(f\"Avg growth for {col} is {sum(col_growth_list1)/len(col_growth_list1)}\")\n",
    "        growth_list1.append(sum(col_growth_list1)/len(col_growth_list1))\n",
    "    except:\n",
    "        print(f\"{col} throws an error\")\n",
    "\n",
    "all_metrics_growth_rate1 = sum(growth_list1)/len(growth_list1) \n",
    "print(f\"Avg growth: {all_metrics_growth_rate1}\")"
   ]
  },
  {
   "cell_type": "code",
   "execution_count": 96,
   "metadata": {},
   "outputs": [
    {
     "name": "stdout",
     "output_type": "stream",
     "text": [
      "The 'normalized' growth rate for (almost all) metrics: 12.53%\n"
     ]
    }
   ],
   "source": [
    "# this code sorts the growth rates from low to high, \n",
    "# then it removes the top 2 and lowest 2\n",
    "growth_list1.sort()\n",
    "normalized_ticker_growth1 = sum(growth_list1[2:-2]) / len(growth_list1[2:-2])\n",
    "\n",
    "print(f\"The 'normalized' growth rate for (almost all) metrics: {round(normalized_ticker_growth1*100,2)}%\")"
   ]
  },
  {
   "cell_type": "markdown",
   "metadata": {},
   "source": []
  },
  {
   "cell_type": "markdown",
   "metadata": {},
   "source": [
    "## Growth rates 2\n",
    "This method determines an average Revenue growth rate by taking the 1-yr, 2-yr, 3-yr etc. growth rates and averaging them all together"
   ]
  },
  {
   "cell_type": "code",
   "execution_count": 97,
   "metadata": {},
   "outputs": [
    {
     "name": "stdout",
     "output_type": "stream",
     "text": [
      "Free Cash Flow avg growth rate last decade: 17.27%\n"
     ]
    }
   ],
   "source": [
    "#this version only considers growth rate starting from t = 0, looking backwards at quarterly data\n",
    "fcf_growth_list2 = [((1+((ticker_df['FreeCashFlow'][0] - ticker_df['FreeCashFlow'][i+4]) / ticker_df['FreeCashFlow'][i+4]))**(1/(1+i/4))-1) \n",
    "                    for i in range(len(ticker_df['FreeCashFlow'])-4)]\n",
    "\n",
    "fcf_growth_rate2 = sum(fcf_growth_list2)/len(fcf_growth_list2)\n",
    "print(f\"Free Cash Flow avg growth rate last decade: {round(fcf_growth_rate2*100,2)}%\")"
   ]
  },
  {
   "cell_type": "code",
   "execution_count": 98,
   "metadata": {},
   "outputs": [
    {
     "name": "stdout",
     "output_type": "stream",
     "text": [
      "Avg growth for Revenue is 0.11749820292160577\n",
      "Avg growth for Gross Profit is 0.12361405311871954\n",
      "Avg growth for Operating Income is 0.19372170858632576\n",
      "Avg growth for Income Tax Provision is 0.10761197085709956\n",
      "Avg growth for Net Income Common is 0.23815893203326066\n",
      "Avg growth for Total Assets is 0.09245833261676834\n",
      "Avg growth for Total current assets is 0.04110395305486526\n",
      "Avg growth for Total liabilities is 0.08187311119649661\n",
      "Avg growth for Total current liabilities is 0.10032356935437428\n",
      "Avg growth for Shareholders Equity (Total) is 0.12046391113771587\n",
      "Avg growth for Shares (Common) is -0.009997857438944716\n",
      "Avg growth for Dividends Paid (Common) is 0.0965600459674968\n",
      "Avg growth for Capital expenditures is 0.2239907603940606\n",
      "Avg growth for Operating Cash Flow is 0.1641020958218614\n",
      "Avg growth for FreeCashFlow is 0.17274063176872953\n",
      "Avg growth of all metrics: 0.12428156142602902\n"
     ]
    }
   ],
   "source": [
    "growth_list2 = []\n",
    "for col in ticker_df.columns:\n",
    "    try:\n",
    "        col_growth_list2 = [((1+((ticker_df[col][0] - ticker_df[col][i+4]) / ticker_df[col][i+4]))**(1/(1+i/4))-1) \n",
    "                            for i in range(len(ticker_df[col])-4)]\n",
    "        print(f\"Avg growth for {col} is {sum(col_growth_list2)/len(col_growth_list2)}\")\n",
    "        growth_list2.append(sum(col_growth_list2)/len(col_growth_list2))\n",
    "    except:\n",
    "        print(f'{col} throws an error')\n",
    "        \n",
    "all_metrics_growth_rate2 = sum(growth_list2)/len(growth_list2) \n",
    "print(f\"Avg growth of all metrics: {all_metrics_growth_rate2}\")"
   ]
  },
  {
   "cell_type": "code",
   "execution_count": 99,
   "metadata": {},
   "outputs": [
    {
     "name": "stdout",
     "output_type": "stream",
     "text": [
      "The 'normalized' growth rate for (almost all) metrics: 12.46%\n"
     ]
    }
   ],
   "source": [
    "# this code sorts the growth rates from low to high, \n",
    "# then it removes the top 2 and lowest 2\n",
    "growth_list2.sort()\n",
    "normalized_ticker_growth2 = sum(growth_list2[2:-2]) / len(growth_list2[2:-2])\n",
    "\n",
    "print(f\"The 'normalized' growth rate for (almost all) metrics: {round(normalized_ticker_growth2*100,2)}%\")"
   ]
  },
  {
   "cell_type": "code",
   "execution_count": null,
   "metadata": {},
   "outputs": [],
   "source": []
  },
  {
   "cell_type": "markdown",
   "metadata": {},
   "source": [
    "## DCF Models"
   ]
  },
  {
   "cell_type": "code",
   "execution_count": 112,
   "metadata": {},
   "outputs": [],
   "source": [
    "# DCF using the treasury rate as the discount rate and avg. FCF growth as growth rate\n",
    "discount_rate = 0.0163\n",
    "\n",
    "def dcf_maker(ticker_df,growth_rate,discount_rate,years):\n",
    "    # we start at zero, then incrementally add each subsequent year's FCF\n",
    "    fcf_over_time = 0\n",
    "    # our base will be the most recent year's FCF\n",
    "    fcf_start = ticker_df['FreeCashFlow'][0]\n",
    "\n",
    "    # covering a range of 10 years\n",
    "    for i in range(1,years+1):\n",
    "        fcf_over_time += fcf_start * (1+growth_rate)**i / (1+discount_rate)**i\n",
    "\n",
    "    print(f\"Total FCF: ${round(fcf_over_time/1_000_000_000,1)} billion\")\n",
    "    return fcf_over_time"
   ]
  },
  {
   "cell_type": "code",
   "execution_count": 113,
   "metadata": {},
   "outputs": [
    {
     "name": "stdout",
     "output_type": "stream",
     "text": [
      "Total FCF: $1452.7 billion\n"
     ]
    }
   ],
   "source": [
    "test1 = dcf_maker(ticker_df=ticker_df,growth_rate=0.1,discount_rate=0.0163,years=10)"
   ]
  },
  {
   "cell_type": "code",
   "execution_count": 125,
   "metadata": {},
   "outputs": [
    {
     "name": "stdout",
     "output_type": "stream",
     "text": [
      "Growth rate: 12.24%\n",
      "Total FCF: $1646.6 billion\n",
      "Growth rate: 17.27%\n",
      "Total FCF: $2188.1 billion\n",
      "Growth rate: 13.59%\n",
      "Total FCF: $1777.3 billion\n",
      "Growth rate: 12.43%\n",
      "Total FCF: $1664.5 billion\n",
      "Growth rate: 12.53%\n",
      "Total FCF: $1674.5 billion\n",
      "Growth rate: 12.46%\n",
      "Total FCF: $1667.8 billion\n"
     ]
    }
   ],
   "source": [
    "all_growth_rates = [fcf_growth_rate1,fcf_growth_rate2,all_metrics_growth_rate1,all_metrics_growth_rate2,\n",
    "                    normalized_ticker_growth1, normalized_ticker_growth2]\n",
    "rate_list = 0.0163\n",
    "years=10\n",
    "\n",
    "for grow_rate in all_growth_rates:\n",
    "    print(f\"Growth rate: {round(grow_rate*100,2)}%\")\n",
    "    dcf_maker(ticker_df,grow_rate,rate_list,years)"
   ]
  },
  {
   "cell_type": "code",
   "execution_count": 85,
   "metadata": {},
   "outputs": [
    {
     "name": "stdout",
     "output_type": "stream",
     "text": [
      "Total FCF: $2420.4 billion\n"
     ]
    }
   ],
   "source": [
    "growth_rate = fcf_growth_rate1\n",
    "discount_rate = 0.05\n",
    "years=15\n",
    "\n",
    "dcf_maker(ticker_df,growth_rate,discount_rate,years)"
   ]
  },
  {
   "cell_type": "code",
   "execution_count": 107,
   "metadata": {},
   "outputs": [
    {
     "data": {
      "text/plain": [
       "array([0.01, 0.02, 0.03, 0.04, 0.05, 0.06, 0.07, 0.08, 0.09, 0.1 , 0.11,\n",
       "       0.12, 0.13, 0.14, 0.15])"
      ]
     },
     "execution_count": 107,
     "metadata": {},
     "output_type": "execute_result"
    }
   ],
   "source": [
    "np.linspace(0.01,0.15,15)"
   ]
  },
  {
   "cell_type": "code",
   "execution_count": null,
   "metadata": {},
   "outputs": [],
   "source": []
  },
  {
   "cell_type": "code",
   "execution_count": null,
   "metadata": {},
   "outputs": [],
   "source": []
  },
  {
   "cell_type": "code",
   "execution_count": 14,
   "metadata": {},
   "outputs": [
    {
     "name": "stdout",
     "output_type": "stream",
     "text": [
      "Most recent FCF: $108.71 billion\n",
      "Next year FCF: $119.62 billion\n",
      "Next year FCF, discounted: $117.7 billion\n"
     ]
    }
   ],
   "source": [
    "# Calculate most recent FCF, next year FCF, and discount next year's FCF\n",
    "# discount_rate is treasury rate here\n",
    "bill = 1_000_000_000\n",
    "discount_rate = 0.0163\n",
    "\n",
    "print(f\"Most recent FCF: ${round(ticker_df['FreeCashFlow'][0]/bill,2)} billion\")\n",
    "print(f\"Next year FCF: ${round(ticker_df['FreeCashFlow'][0]*(1+fcf_growth_rate1)/bill,2)} billion\")\n",
    "print(f\"Next year FCF, discounted: ${round(ticker_df['FreeCashFlow'][0]*(1+fcf_growth_rate1)**(1)/(1+discount_rate)/bill,2)} billion\")"
   ]
  },
  {
   "cell_type": "code",
   "execution_count": 15,
   "metadata": {},
   "outputs": [
    {
     "name": "stdout",
     "output_type": "stream",
     "text": [
      "Year 1: $117.7 billion\n",
      "Year 2: $127.4 billion\n",
      "Year 3: $138.0 billion\n",
      "Year 4: $149.4 billion\n",
      "Year 5: $161.7 billion\n",
      "Year 6: $175.1 billion\n",
      "Year 7: $189.6 billion\n",
      "Year 8: $205.3 billion\n",
      "Year 9: $222.2 billion\n",
      "Year 10: $240.6 billion\n",
      "Total FCF: $1726.9 billion\n"
     ]
    }
   ],
   "source": [
    "# DCF using the treasury rate as the discount rate and avg. FCF growth as growth rate\n",
    "treasury_rate = 0.0163\n",
    "# we start at zero, then incrementally add each subsequent year's FCF\n",
    "fcf_over_time1 = 0\n",
    "# our base will be the most recent year's FCF\n",
    "fcf_start = ticker_df['FreeCashFlow'][0]\n",
    "\n",
    "# covering a range of 10 years\n",
    "for i in range(1,10+1):\n",
    "    fcf_over_time1 += fcf_start * (1+fcf_growth_rate1)**i / (1+treasury_rate)**i\n",
    "    print(f\"Year {i}: ${round(fcf_start * (1+fcf_growth_rate1)**i / (1+treasury_rate)**i / 1_000_000_000,1)} billion\")\n",
    "\n",
    "print(f\"Total FCF: ${round(fcf_over_time1/1_000_000_000,1)} billion\")"
   ]
  },
  {
   "cell_type": "code",
   "execution_count": 16,
   "metadata": {},
   "outputs": [
    {
     "name": "stdout",
     "output_type": "stream",
     "text": [
      "Year 1: $113.9 billion\n",
      "Year 2: $119.4 billion\n",
      "Year 3: $125.1 billion\n",
      "Year 4: $131.1 billion\n",
      "Year 5: $137.4 billion\n",
      "Year 6: $144.0 billion\n",
      "Year 7: $150.9 billion\n",
      "Year 8: $158.1 billion\n",
      "Year 9: $165.7 billion\n",
      "Year 10: $173.6 billion\n",
      "Year 11: $181.9 billion\n",
      "Year 12: $190.7 billion\n",
      "Year 13: $199.8 billion\n",
      "Year 14: $209.4 billion\n",
      "Year 15: $219.4 billion\n",
      "Total FCF: $2420.4 billion\n"
     ]
    }
   ],
   "source": [
    "# DCF using 5% as the discount rate and avg. FCF growth as growth rate\n",
    "discount_rate = 0.05\n",
    "# we start at zero, then incrementally add each subsequent year's FCF\n",
    "fcf_over_time = 0\n",
    "# our base will be the most recent year's FCF\n",
    "fcf_start = ticker_df['FreeCashFlow'][0]\n",
    "\n",
    "# covering a range of 15 years\n",
    "for i in range(1,15+1):\n",
    "    fcf_over_time += fcf_start * (1+fcf_growth_rate1)**i / (1+discount_rate)**i\n",
    "    print(f\"Year {i}: ${round(fcf_start * (1+fcf_growth_rate1)**i / (1+discount_rate)**i / 1_000_000_000,1)} billion\")\n",
    "\n",
    "print(f\"Total FCF: ${round(fcf_over_time/1_000_000_000,1)} billion\")"
   ]
  },
  {
   "cell_type": "code",
   "execution_count": 18,
   "metadata": {},
   "outputs": [
    {
     "name": "stdout",
     "output_type": "stream",
     "text": [
      "Total FCF per share, v1: $103.49\n",
      "Total FCF per share, v2: $145.05\n",
      "Average FCF per share: $124.27\n"
     ]
    }
   ],
   "source": [
    "# turning FCF into per-share stock price predictions\n",
    "ticker_fcf1 = round(fcf_over_time1/ticker_df['Shares (Common)'][0],2)\n",
    "ticker_fcf2 = round(fcf_over_time/ticker_df['Shares (Common)'][0],2)\n",
    "\n",
    "avg_fcf = round((ticker_fcf1 + ticker_fcf2)/2,2)\n",
    "\n",
    "print(f\"Total FCF per share, v1: ${ticker_fcf1}\")\n",
    "print(f\"Total FCF per share, v2: ${ticker_fcf2}\")\n",
    "print(f\"Average FCF per share: ${avg_fcf}\")"
   ]
  },
  {
   "cell_type": "code",
   "execution_count": 19,
   "metadata": {},
   "outputs": [
    {
     "data": {
      "text/plain": [
       "2291.3389834781656"
      ]
     },
     "execution_count": 19,
     "metadata": {},
     "output_type": "execute_result"
    }
   ],
   "source": [
    "# DCF using treasury as discount rate and all AAPL growth as growth rate\n",
    "treasury_rate = 0.05\n",
    "fcf_over_time = 0\n",
    "fcf_start = ticker_df['FreeCashFlow'][0]\n",
    "for i in range(1,15+1):\n",
    "    fcf_over_time += fcf_start * (1+normalized_ticker_growth)**i / (1+treasury_rate)**i\n",
    "\n",
    "fcf_over_time/1_000_000_000"
   ]
  },
  {
   "cell_type": "code",
   "execution_count": 18,
   "metadata": {
    "collapsed": true,
    "jupyter": {
     "outputs_hidden": true
    }
   },
   "outputs": [
    {
     "data": {
      "text/plain": [
       "1.1247461131420948"
      ]
     },
     "execution_count": 18,
     "metadata": {},
     "output_type": "execute_result"
    }
   ],
   "source": [
    "# if total growth over 5 years is 180%\n",
    "# then the growth rate is:\n",
    "growth_180 = 1.8**(1/5)\n",
    "growth_180"
   ]
  },
  {
   "cell_type": "code",
   "execution_count": 19,
   "metadata": {},
   "outputs": [
    {
     "name": "stdout",
     "output_type": "stream",
     "text": [
      "1.0 - 1.8\n",
      "1.25 - 1.60036116503796\n",
      "1.5 - 1.479727244598282\n",
      "1.75 - 1.399168447706693\n",
      "2.0 - 1.3416407864998738\n",
      "2.25 - 1.2985373526865052\n",
      "2.5 - 1.2650538190282499\n",
      "2.75 - 1.2383014044559357\n",
      "3.0 - 1.21644039911468\n",
      "3.25 - 1.1982443398361224\n",
      "3.5 - 1.1828645094459014\n",
      "3.75 - 1.1696950930790704\n",
      "4.0 - 1.158292185288269\n",
      "4.25 - 1.1483231463818495\n",
      "4.5 - 1.139533831304058\n",
      "4.75 - 1.1317267469617007\n",
      "5.0 - 1.1247461131420948\n",
      "5.25 - 1.118467410511232\n",
      "5.5 - 1.1127899192821329\n",
      "5.75 - 1.1076312962277344\n",
      "6.0 - 1.1029235690267392\n",
      "6.25 - 1.098610134036251\n",
      "6.5 - 1.0946434761309831\n",
      "6.75 - 1.0909834159010432\n",
      "7.0 - 1.0875957472544207\n"
     ]
    }
   ],
   "source": [
    "for i in range(0,25):\n",
    "    print(f\"{1+i/4} - {1.80**(1/(1+i/4))}\")"
   ]
  },
  {
   "cell_type": "code",
   "execution_count": null,
   "metadata": {},
   "outputs": [],
   "source": []
  },
  {
   "cell_type": "code",
   "execution_count": null,
   "metadata": {},
   "outputs": [],
   "source": []
  }
 ],
 "metadata": {
  "kernelspec": {
   "display_name": "Python 3",
   "language": "python",
   "name": "python3"
  },
  "language_info": {
   "codemirror_mode": {
    "name": "ipython",
    "version": 3
   },
   "file_extension": ".py",
   "mimetype": "text/x-python",
   "name": "python",
   "nbconvert_exporter": "python",
   "pygments_lexer": "ipython3",
   "version": "3.8.5"
  }
 },
 "nbformat": 4,
 "nbformat_minor": 4
}
