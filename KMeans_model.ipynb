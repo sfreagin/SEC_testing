{
 "cells": [
  {
   "cell_type": "code",
   "execution_count": 1,
   "metadata": {},
   "outputs": [],
   "source": [
    "import pandas as pd\n",
    "import numpy as np\n",
    "import matplotlib.pyplot as plt\n",
    "import seaborn as sns\n",
    "import time\n",
    "\n",
    "from sklearn.preprocessing import StandardScaler\n",
    "from sklearn.datasets import make_blobs\n",
    "from sklearn.cluster import KMeans"
   ]
  },
  {
   "cell_type": "code",
   "execution_count": 25,
   "metadata": {},
   "outputs": [],
   "source": [
    "combo_df = pd.read_csv('combo_df.csv')\n",
    "stock_list = pd.read_csv('list_of_stocks.csv')\n",
    "\n",
    "# clean up the main combo_df index\n",
    "combo_df = combo_df.rename(columns={'Unnamed: 0':'Date'})\n",
    "combo_df = combo_df.set_index('Date')\n",
    "\n",
    "# clean up stock_list index (each row has a unique ticker)\n",
    "stock_list = stock_list.set_index('Ticker')\n",
    "\n",
    "# pull 'sector' into the combo_df\n",
    "combo_df['Sector'] = [stock_list.loc[ticker]['Sector'] for ticker in combo_df['Ticker']]"
   ]
  },
  {
   "cell_type": "code",
   "execution_count": null,
   "metadata": {},
   "outputs": [],
   "source": []
  },
  {
   "cell_type": "code",
   "execution_count": null,
   "metadata": {},
   "outputs": [],
   "source": []
  },
  {
   "cell_type": "code",
   "execution_count": 32,
   "metadata": {},
   "outputs": [],
   "source": [
    "X = combo_df.drop(columns=['Ticker','Sector'])\n",
    "y = combo_df['Sector']"
   ]
  },
  {
   "cell_type": "code",
   "execution_count": null,
   "metadata": {},
   "outputs": [],
   "source": []
  },
  {
   "cell_type": "code",
   "execution_count": null,
   "metadata": {},
   "outputs": [],
   "source": []
  },
  {
   "cell_type": "code",
   "execution_count": null,
   "metadata": {},
   "outputs": [],
   "source": []
  },
  {
   "cell_type": "markdown",
   "metadata": {},
   "source": [
    "## Logistic Regression - classifier"
   ]
  },
  {
   "cell_type": "code",
   "execution_count": 27,
   "metadata": {},
   "outputs": [],
   "source": [
    "from sklearn.linear_model import LogisticRegression"
   ]
  },
  {
   "cell_type": "code",
   "execution_count": null,
   "metadata": {},
   "outputs": [],
   "source": [
    "logreg = LogisticRegression()\n",
    "l"
   ]
  },
  {
   "cell_type": "code",
   "execution_count": null,
   "metadata": {},
   "outputs": [],
   "source": []
  },
  {
   "cell_type": "code",
   "execution_count": null,
   "metadata": {},
   "outputs": [],
   "source": []
  },
  {
   "cell_type": "code",
   "execution_count": null,
   "metadata": {},
   "outputs": [],
   "source": []
  },
  {
   "cell_type": "code",
   "execution_count": null,
   "metadata": {},
   "outputs": [],
   "source": []
  },
  {
   "cell_type": "code",
   "execution_count": 23,
   "metadata": {},
   "outputs": [],
   "source": [
    "# KMeans Model"
   ]
  },
  {
   "cell_type": "code",
   "execution_count": 3,
   "metadata": {},
   "outputs": [
    {
     "name": "stdout",
     "output_type": "stream",
     "text": [
      "This code took 94 seconds to run\n"
     ]
    }
   ],
   "source": [
    "start_time = time.time()\n",
    "\n",
    "#scale the data\n",
    "sc = StandardScaler()\n",
    "X_train_k = sc.fit_transform(combo_df)\n",
    "\n",
    "#instantiate the KMeans model\n",
    "km = KMeans(n_clusters=6)\n",
    "km.fit(X_train_k)\n",
    "\n",
    "# set the cluster labels\n",
    "combo_df['cluster'] = km.labels_\n",
    "\n",
    "print(f\"This code took {round(time.time() - start_time)} seconds to run\")"
   ]
  },
  {
   "cell_type": "code",
   "execution_count": null,
   "metadata": {},
   "outputs": [],
   "source": [
    "start_time = time.time()\n",
    "\n",
    "km.cluster_centers_\n",
    "\n",
    "print(f\"This code took {round(time.time() - start_time)} seconds to run\")"
   ]
  },
  {
   "cell_type": "code",
   "execution_count": null,
   "metadata": {},
   "outputs": [],
   "source": [
    "start_time = time.time()\n",
    "\n",
    "centroids = pd.DataFrame(\n",
    "    sc.inverse_transform(km.cluster_centers_),\n",
    "    columns = [combo_df.columns[:-1]]\n",
    ")\n",
    "\n",
    "print(f\"This code took {round(time.time() - start_time)} seconds to run\")"
   ]
  },
  {
   "cell_type": "code",
   "execution_count": null,
   "metadata": {},
   "outputs": [],
   "source": [
    "plt.figure(figsize=(10,25));\n",
    "\n",
    "## Plot scatter by cluster / color, and centroids\n",
    "colors = [\"red\", \"green\", \"blue\",'yellow','orange','gray']\n",
    "combo_df['color'] = combo_df['cluster'].map(lambda p: colors[p])\n",
    "\n",
    "ax = combo_df.plot(    \n",
    "    kind=\"scatter\", \n",
    "    x=\"Total Assets\", y=\"Total liabilities\",\n",
    "    figsize=(12,12),\n",
    "    c = combo_df['color'], s=5\n",
    ")\n",
    "\n",
    "#plt.xlim(0,5E11)\n",
    "#plt.ylim(0,5E11)\n",
    "\n",
    "\n",
    "# centroids.plot(\n",
    "#     kind=\"scatter\", \n",
    "#     x=\"Gross Profit\", y=\"Net Income Common\", \n",
    "#     marker=\"*\", c=[\"red\", \"green\", \"blue\",'yellow','orange','black'], s=1000,\n",
    "#     ax=ax\n",
    "# )"
   ]
  },
  {
   "cell_type": "code",
   "execution_count": null,
   "metadata": {},
   "outputs": [],
   "source": []
  }
 ],
 "metadata": {
  "kernelspec": {
   "display_name": "Python 3",
   "language": "python",
   "name": "python3"
  },
  "language_info": {
   "codemirror_mode": {
    "name": "ipython",
    "version": 3
   },
   "file_extension": ".py",
   "mimetype": "text/x-python",
   "name": "python",
   "nbconvert_exporter": "python",
   "pygments_lexer": "ipython3",
   "version": "3.8.5"
  }
 },
 "nbformat": 4,
 "nbformat_minor": 4
}
