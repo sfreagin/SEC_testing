{
 "cells": [
  {
   "cell_type": "markdown",
   "metadata": {},
   "source": [
    "# Discounted Cash Flow model"
   ]
  },
  {
   "cell_type": "markdown",
   "metadata": {},
   "source": [
    "## Part I: Generating the Data\n",
    "The main idea is, we want to predict how much “free cash” a company will generate next year, the year after that, and so on. And because money today is worth more than money tomorrow (that’s why interest rates exist), we *discount* the money in future years before adding the results together.\n",
    "\n",
    "You can read more on DCF models [here](https://www.investopedia.com/terms/d/dcf.asp) and [here](https://corporatefinanceinstitute.com/resources/knowledge/valuation/dcf-formula-guide/) and [here](https://sba.thehartford.com/finance/cash-flow/discounted-cash-flow/), or type the term into Google and find a million resources (I do recommend!)\n",
    "\n",
    "For this lesson we’ll create a DCF model using financial data for Apple, maker of iPhones and iPads, and currently the largest company in the stock market (by market cap). To follow along manually, go to [stockrow](https://stockrow.com/) , type “AAPL” into the search bar, and navigate to the “Financials” section — specifically the “trailing” section which is short for Trailing 12 Months.\n",
    "\n",
    "Download (or “Export”) the .xlsx files for the Income Statement (TTM), Cash Flow statement (TTM), and Balance Sheet (Quarterly)\n",
    "\n",
    "I had previously downloaded these Excel workbooks to my local machine. The following python code will quickly format the data so that it’s more compatible with the Pandas python library:"
   ]
  },
  {
   "cell_type": "code",
   "execution_count": null,
   "metadata": {},
   "outputs": [],
   "source": [
    "import pandas as pd\n",
    "import numpy as np\n",
    "import matplotlib.pyplot as plt\n",
    "import seaborn as sns"
   ]
  },
  {
   "cell_type": "code",
   "execution_count": null,
   "metadata": {},
   "outputs": [],
   "source": [
    "# pull the income statement, balance sheet, and cash flow statement \n",
    "# as downloaded from stockrow.com\n",
    "aapl_inc_df = pd.read_excel(f'./Income/AAPL_inc.xlsx').T\n",
    "aapl_bal_df = pd.read_excel(f'./BalanceSheet/AAPL_bal.xlsx').T\n",
    "aapl_cfl_df = pd.read_excel(f'./CashFlow/AAPL_cashflow.xlsx').T\n",
    "\n",
    "# change the first row to be the column headers\n",
    "aapl_inc_df.columns = aapl_inc_df.iloc[0]\n",
    "aapl_bal_df.columns = aapl_bal_df.iloc[0]\n",
    "aapl_cfl_df.columns = aapl_cfl_df.iloc[0]\n",
    "\n",
    "# remove the first row\n",
    "aapl_inc_df = aapl_inc_df.iloc[1:]\n",
    "aapl_bal_df = aapl_bal_df.iloc[1:]\n",
    "aapl_cfl_df = aapl_cfl_df.iloc[1:]\n",
    "\n",
    "# give index a new name\n",
    "aapl_inc_df=aapl_inc_df.rename_axis(\"Date\",axis=1)\n",
    "aapl_bal_df=aapl_bal_df.rename_axis(\"Date\",axis=1)\n",
    "aapl_cfl_df=aapl_cfl_df.rename_axis(\"Date\",axis=1)\n",
    "\n",
    "# check out the head, just make sure\n",
    "aapl_inc_df.head(3)"
   ]
  },
  {
   "cell_type": "markdown",
   "metadata": {},
   "source": [
    "This is *Trailing Twelve Months* or TTM data, which is a way to mimic \"annual\" numbers on a quarterly basis. We have three unique DataFrames, one corresponding to each of the Income Statement, Balance Sheet, and Cash Flow Statement. \n",
    "\n",
    "There are very many fields in the original Excel workbooks, only some of which we’re interested in. So let’s:\n",
    "1. Identify those columns / variables we’re interested in\n",
    "2. Extract only those fields\n",
    "3. Combine the separate DataFrames into 1\n",
    "\n",
    "I chose an arbitrary set of financial columns, but please explore and see which features you might add or subtract."
   ]
  },
  {
   "cell_type": "code",
   "execution_count": null,
   "metadata": {},
   "outputs": [],
   "source": [
    "# these are the columns we're interested in\n",
    "inc_columns = ['Revenue','Gross Profit','Operating Income','Income Tax Provision', 'Net Income Common']\n",
    "bal_columns = ['Total Assets','Total current assets','Total liabilities','Total current liabilities',\n",
    "               'Shareholders Equity (Total)','Shares (Common)']\n",
    "cfl_columns = ['Dividends Paid (Common)','Capital expenditures','Operating Cash Flow','Equity Repurchase (Common, Net)']\n",
    "\n",
    "# this will apply only the columns above to each of our financial statement DataFrames\n",
    "aapl_inc_df = aapl_inc_df[inc_columns]\n",
    "aapl_bal_df = aapl_bal_df[bal_columns]\n",
    "aapl_cfl_df = aapl_cfl_df[cfl_columns]\n",
    "\n",
    "# this will combine or concatenate our three DataFrames into one\n",
    "aapl_df = pd.concat([aapl_inc_df,aapl_bal_df,aapl_cfl_df], axis=1)\n",
    "\n",
    "aapl_df.head(2)"
   ]
  },
  {
   "cell_type": "markdown",
   "metadata": {},
   "source": [
    "To recap: we now have clean DataFrames filled with up to 10 years of relevant financial data for AAPL, indexed on a quarterly basis.\n",
    "\n",
    "## Part II: Calculating growth\n",
    "Let’s look at Apple’s Revenue over the last 10 years:"
   ]
  },
  {
   "cell_type": "code",
   "execution_count": null,
   "metadata": {},
   "outputs": [],
   "source": [
    "# TTM - Revenue\n",
    "plt.figure(figsize=(9,6))\n",
    "sns.scatterplot(x=aapl_df.index,y=aapl_df['Revenue'])\n",
    "plt.title('Trailing 12 months of Revenue for Apple, Inc')\n",
    "plt.ylabel('Revenue ($100B)');"
   ]
  },
  {
   "cell_type": "markdown",
   "metadata": {},
   "source": [
    "Their annual revenues have grown from roughly \\\\$100B to$300B over the course of a decade. What's the growth rate?\n",
    "\n",
    "Let's find the most recent one-year change in Revenue with the following code. It's a simple difference formula that indexes 4 quarters apart.\n",
    "\n",
    "<!--Well, the 1-yr growth rate is different from the 2-yr growth rate and so on.--> "
   ]
  },
  {
   "cell_type": "code",
   "execution_count": null,
   "metadata": {},
   "outputs": [],
   "source": [
    "# 1-year growth rate, last year of the dataset\n",
    "(aapl_df['Revenue'][0] - aapl_df['Revenue'][4]) / aapl_df['Revenue'][4]\n"
   ]
  },
  {
   "cell_type": "markdown",
   "metadata": {},
   "source": [
    "Extending the formula to 2 years, we follow this algorithm:\n",
    "- Find the percent difference over the last 8 quarters (t0 minus t8)\n",
    "- Add 1\n",
    "- Find tyr1_growth*n*th root (raise power to the (1/**2**) for n = **2** years)\n",
    "- Subtract 1\n"
   ]
  },
  {
   "cell_type": "code",
   "execution_count": null,
   "metadata": {},
   "outputs": [],
   "source": [
    "# 2-year growth rate, last year of the dataset\n",
    "(1 + (aapl_df['Revenue'][0] - aapl_df['Revenue'][8]) / aapl_df['Revenue'][8])**(1/2)-1"
   ]
  },
  {
   "cell_type": "markdown",
   "metadata": {},
   "source": [
    "There's another method we can use to calculate average growth over the last 10 years. Namely, we iterate through every quarter in the dataset and capture its 1-yr growth rate.\n",
    "\n",
    "Create a list comprehension to capture each iterated growth rate, then sum all entries and divide by number of entries"
   ]
  },
  {
   "cell_type": "code",
   "execution_count": null,
   "metadata": {},
   "outputs": [],
   "source": [
    "# averaging all 1-yr revenue growths\n",
    "rev_growth_list = [((aapl_df['Revenue'][i] - aapl_df['Revenue'][i+4]) / aapl_df['Revenue'][i+4]) \n",
    "                   for i in range(0,len(aapl_df['Revenue'])-4)]\n",
    "\n",
    "sum(rev_growth_list)/len(rev_growth_list)"
   ]
  },
  {
   "cell_type": "markdown",
   "metadata": {},
   "source": [
    "## What about other growth rates?\n",
    "\n",
    "Let's look at some other metrics:"
   ]
  },
  {
   "cell_type": "code",
   "execution_count": null,
   "metadata": {},
   "outputs": [],
   "source": [
    "#calculating all average growths at once\n",
    "growth_list = []\n",
    "for col in aapl_df.columns:\n",
    "    try:\n",
    "        col_growth_list = [((aapl_df[col][i] - aapl_df[col][i+4]) / aapl_df[col][i+4]) \n",
    "                           for i in range(0,len(aapl_df[col])-4)]\n",
    "        print(f\"Avg growth for {col} is {sum(col_growth_list)/len(col_growth_list)}\")\n",
    "        growth_list.append(sum(col_growth_list)/len(col_growth_list))\n",
    "    except:\n",
    "        print(f\"{col} throws an error\")\n",
    "\n",
    "print(f\"Avg growth: {sum(growth_list)/len(growth_list)}\")"
   ]
  },
  {
   "cell_type": "markdown",
   "metadata": {},
   "source": [
    "##### Sidenote\n",
    "Based on personal judgment, I’m comfortable removing the lowest values and also the highest values to get a better sense for the ‘typical’ growth rates of AAPL financial metrics:"
   ]
  },
  {
   "cell_type": "code",
   "execution_count": null,
   "metadata": {},
   "outputs": [],
   "source": [
    "# this code sorts the growth rates from low to high, \n",
    "# then it removes the top 2 and lowest 2\n",
    "growth_list.sort()\n",
    "normalized_aapl_growth = sum(growth_list[2:-2]) / len(growth_list[2:-2])\n",
    "normalized_aapl_growth"
   ]
  },
  {
   "cell_type": "markdown",
   "metadata": {},
   "source": [
    "## Part III: Discounted Cash Flow analysis\n",
    "Now that we have a better sense for what we mean by growth rates, let’s use this to predict a ‘true value’ for Apple, Inc.\n",
    "\n",
    "We’ll start by creating a new metric, one that doesn’t appear on most balance sheets, called Free Cash Flow (FCF). There are many definitions for FCF, but for expediency we’ll use:\n",
    "\n",
    "**Operating Cash Flow** minus **Capital Expenditures** equals **FCF**\n",
    "\n",
    "We create a new DataFrame column for FCF:"
   ]
  },
  {
   "cell_type": "code",
   "execution_count": null,
   "metadata": {},
   "outputs": [],
   "source": [
    "# defining a new column for FCF\n",
    "aapl_df['FreeCashFlow'] = aapl_df['Operating Cash Flow'] - aapl_df['Capital expenditures']"
   ]
  },
  {
   "cell_type": "markdown",
   "metadata": {},
   "source": [
    "Using our list comprehension method above, we can determine the average growth rate of FCF over the last decade:"
   ]
  },
  {
   "cell_type": "code",
   "execution_count": null,
   "metadata": {},
   "outputs": [],
   "source": [
    "# averaging all FCF growth rates\n",
    "fcf_growth_list = [((aapl_df['FreeCashFlow'][i] - aapl_df['FreeCashFlow'][i+4]) / aapl_df['FreeCashFlow'][i+4]) \n",
    "                   for i in range(0,len(aapl_df['FreeCashFlow'])-4)]\n",
    "\n",
    "fcf_growth_rate1 = sum(fcf_growth_list)/len(fcf_growth_list)\n",
    "print(f\"Free Cash Flow average 1-yr growth rate: {round(fcf_growth_rate1*100,2)}%\")"
   ]
  },
  {
   "cell_type": "markdown",
   "metadata": {},
   "source": [
    "The following code projects what next year’s Free Cash Flow might look like, in a series of steps:\n",
    "- Most recent FCF ($108.7 B)\n",
    "- Take the most recent FCF and increase by 10.03% (the avg. FCF growth rate)\n",
    "- Take the above and *decrease* it by the discount rate 1.63%\n",
    "\n",
    "I chose a discount rate of 1.63\\% because it’s equal to the current interest rates on 10-year Treasury Bills. This is purely for expediency; you might use weighted-average cost of capital (WACC) or some other discount rate methodology. Here’s the code:"
   ]
  },
  {
   "cell_type": "code",
   "execution_count": null,
   "metadata": {},
   "outputs": [],
   "source": [
    "# Calculate most recent FCF, next year FCF, and discount next year's FCF\n",
    "bill = 1_000_000_000\n",
    "discount_rate = 0.0163\n",
    "\n",
    "print(f\"Most recent FCF: ${round(aapl_df['FreeCashFlow'][0]/bill,2)} billion\")\n",
    "print(f\"Next year FCF: ${round(aapl_df['FreeCashFlow'][0]*(1+fcf_growth_rate1)/bill,2)} billion\")\n",
    "print(f\"Next year FCF, discounted: ${round(aapl_df['FreeCashFlow'][0]*(1+fcf_growth_rate1)**(1)/(1+discount_rate)/bill,2)} billion\")"
   ]
  },
  {
   "cell_type": "markdown",
   "metadata": {},
   "source": [
    "Now that we know how to project next year’s discounted FCF, we can naturally extend the analysis to year 2, year 3, and so on. Let’s assume the growth rates for AAPL’s next 10 years will be similar to the last 10. We’ll calculate FCF for each year, then add them all together:"
   ]
  },
  {
   "cell_type": "code",
   "execution_count": null,
   "metadata": {},
   "outputs": [],
   "source": [
    "# DCF using the treasury rate as the discount rate and avg. FCF growth as growth rate\n",
    "treasury_rate = 0.0163\n",
    "# we start at zero, then incrementally add each subsequent year's FCF\n",
    "fcf_over_time1 = 0\n",
    "# our base will be the most recent year's FCF\n",
    "fcf_start = aapl_df['FreeCashFlow'][0]\n",
    "\n",
    "# covering a range of 10 years\n",
    "for i in range(1,10+1):\n",
    "    fcf_over_time1 += fcf_start * (1+fcf_growth_rate1)**i / (1+treasury_rate)**i\n",
    "    print(f\"Year {i}: ${round(fcf_start * (1+fcf_growth_rate1)**i / (1+treasury_rate)**i / 1_000_000_000,1)} billion\")\n",
    "\n",
    "print(f\"Total FCF: ${round(fcf_over_time1/1_000_000_000,1)} billion\")"
   ]
  },
  {
   "cell_type": "markdown",
   "metadata": {},
   "source": [
    "$1.7 trillion, wow! What about 15 years? Let’s try it! \n",
    "\n",
    "Let’s also increase our discount rate to 5%, which will reduce the final value — and that makes sense because it’s so very difficult to project 15 years ahead of time:"
   ]
  },
  {
   "cell_type": "code",
   "execution_count": null,
   "metadata": {},
   "outputs": [],
   "source": [
    "# DCF using 5% as the discount rate and avg. FCF growth as growth rate\n",
    "discount_rate = 0.05\n",
    "# we start at zero, then incrementally add each subsequent year's FCF\n",
    "fcf_over_time = 0\n",
    "# our base will be the most recent year's FCF\n",
    "fcf_start = aapl_df['FreeCashFlow'][0]\n",
    "\n",
    "# covering a range of 15 years\n",
    "for i in range(1,15+1):\n",
    "    fcf_over_time += fcf_start * (1+fcf_growth_rate1)**i / (1+discount_rate)**i\n",
    "    print(f\"Year {i}: ${round(fcf_start * (1+fcf_growth_rate1)**i / (1+discount_rate)**i / 1_000_000_000,1)} billion\")\n",
    "\n",
    "print(f\"Total FCF: ${round(fcf_over_time/1_000_000_000,1)} billion\")"
   ]
  },
  {
   "cell_type": "markdown",
   "metadata": {},
   "source": [
    "##### $2.4 trillion\\!\n",
    "How much FCF per share of AAPL common stock?"
   ]
  },
  {
   "cell_type": "code",
   "execution_count": null,
   "metadata": {},
   "outputs": [],
   "source": [
    "# turning FCF into per-share stock price predictions\n",
    "aapl_fcf1 = round(fcf_over_time1/aapl_df['Shares (Common)'][0],2)\n",
    "aapl_fcf2 = round(fcf_over_time/aapl_df['Shares (Common)'][0],2)\n",
    "\n",
    "avg_fcf = round((aapl_fcf1 + aapl_fcf2)/2,2)\n",
    "\n",
    "print(f\"Total FCF per share, v1: ${aapl_fcf1}\")\n",
    "print(f\"Total FCF per share, v2: ${aapl_fcf2}\")\n",
    "print(f\"Average FCF per share: ${avg_fcf}\")"
   ]
  },
  {
   "cell_type": "code",
   "execution_count": null,
   "metadata": {},
   "outputs": [],
   "source": []
  },
  {
   "cell_type": "code",
   "execution_count": null,
   "metadata": {},
   "outputs": [],
   "source": []
  }
 ],
 "metadata": {
  "kernelspec": {
   "display_name": "Python 3",
   "language": "python",
   "name": "python3"
  },
  "language_info": {
   "codemirror_mode": {
    "name": "ipython",
    "version": 3
   },
   "file_extension": ".py",
   "mimetype": "text/x-python",
   "name": "python",
   "nbconvert_exporter": "python",
   "pygments_lexer": "ipython3",
   "version": "3.8.5"
  }
 },
 "nbformat": 4,
 "nbformat_minor": 4
}
