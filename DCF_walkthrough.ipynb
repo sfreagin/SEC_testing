{
 "cells": [
  {
   "cell_type": "markdown",
   "metadata": {},
   "source": [
    "# Discounted Cash Flow model"
   ]
  },
  {
   "cell_type": "markdown",
   "metadata": {},
   "source": [
    "## Part I: Generating the Data\n",
    "The main idea is, we want to predict how much “free cash” a company will generate next year, the year after that, and so on. And because money today is worth more than money tomorrow (that’s why interest rates exist), we *discount* the money in future years before adding the results together.\n",
    "\n",
    "You can read more on DCF models [here](https://www.investopedia.com/terms/d/dcf.asp) and [here](https://corporatefinanceinstitute.com/resources/knowledge/valuation/dcf-formula-guide/) and [here](https://sba.thehartford.com/finance/cash-flow/discounted-cash-flow/), or type the term into Google and find a million resources (I do recommend!)\n",
    "\n",
    "For this lesson we’ll create a DCF model using financial data for Apple, maker of iPhones and iPads, and currently the largest company in the stock market (by market cap). To follow along manually, go to [stockrow](https://stockrow.com/) , type “AAPL” into the search bar, and navigate to the “Financials” section — specifically the “trailing” section which is short for Trailing 12 Months.\n",
    "\n",
    "Download (or “Export”) the .xlsx files for the Income Statement (TTM), Cash Flow statement (TTM), and Balance Sheet (Quarterly)\n",
    "\n",
    "I had previously downloaded these Excel workbooks to my local machine. The following python code will quickly format the data so that it’s more compatible with the Pandas python library:"
   ]
  },
  {
   "cell_type": "code",
   "execution_count": 1,
   "metadata": {},
   "outputs": [],
   "source": [
    "import pandas as pd\n",
    "import numpy as np\n",
    "import matplotlib.pyplot as plt\n",
    "import seaborn as sns"
   ]
  },
  {
   "cell_type": "code",
   "execution_count": 2,
   "metadata": {},
   "outputs": [
    {
     "data": {
      "text/html": [
       "<div>\n",
       "<style scoped>\n",
       "    .dataframe tbody tr th:only-of-type {\n",
       "        vertical-align: middle;\n",
       "    }\n",
       "\n",
       "    .dataframe tbody tr th {\n",
       "        vertical-align: top;\n",
       "    }\n",
       "\n",
       "    .dataframe thead th {\n",
       "        text-align: right;\n",
       "    }\n",
       "</style>\n",
       "<table border=\"1\" class=\"dataframe\">\n",
       "  <thead>\n",
       "    <tr style=\"text-align: right;\">\n",
       "      <th>Date</th>\n",
       "      <th>Revenue</th>\n",
       "      <th>Cost of Revenue</th>\n",
       "      <th>Gross Profit</th>\n",
       "      <th>R&amp;D Expenses</th>\n",
       "      <th>SG&amp;A Expenses</th>\n",
       "      <th>Operating Income</th>\n",
       "      <th>Interest Expense (Operating)</th>\n",
       "      <th>Non-operating Income/Expense</th>\n",
       "      <th>Non-operating Interest Expenses</th>\n",
       "      <th>EBT</th>\n",
       "      <th>...</th>\n",
       "      <th>Free Cash Flow Margin</th>\n",
       "      <th>EBITDA</th>\n",
       "      <th>EBIT</th>\n",
       "      <th>EPS (Diluted, from Cont. Ops)</th>\n",
       "      <th>EPS (Basic, Consolidated)</th>\n",
       "      <th>EPS (Basic, from Continuous Ops)</th>\n",
       "      <th>Income from Continuous Operations</th>\n",
       "      <th>Consolidated Net Income/Loss</th>\n",
       "      <th>EBITDA Margin</th>\n",
       "      <th>Operating Cash Flow Margin</th>\n",
       "    </tr>\n",
       "  </thead>\n",
       "  <tbody>\n",
       "    <tr>\n",
       "      <th>2021-03-31 00:00:00</th>\n",
       "      <td>3.25522e+11</td>\n",
       "      <td>1.95404e+11</td>\n",
       "      <td>1.30118e+11</td>\n",
       "      <td>2.0161e+10</td>\n",
       "      <td>2.0712e+10</td>\n",
       "      <td>8.8903e+10</td>\n",
       "      <td>2.639e+09</td>\n",
       "      <td>-8.18e+08</td>\n",
       "      <td>3.134e+09</td>\n",
       "      <td>8.9628e+10</td>\n",
       "      <td>...</td>\n",
       "      <td>0.2779</td>\n",
       "      <td>1.00162e+11</td>\n",
       "      <td>8.8903e+10</td>\n",
       "      <td>4.4649</td>\n",
       "      <td>4.5129</td>\n",
       "      <td>4.5129</td>\n",
       "      <td>7.6311e+10</td>\n",
       "      <td>7.6311e+10</td>\n",
       "      <td>0.3077</td>\n",
       "      <td>0.3059</td>\n",
       "    </tr>\n",
       "    <tr>\n",
       "      <th>2020-12-31 00:00:00</th>\n",
       "      <td>2.93971e+11</td>\n",
       "      <td>1.80236e+11</td>\n",
       "      <td>1.13735e+11</td>\n",
       "      <td>1.9464e+10</td>\n",
       "      <td>2.035e+10</td>\n",
       "      <td>7.4253e+10</td>\n",
       "      <td>2.726e+09</td>\n",
       "      <td>-7.46e+08</td>\n",
       "      <td>3.465e+09</td>\n",
       "      <td>7.4752e+10</td>\n",
       "      <td>...</td>\n",
       "      <td>0.2729</td>\n",
       "      <td>8.4827e+10</td>\n",
       "      <td>7.4253e+10</td>\n",
       "      <td>3.7076</td>\n",
       "      <td>3.7474</td>\n",
       "      <td>3.7474</td>\n",
       "      <td>6.393e+10</td>\n",
       "      <td>6.393e+10</td>\n",
       "      <td>0.2886</td>\n",
       "      <td>0.3025</td>\n",
       "    </tr>\n",
       "    <tr>\n",
       "      <th>2020-09-30 00:00:00</th>\n",
       "      <td>2.74247e+11</td>\n",
       "      <td>1.69972e+11</td>\n",
       "      <td>1.04275e+11</td>\n",
       "      <td>1.8752e+10</td>\n",
       "      <td>1.9916e+10</td>\n",
       "      <td>6.6288e+10</td>\n",
       "      <td>2.873e+09</td>\n",
       "      <td>1.8e+08</td>\n",
       "      <td>3.763e+09</td>\n",
       "      <td>6.7091e+10</td>\n",
       "      <td>...</td>\n",
       "      <td>0.2675</td>\n",
       "      <td>7.6663e+10</td>\n",
       "      <td>6.6288e+10</td>\n",
       "      <td>3.2753</td>\n",
       "      <td>3.3085</td>\n",
       "      <td>3.3085</td>\n",
       "      <td>5.7411e+10</td>\n",
       "      <td>5.7411e+10</td>\n",
       "      <td>0.2795</td>\n",
       "      <td>0.2942</td>\n",
       "    </tr>\n",
       "  </tbody>\n",
       "</table>\n",
       "<p>3 rows × 28 columns</p>\n",
       "</div>"
      ],
      "text/plain": [
       "Date                     Revenue Cost of Revenue Gross Profit R&D Expenses  \\\n",
       "2021-03-31 00:00:00  3.25522e+11     1.95404e+11  1.30118e+11   2.0161e+10   \n",
       "2020-12-31 00:00:00  2.93971e+11     1.80236e+11  1.13735e+11   1.9464e+10   \n",
       "2020-09-30 00:00:00  2.74247e+11     1.69972e+11  1.04275e+11   1.8752e+10   \n",
       "\n",
       "Date                SG&A Expenses Operating Income  \\\n",
       "2021-03-31 00:00:00    2.0712e+10       8.8903e+10   \n",
       "2020-12-31 00:00:00     2.035e+10       7.4253e+10   \n",
       "2020-09-30 00:00:00    1.9916e+10       6.6288e+10   \n",
       "\n",
       "Date                Interest Expense (Operating) Non-operating Income/Expense  \\\n",
       "2021-03-31 00:00:00                    2.639e+09                    -8.18e+08   \n",
       "2020-12-31 00:00:00                    2.726e+09                    -7.46e+08   \n",
       "2020-09-30 00:00:00                    2.873e+09                      1.8e+08   \n",
       "\n",
       "Date                Non-operating Interest Expenses         EBT  ...  \\\n",
       "2021-03-31 00:00:00                       3.134e+09  8.9628e+10  ...   \n",
       "2020-12-31 00:00:00                       3.465e+09  7.4752e+10  ...   \n",
       "2020-09-30 00:00:00                       3.763e+09  6.7091e+10  ...   \n",
       "\n",
       "Date                Free Cash Flow Margin       EBITDA        EBIT  \\\n",
       "2021-03-31 00:00:00                0.2779  1.00162e+11  8.8903e+10   \n",
       "2020-12-31 00:00:00                0.2729   8.4827e+10  7.4253e+10   \n",
       "2020-09-30 00:00:00                0.2675   7.6663e+10  6.6288e+10   \n",
       "\n",
       "Date                EPS (Diluted, from Cont. Ops) EPS (Basic, Consolidated)  \\\n",
       "2021-03-31 00:00:00                        4.4649                    4.5129   \n",
       "2020-12-31 00:00:00                        3.7076                    3.7474   \n",
       "2020-09-30 00:00:00                        3.2753                    3.3085   \n",
       "\n",
       "Date                EPS (Basic, from Continuous Ops)  \\\n",
       "2021-03-31 00:00:00                           4.5129   \n",
       "2020-12-31 00:00:00                           3.7474   \n",
       "2020-09-30 00:00:00                           3.3085   \n",
       "\n",
       "Date                Income from Continuous Operations  \\\n",
       "2021-03-31 00:00:00                        7.6311e+10   \n",
       "2020-12-31 00:00:00                         6.393e+10   \n",
       "2020-09-30 00:00:00                        5.7411e+10   \n",
       "\n",
       "Date                Consolidated Net Income/Loss EBITDA Margin  \\\n",
       "2021-03-31 00:00:00                   7.6311e+10        0.3077   \n",
       "2020-12-31 00:00:00                    6.393e+10        0.2886   \n",
       "2020-09-30 00:00:00                   5.7411e+10        0.2795   \n",
       "\n",
       "Date                Operating Cash Flow Margin  \n",
       "2021-03-31 00:00:00                     0.3059  \n",
       "2020-12-31 00:00:00                     0.3025  \n",
       "2020-09-30 00:00:00                     0.2942  \n",
       "\n",
       "[3 rows x 28 columns]"
      ]
     },
     "execution_count": 2,
     "metadata": {},
     "output_type": "execute_result"
    }
   ],
   "source": [
    "# pull the income statement, balance sheet, and cash flow statement \n",
    "# as downloaded from stockrow.com\n",
    "aapl_inc_df = pd.read_excel(f'./Income/AAPL_inc.xlsx').T\n",
    "aapl_bal_df = pd.read_excel(f'./BalanceSheet/AAPL_bal.xlsx').T\n",
    "aapl_cfl_df = pd.read_excel(f'./CashFlow/AAPL_cashflow.xlsx').T\n",
    "\n",
    "# change the first row to be the column headers\n",
    "aapl_inc_df.columns = aapl_inc_df.iloc[0]\n",
    "aapl_bal_df.columns = aapl_bal_df.iloc[0]\n",
    "aapl_cfl_df.columns = aapl_cfl_df.iloc[0]\n",
    "\n",
    "# remove the first row\n",
    "aapl_inc_df = aapl_inc_df.iloc[1:]\n",
    "aapl_bal_df = aapl_bal_df.iloc[1:]\n",
    "aapl_cfl_df = aapl_cfl_df.iloc[1:]\n",
    "\n",
    "# give index a new name\n",
    "aapl_inc_df=aapl_inc_df.rename_axis(\"Date\",axis=1)\n",
    "aapl_bal_df=aapl_bal_df.rename_axis(\"Date\",axis=1)\n",
    "aapl_cfl_df=aapl_cfl_df.rename_axis(\"Date\",axis=1)\n",
    "\n",
    "# check out the head, just make sure\n",
    "aapl_inc_df.head(3)"
   ]
  },
  {
   "cell_type": "markdown",
   "metadata": {},
   "source": [
    "This is *Trailing Twelve Months* or TTM data, which is a way to mimic \"annual\" numbers on a quarterly basis. We have three unique DataFrames, one corresponding to each of the Income Statement, Balance Sheet, and Cash Flow Statement. \n",
    "\n",
    "There are very many fields in the original Excel workbooks, only some of which we’re interested in. So let’s:\n",
    "1. Identify those columns / variables we’re interested in\n",
    "2. Extract only those fields\n",
    "3. Combine the separate DataFrames into 1\n",
    "\n",
    "I chose an arbitrary set of financial columns, but please explore and see which features you might add or subtract."
   ]
  },
  {
   "cell_type": "code",
   "execution_count": 3,
   "metadata": {},
   "outputs": [
    {
     "data": {
      "text/html": [
       "<div>\n",
       "<style scoped>\n",
       "    .dataframe tbody tr th:only-of-type {\n",
       "        vertical-align: middle;\n",
       "    }\n",
       "\n",
       "    .dataframe tbody tr th {\n",
       "        vertical-align: top;\n",
       "    }\n",
       "\n",
       "    .dataframe thead th {\n",
       "        text-align: right;\n",
       "    }\n",
       "</style>\n",
       "<table border=\"1\" class=\"dataframe\">\n",
       "  <thead>\n",
       "    <tr style=\"text-align: right;\">\n",
       "      <th>Date</th>\n",
       "      <th>Revenue</th>\n",
       "      <th>Gross Profit</th>\n",
       "      <th>Operating Income</th>\n",
       "      <th>Income Tax Provision</th>\n",
       "      <th>Net Income Common</th>\n",
       "      <th>Total Assets</th>\n",
       "      <th>Total current assets</th>\n",
       "      <th>Total liabilities</th>\n",
       "      <th>Total current liabilities</th>\n",
       "      <th>Shareholders Equity (Total)</th>\n",
       "      <th>Shares (Common)</th>\n",
       "      <th>Dividends Paid (Common)</th>\n",
       "      <th>Capital expenditures</th>\n",
       "      <th>Operating Cash Flow</th>\n",
       "      <th>Equity Repurchase (Common, Net)</th>\n",
       "    </tr>\n",
       "  </thead>\n",
       "  <tbody>\n",
       "    <tr>\n",
       "      <th>2021-03-31 00:00:00</th>\n",
       "      <td>3.25522e+11</td>\n",
       "      <td>1.30118e+11</td>\n",
       "      <td>8.8903e+10</td>\n",
       "      <td>1.3317e+10</td>\n",
       "      <td>7.6311e+10</td>\n",
       "      <td>3.37158e+11</td>\n",
       "      <td>1.21465e+11</td>\n",
       "      <td>2.6798e+11</td>\n",
       "      <td>1.06385e+11</td>\n",
       "      <td>6.9178e+10</td>\n",
       "      <td>1.66863e+10</td>\n",
       "      <td>-1.4227e+10</td>\n",
       "      <td>-9.118e+09</td>\n",
       "      <td>9.9591e+10</td>\n",
       "      <td>-7.539e+10</td>\n",
       "    </tr>\n",
       "    <tr>\n",
       "      <th>2020-12-31 00:00:00</th>\n",
       "      <td>2.93971e+11</td>\n",
       "      <td>1.13735e+11</td>\n",
       "      <td>7.4253e+10</td>\n",
       "      <td>1.0822e+10</td>\n",
       "      <td>6.393e+10</td>\n",
       "      <td>3.54054e+11</td>\n",
       "      <td>1.54106e+11</td>\n",
       "      <td>2.8783e+11</td>\n",
       "      <td>1.32507e+11</td>\n",
       "      <td>6.6224e+10</td>\n",
       "      <td>1.68233e+10</td>\n",
       "      <td>-1.4155e+10</td>\n",
       "      <td>-8.702e+09</td>\n",
       "      <td>8.8921e+10</td>\n",
       "      <td>-7.5549e+10</td>\n",
       "    </tr>\n",
       "  </tbody>\n",
       "</table>\n",
       "</div>"
      ],
      "text/plain": [
       "Date                     Revenue Gross Profit Operating Income  \\\n",
       "2021-03-31 00:00:00  3.25522e+11  1.30118e+11       8.8903e+10   \n",
       "2020-12-31 00:00:00  2.93971e+11  1.13735e+11       7.4253e+10   \n",
       "\n",
       "Date                Income Tax Provision Net Income Common Total Assets  \\\n",
       "2021-03-31 00:00:00           1.3317e+10        7.6311e+10  3.37158e+11   \n",
       "2020-12-31 00:00:00           1.0822e+10         6.393e+10  3.54054e+11   \n",
       "\n",
       "Date                Total current assets Total liabilities  \\\n",
       "2021-03-31 00:00:00          1.21465e+11        2.6798e+11   \n",
       "2020-12-31 00:00:00          1.54106e+11        2.8783e+11   \n",
       "\n",
       "Date                Total current liabilities Shareholders Equity (Total)  \\\n",
       "2021-03-31 00:00:00               1.06385e+11                  6.9178e+10   \n",
       "2020-12-31 00:00:00               1.32507e+11                  6.6224e+10   \n",
       "\n",
       "Date                Shares (Common) Dividends Paid (Common)  \\\n",
       "2021-03-31 00:00:00     1.66863e+10             -1.4227e+10   \n",
       "2020-12-31 00:00:00     1.68233e+10             -1.4155e+10   \n",
       "\n",
       "Date                Capital expenditures Operating Cash Flow  \\\n",
       "2021-03-31 00:00:00           -9.118e+09          9.9591e+10   \n",
       "2020-12-31 00:00:00           -8.702e+09          8.8921e+10   \n",
       "\n",
       "Date                Equity Repurchase (Common, Net)  \n",
       "2021-03-31 00:00:00                      -7.539e+10  \n",
       "2020-12-31 00:00:00                     -7.5549e+10  "
      ]
     },
     "execution_count": 3,
     "metadata": {},
     "output_type": "execute_result"
    }
   ],
   "source": [
    "# these are the columns we're interested in\n",
    "inc_columns = ['Revenue','Gross Profit','Operating Income','Income Tax Provision', 'Net Income Common']\n",
    "bal_columns = ['Total Assets','Total current assets','Total liabilities','Total current liabilities',\n",
    "               'Shareholders Equity (Total)','Shares (Common)']\n",
    "cfl_columns = ['Dividends Paid (Common)','Capital expenditures','Operating Cash Flow','Equity Repurchase (Common, Net)']\n",
    "\n",
    "# this will apply only the columns above to each of our financial statement DataFrames\n",
    "aapl_inc_df = aapl_inc_df[inc_columns]\n",
    "aapl_bal_df = aapl_bal_df[bal_columns]\n",
    "aapl_cfl_df = aapl_cfl_df[cfl_columns]\n",
    "\n",
    "# this will combine or concatenate our three DataFrames into one\n",
    "aapl_df = pd.concat([aapl_inc_df,aapl_bal_df,aapl_cfl_df], axis=1)\n",
    "\n",
    "aapl_df.head(2)"
   ]
  },
  {
   "cell_type": "markdown",
   "metadata": {},
   "source": [
    "To recap: we now have clean DataFrames filled with up to 10 years of relevant financial data for AAPL, indexed on a quarterly basis.\n",
    "\n",
    "## Part II: Calculating growth\n",
    "Let’s look at Apple’s Revenue over the last 10 years:"
   ]
  },
  {
   "cell_type": "code",
   "execution_count": 4,
   "metadata": {},
   "outputs": [
    {
     "data": {
      "image/png": "[encoded data removed]",
      "text/plain": [
       "<Figure size 648x432 with 1 Axes>"
      ]
     },
     "metadata": {
      "needs_background": "light"
     },
     "output_type": "display_data"
    }
   ],
   "source": [
    "# TTM - Revenue\n",
    "plt.figure(figsize=(9,6))\n",
    "sns.scatterplot(x=aapl_df.index,y=aapl_df['Revenue'])\n",
    "plt.title('Trailing 12 months of Revenue for Apple, Inc')\n",
    "plt.ylabel('Revenue ($100B)');"
   ]
  },
  {
   "cell_type": "markdown",
   "metadata": {},
   "source": [
    "Their annual revenues have grown from roughly \\\\$100B to$300B over the course of a decade. What's the growth rate?\n",
    "\n",
    "Let's find the most recent one-year change in Revenue with the following code. It's a simple difference formula that indexes 4 quarters apart.\n",
    "\n",
    "<!--Well, the 1-yr growth rate is different from the 2-yr growth rate and so on.--> "
   ]
  },
  {
   "cell_type": "code",
   "execution_count": 5,
   "metadata": {},
   "outputs": [
    {
     "data": {
      "text/plain": [
       "0.21456634889838255"
      ]
     },
     "execution_count": 5,
     "metadata": {},
     "output_type": "execute_result"
    }
   ],
   "source": [
    "# 1-year growth rate, last year of the dataset\n",
    "(aapl_df['Revenue'][0] - aapl_df['Revenue'][4]) / aapl_df['Revenue'][4]\n"
   ]
  },
  {
   "cell_type": "markdown",
   "metadata": {},
   "source": [
    "Extending the formula to 2 years, we follow this algorithm:\n",
    "- Find the percent difference over the last 8 quarters (t0 minus t8)\n",
    "- Add 1\n",
    "- Find tyr1_growth*n*th root (raise power to the (1/**2**) for n = **2** years)\n",
    "- Subtract 1\n"
   ]
  },
  {
   "cell_type": "code",
   "execution_count": 6,
   "metadata": {},
   "outputs": [
    {
     "data": {
      "text/plain": [
       "0.12219492235956264"
      ]
     },
     "execution_count": 6,
     "metadata": {},
     "output_type": "execute_result"
    }
   ],
   "source": [
    "# 2-year growth rate, last year of the dataset\n",
    "(1 + (aapl_df['Revenue'][0] - aapl_df['Revenue'][8]) / aapl_df['Revenue'][8])**(1/2)-1"
   ]
  },
  {
   "cell_type": "markdown",
   "metadata": {},
   "source": [
    "There's another method we can use to calculate average growth over the last 10 years. Namely, we iterate through every quarter in the dataset and capture its 1-yr growth rate.\n",
    "\n",
    "Create a list comprehension to capture each iterated growth rate, then sum all entries and divide by number of entries"
   ]
  },
  {
   "cell_type": "code",
   "execution_count": 7,
   "metadata": {},
   "outputs": [
    {
     "data": {
      "text/plain": [
       "0.11136979876368042"
      ]
     },
     "execution_count": 7,
     "metadata": {},
     "output_type": "execute_result"
    }
   ],
   "source": [
    "# averaging all 1-yr revenue growths\n",
    "rev_growth_list = [((aapl_df['Revenue'][i] - aapl_df['Revenue'][i+4]) / aapl_df['Revenue'][i+4]) \n",
    "                   for i in range(0,len(aapl_df['Revenue'])-4)]\n",
    "\n",
    "sum(rev_growth_list)/len(rev_growth_list)"
   ]
  },
  {
   "cell_type": "markdown",
   "metadata": {},
   "source": [
    "## What about other growth rates?\n",
    "\n",
    "Let's look at some other metrics:"
   ]
  },
  {
   "cell_type": "code",
   "execution_count": 8,
   "metadata": {},
   "outputs": [
    {
     "name": "stdout",
     "output_type": "stream",
     "text": [
      "Avg growth for Revenue is 0.11136979876368042\n",
      "Avg growth for Gross Profit is 0.1068998624589989\n",
      "Avg growth for Operating Income is 0.08996071324022206\n",
      "Avg growth for Income Tax Provision is 0.041693283427884045\n",
      "Avg growth for Net Income Common is 0.1034889307872158\n",
      "Avg growth for Total Assets is 0.1229159743282768\n",
      "Avg growth for Total current assets is 0.13270611753933415\n",
      "Avg growth for Total liabilities is 0.23556981918745235\n",
      "Avg growth for Total current liabilities is 0.1623257958285469\n",
      "Avg growth for Shareholders Equity (Total) is -0.003583780903502146\n",
      "Avg growth for Shares (Common) is -0.046694381827137886\n",
      "Dividends Paid (Common) throws an error\n",
      "Avg growth for Capital expenditures is 0.12999951725249131\n",
      "Avg growth for Operating Cash Flow is 0.1006475188816269\n",
      "Avg growth for Equity Repurchase (Common, Net) is -0.32919617910389176\n",
      "Avg growth: 0.0684359278472284\n"
     ]
    }
   ],
   "source": [
    "#calculating all average growths at once\n",
    "growth_list = []\n",
    "for col in aapl_df.columns:\n",
    "    try:\n",
    "        col_growth_list = [((aapl_df[col][i] - aapl_df[col][i+4]) / aapl_df[col][i+4]) \n",
    "                           for i in range(0,len(aapl_df[col])-4)]\n",
    "        print(f\"Avg growth for {col} is {sum(col_growth_list)/len(col_growth_list)}\")\n",
    "        growth_list.append(sum(col_growth_list)/len(col_growth_list))\n",
    "    except:\n",
    "        print(f\"{col} throws an error\")\n",
    "\n",
    "print(f\"Avg growth: {sum(growth_list)/len(growth_list)}\")"
   ]
  },
  {
   "cell_type": "markdown",
   "metadata": {},
   "source": [
    "##### Sidenote\n",
    "Based on personal judgment, I’m comfortable removing the lowest values and also the highest values to get a better sense for the ‘typical’ growth rates of AAPL financial metrics:"
   ]
  },
  {
   "cell_type": "code",
   "execution_count": 9,
   "metadata": {},
   "outputs": [
    {
     "data": {
      "text/plain": [
       "0.09360979357762284"
      ]
     },
     "execution_count": 9,
     "metadata": {},
     "output_type": "execute_result"
    }
   ],
   "source": [
    "# this code sorts the growth rates from low to high, \n",
    "# then it removes the top 2 and lowest 2\n",
    "growth_list.sort()\n",
    "normalized_aapl_growth = sum(growth_list[2:-2]) / len(growth_list[2:-2])\n",
    "normalized_aapl_growth"
   ]
  },
  {
   "cell_type": "markdown",
   "metadata": {},
   "source": [
    "## Part III: Discounted Cash Flow analysis\n",
    "Now that we have a better sense for what we mean by growth rates, let’s use this to predict a ‘true value’ for Apple, Inc.\n",
    "\n",
    "We’ll start by creating a new metric, one that doesn’t appear on most balance sheets, called Free Cash Flow (FCF). There are many definitions for FCF, but for expediency we’ll use:\n",
    "\n",
    "**Operating Cash Flow** minus **Capital Expenditures** equals **FCF**\n",
    "\n",
    "We create a new DataFrame column for FCF:"
   ]
  },
  {
   "cell_type": "code",
   "execution_count": 10,
   "metadata": {},
   "outputs": [],
   "source": [
    "# defining a new column for FCF\n",
    "aapl_df['FreeCashFlow'] = aapl_df['Operating Cash Flow'] - aapl_df['Capital expenditures']"
   ]
  },
  {
   "cell_type": "markdown",
   "metadata": {},
   "source": [
    "Using our list comprehension method above, we can determine the average growth rate of FCF over the last decade:"
   ]
  },
  {
   "cell_type": "code",
   "execution_count": 11,
   "metadata": {},
   "outputs": [
    {
     "name": "stdout",
     "output_type": "stream",
     "text": [
      "Free Cash Flow average 1-yr growth rate: 10.03%\n"
     ]
    }
   ],
   "source": [
    "# averaging all FCF growth rates\n",
    "fcf_growth_list = [((aapl_df['FreeCashFlow'][i] - aapl_df['FreeCashFlow'][i+4]) / aapl_df['FreeCashFlow'][i+4]) \n",
    "                   for i in range(0,len(aapl_df['FreeCashFlow'])-4)]\n",
    "\n",
    "fcf_growth_rate1 = sum(fcf_growth_list)/len(fcf_growth_list)\n",
    "print(f\"Free Cash Flow average 1-yr growth rate: {round(fcf_growth_rate1*100,2)}%\")"
   ]
  },
  {
   "cell_type": "markdown",
   "metadata": {},
   "source": [
    "The following code projects what next year’s Free Cash Flow might look like, in a series of steps:\n",
    "- Most recent FCF ($108.7 B)\n",
    "- Take the most recent FCF and increase by 10.03% (the avg. FCF growth rate)\n",
    "- Take the above and *decrease* it by the discount rate 1.63%\n",
    "\n",
    "I chose a discount rate of 1.63\\% because it’s equal to the current interest rates on 10-year Treasury Bills. This is purely for expediency; you might use weighted-average cost of capital (WACC) or some other discount rate methodology. Here’s the code:"
   ]
  },
  {
   "cell_type": "code",
   "execution_count": 12,
   "metadata": {},
   "outputs": [
    {
     "name": "stdout",
     "output_type": "stream",
     "text": [
      "Most recent FCF: $108.71 billion\n",
      "Next year FCF: $119.62 billion\n",
      "Next year FCF, discounted: $117.7 billion\n"
     ]
    }
   ],
   "source": [
    "# Calculate most recent FCF, next year FCF, and discount next year's FCF\n",
    "bill = 1_000_000_000\n",
    "discount_rate = 0.0163\n",
    "\n",
    "print(f\"Most recent FCF: ${round(aapl_df['FreeCashFlow'][0]/bill,2)} billion\")\n",
    "print(f\"Next year FCF: ${round(aapl_df['FreeCashFlow'][0]*(1+fcf_growth_rate1)/bill,2)} billion\")\n",
    "print(f\"Next year FCF, discounted: ${round(aapl_df['FreeCashFlow'][0]*(1+fcf_growth_rate1)**(1)/(1+discount_rate)/bill,2)} billion\")"
   ]
  },
  {
   "cell_type": "markdown",
   "metadata": {},
   "source": [
    "Now that we know how to project next year’s discounted FCF, we can naturally extend the analysis to year 2, year 3, and so on. Let’s assume the growth rates for AAPL’s next 10 years will be similar to the last 10. We’ll calculate FCF for each year, then add them all together:"
   ]
  },
  {
   "cell_type": "code",
   "execution_count": 13,
   "metadata": {},
   "outputs": [
    {
     "name": "stdout",
     "output_type": "stream",
     "text": [
      "Year 1: $117.7 billion\n",
      "Year 2: $127.4 billion\n",
      "Year 3: $138.0 billion\n",
      "Year 4: $149.4 billion\n",
      "Year 5: $161.7 billion\n",
      "Year 6: $175.1 billion\n",
      "Year 7: $189.6 billion\n",
      "Year 8: $205.3 billion\n",
      "Year 9: $222.2 billion\n",
      "Year 10: $240.6 billion\n",
      "Total FCF: $1726.9 billion\n"
     ]
    }
   ],
   "source": [
    "# DCF using the treasury rate as the discount rate and avg. FCF growth as growth rate\n",
    "treasury_rate = 0.0163\n",
    "# we start at zero, then incrementally add each subsequent year's FCF\n",
    "fcf_over_time1 = 0\n",
    "# our base will be the most recent year's FCF\n",
    "fcf_start = aapl_df['FreeCashFlow'][0]\n",
    "\n",
    "# covering a range of 10 years\n",
    "for i in range(1,10+1):\n",
    "    fcf_over_time1 += fcf_start * (1+fcf_growth_rate1)**i / (1+treasury_rate)**i\n",
    "    print(f\"Year {i}: ${round(fcf_start * (1+fcf_growth_rate1)**i / (1+treasury_rate)**i / 1_000_000_000,1)} billion\")\n",
    "\n",
    "print(f\"Total FCF: ${round(fcf_over_time1/1_000_000_000,1)} billion\")"
   ]
  },
  {
   "cell_type": "markdown",
   "metadata": {},
   "source": [
    "$1.7 trillion, wow! What about 15 years? Let’s try it! \n",
    "\n",
    "Let’s also increase our discount rate to 5%, which will reduce the final value — and that makes sense because it’s so very difficult to project 15 years ahead of time:"
   ]
  },
  {
   "cell_type": "code",
   "execution_count": 14,
   "metadata": {},
   "outputs": [
    {
     "name": "stdout",
     "output_type": "stream",
     "text": [
      "Year 1: $113.9 billion\n",
      "Year 2: $119.4 billion\n",
      "Year 3: $125.1 billion\n",
      "Year 4: $131.1 billion\n",
      "Year 5: $137.4 billion\n",
      "Year 6: $144.0 billion\n",
      "Year 7: $150.9 billion\n",
      "Year 8: $158.1 billion\n",
      "Year 9: $165.7 billion\n",
      "Year 10: $173.6 billion\n",
      "Year 11: $181.9 billion\n",
      "Year 12: $190.7 billion\n",
      "Year 13: $199.8 billion\n",
      "Year 14: $209.4 billion\n",
      "Year 15: $219.4 billion\n",
      "Total FCF: $2420.4 billion\n"
     ]
    }
   ],
   "source": [
    "# DCF using 5% as the discount rate and avg. FCF growth as growth rate\n",
    "discount_rate = 0.05\n",
    "# we start at zero, then incrementally add each subsequent year's FCF\n",
    "fcf_over_time = 0\n",
    "# our base will be the most recent year's FCF\n",
    "fcf_start = aapl_df['FreeCashFlow'][0]\n",
    "\n",
    "# covering a range of 15 years\n",
    "for i in range(1,15+1):\n",
    "    fcf_over_time += fcf_start * (1+fcf_growth_rate1)**i / (1+discount_rate)**i\n",
    "    print(f\"Year {i}: ${round(fcf_start * (1+fcf_growth_rate1)**i / (1+discount_rate)**i / 1_000_000_000,1)} billion\")\n",
    "\n",
    "print(f\"Total FCF: ${round(fcf_over_time/1_000_000_000,1)} billion\")"
   ]
  },
  {
   "cell_type": "markdown",
   "metadata": {},
   "source": [
    "##### $2.4 trillion\\!\n",
    "How much FCF per share of AAPL common stock?"
   ]
  },
  {
   "cell_type": "code",
   "execution_count": 15,
   "metadata": {},
   "outputs": [
    {
     "name": "stdout",
     "output_type": "stream",
     "text": [
      "Total FCF per share, v1: $103.49\n",
      "Total FCF per share, v2: $145.05\n",
      "Average FCF per share: $124.27\n"
     ]
    }
   ],
   "source": [
    "# turning FCF into per-share stock price predictions\n",
    "aapl_fcf1 = round(fcf_over_time1/aapl_df['Shares (Common)'][0],2)\n",
    "aapl_fcf2 = round(fcf_over_time/aapl_df['Shares (Common)'][0],2)\n",
    "\n",
    "avg_fcf = round((aapl_fcf1 + aapl_fcf2)/2,2)\n",
    "\n",
    "print(f\"Total FCF per share, v1: ${aapl_fcf1}\")\n",
    "print(f\"Total FCF per share, v2: ${aapl_fcf2}\")\n",
    "print(f\"Average FCF per share: ${avg_fcf}\")"
   ]
  },
  {
   "cell_type": "code",
   "execution_count": null,
   "metadata": {},
   "outputs": [],
   "source": []
  },
  {
   "cell_type": "code",
   "execution_count": null,
   "metadata": {},
   "outputs": [],
   "source": []
  }
 ],
 "metadata": {
  "kernelspec": {
   "display_name": "Python 3",
   "language": "python",
   "name": "python3"
  },
  "language_info": {
   "codemirror_mode": {
    "name": "ipython",
    "version": 3
   },
   "file_extension": ".py",
   "mimetype": "text/x-python",
   "name": "python",
   "nbconvert_exporter": "python",
   "pygments_lexer": "ipython3",
   "version": "3.8.5"
  }
 },
 "nbformat": 4,
 "nbformat_minor": 4
}
