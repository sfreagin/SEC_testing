{
 "cells": [
  {
   "cell_type": "code",
   "execution_count": 4,
   "metadata": {},
   "outputs": [],
   "source": [
    "import pandas as pd\n",
    "import numpy as np\n",
    "import matplotlib.pyplot as plt\n",
    "import seaborn as sns\n",
    "import time\n",
    "\n",
    "from sklearn.model_selection import train_test_split\n",
    "from sklearn.preprocessing import StandardScaler\n",
    "from sklearn.datasets import make_blobs\n",
    "from sklearn.cluster import KMeans"
   ]
  },
  {
   "cell_type": "code",
   "execution_count": 5,
   "metadata": {},
   "outputs": [],
   "source": [
    "combo_df = pd.read_csv('combo_df.csv')\n",
    "stock_list = pd.read_csv('list_of_stocks.csv')\n",
    "\n",
    "# clean up the main combo_df index\n",
    "combo_df = combo_df.rename(columns={'Unnamed: 0':'Date'})\n",
    "combo_df = combo_df.set_index('Date')\n",
    "\n",
    "# clean up stock_list index (each row has a unique ticker)\n",
    "stock_list = stock_list.set_index('Ticker')\n",
    "\n",
    "# pull 'sector' into the combo_df\n",
    "combo_df['Sector'] = [stock_list.loc[ticker]['Sector'] for ticker in combo_df['Ticker']]"
   ]
  },
  {
   "cell_type": "code",
   "execution_count": null,
   "metadata": {},
   "outputs": [],
   "source": []
  },
  {
   "cell_type": "code",
   "execution_count": null,
   "metadata": {},
   "outputs": [],
   "source": []
  },
  {
   "cell_type": "code",
   "execution_count": null,
   "metadata": {},
   "outputs": [],
   "source": []
  },
  {
   "cell_type": "code",
   "execution_count": null,
   "metadata": {},
   "outputs": [],
   "source": []
  },
  {
   "cell_type": "code",
   "execution_count": 6,
   "metadata": {},
   "outputs": [
    {
     "name": "stdout",
     "output_type": "stream",
     "text": [
      "This code took 0 seconds to run\n"
     ]
    }
   ],
   "source": [
    "start_time = time.time()\n",
    "# how close can I 'predict' revenues?\n",
    "\n",
    "X = combo_df.drop(columns=['Sector','Ticker'])\n",
    "y = combo_df['Sector']\n",
    "\n",
    "X_train, X_test, y_train, y_test = train_test_split(X,y,test_size=0.5)\n",
    "\n",
    "sc = StandardScaler()\n",
    "X_train_sc = sc.fit_transform(X_train)\n",
    "X_test_sc = sc.transform(X_test)\n",
    "\n",
    "print(f\"This code took {round(time.time() - start_time)} seconds to run\")"
   ]
  },
  {
   "cell_type": "code",
   "execution_count": null,
   "metadata": {},
   "outputs": [],
   "source": []
  },
  {
   "cell_type": "code",
   "execution_count": 16,
   "metadata": {},
   "outputs": [],
   "source": [
    "combo_df_4km = combo_df.drop(columns=['Ticker','Sector'])"
   ]
  },
  {
   "cell_type": "code",
   "execution_count": null,
   "metadata": {},
   "outputs": [],
   "source": []
  },
  {
   "cell_type": "code",
   "execution_count": 17,
   "metadata": {},
   "outputs": [],
   "source": [
    "# KMeans Model"
   ]
  },
  {
   "cell_type": "code",
   "execution_count": 19,
   "metadata": {},
   "outputs": [
    {
     "name": "stdout",
     "output_type": "stream",
     "text": [
      "This code took 1 seconds to run\n"
     ]
    }
   ],
   "source": [
    "start_time = time.time()\n",
    "\n",
    "#scale the data\n",
    "sc = StandardScaler()\n",
    "X_train_k = sc.fit_transform(combo_df_4km)\n",
    "\n",
    "#instantiate the KMeans model\n",
    "km = KMeans(n_clusters=6)\n",
    "km.fit(X_train_k)\n",
    "\n",
    "# set the cluster labels\n",
    "combo_df_4km['cluster'] = km.labels_\n",
    "\n",
    "print(f\"This code took {round(time.time() - start_time)} seconds to run\")"
   ]
  },
  {
   "cell_type": "code",
   "execution_count": 20,
   "metadata": {},
   "outputs": [
    {
     "name": "stdout",
     "output_type": "stream",
     "text": [
      "This code took 0 seconds to run\n"
     ]
    }
   ],
   "source": [
    "start_time = time.time()\n",
    "\n",
    "km.cluster_centers_\n",
    "\n",
    "print(f\"This code took {round(time.time() - start_time)} seconds to run\")"
   ]
  },
  {
   "cell_type": "code",
   "execution_count": 22,
   "metadata": {},
   "outputs": [
    {
     "name": "stdout",
     "output_type": "stream",
     "text": [
      "This code took 0 seconds to run\n"
     ]
    }
   ],
   "source": [
    "start_time = time.time()\n",
    "\n",
    "centroids = pd.DataFrame(\n",
    "    sc.inverse_transform(km.cluster_centers_),\n",
    "    columns = [combo_df_4km.columns]\n",
    ")\n",
    "\n",
    "print(f\"This code took {round(time.time() - start_time)} seconds to run\")"
   ]
  },
  {
   "cell_type": "code",
   "execution_count": 23,
   "metadata": {},
   "outputs": [
    {
     "data": {
      "text/plain": [
       "<Figure size 720x1800 with 0 Axes>"
      ]
     },
     "metadata": {},
     "output_type": "display_data"
    },
    {
     "data": {
      "image/png": "[encoded data removed]",
      "text/plain": [
       "<Figure size 864x864 with 1 Axes>"
      ]
     },
     "metadata": {
      "needs_background": "light"
     },
     "output_type": "display_data"
    }
   ],
   "source": [
    "plt.figure(figsize=(10,25));\n",
    "\n",
    "## Plot scatter by cluster / color, and centroids\n",
    "colors = [\"red\", \"green\", \"blue\",'yellow','orange','gray']\n",
    "combo_df['color'] = combo_df['cluster'].map(lambda p: colors[p])\n",
    "\n",
    "ax = combo_df.plot(    \n",
    "    kind=\"scatter\", \n",
    "    x=\"Total Assets\", y=\"Total liabilities\",\n",
    "    figsize=(12,12),\n",
    "    c = combo_df['color'], s=5\n",
    ")\n",
    "\n",
    "#plt.xlim(0,5E11)\n",
    "#plt.ylim(0,5E11)\n",
    "\n",
    "\n",
    "# centroids.plot(\n",
    "#     kind=\"scatter\", \n",
    "#     x=\"Gross Profit\", y=\"Net Income Common\", \n",
    "#     marker=\"*\", c=[\"red\", \"green\", \"blue\",'yellow','orange','black'], s=1000,\n",
    "#     ax=ax\n",
    "# )"
   ]
  },
  {
   "cell_type": "code",
   "execution_count": null,
   "metadata": {},
   "outputs": [],
   "source": []
  }
 ],
 "metadata": {
  "kernelspec": {
   "display_name": "Python 3",
   "language": "python",
   "name": "python3"
  },
  "language_info": {
   "codemirror_mode": {
    "name": "ipython",
    "version": 3
   },
   "file_extension": ".py",
   "mimetype": "text/x-python",
   "name": "python",
   "nbconvert_exporter": "python",
   "pygments_lexer": "ipython3",
   "version": "3.8.5"
  }
 },
 "nbformat": 4,
 "nbformat_minor": 4
}
