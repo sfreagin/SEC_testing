{
 "cells": [
  {
   "cell_type": "markdown",
   "metadata": {},
   "source": [
    "## KMeans Model\n",
    "\n",
    "I'm going to use a KMeans model to cluster companies based on their intrinsic financial characteristics. I'm curious to see whether or not these 'natural' clusters correspond with GICS industry sector classifications."
   ]
  },
  {
   "cell_type": "code",
   "execution_count": 1,
   "metadata": {},
   "outputs": [],
   "source": [
    "import pandas as pd\n",
    "import numpy as np\n",
    "import matplotlib.pyplot as plt\n",
    "import seaborn as sns\n",
    "import time\n",
    "\n",
    "from sklearn.preprocessing import StandardScaler\n",
    "from sklearn.datasets import make_blobs\n",
    "from sklearn.cluster import KMeans"
   ]
  },
  {
   "cell_type": "code",
   "execution_count": 2,
   "metadata": {},
   "outputs": [],
   "source": [
    "combo_df = pd.read_csv('../combo_df.csv')\n",
    "stock_list = pd.read_csv('../list_of_stocks.csv')\n",
    "\n",
    "# clean up the main combo_df index\n",
    "combo_df = combo_df.rename(columns={'Unnamed: 0':'Date'})\n",
    "combo_df = combo_df.set_index('Date')\n",
    "\n",
    "# clean up stock_list index (each row has a unique ticker)\n",
    "stock_list = stock_list.set_index('Ticker')\n",
    "\n",
    "# pull 'sector' into the combo_df\n",
    "combo_df['Sector'] = [stock_list.loc[ticker]['Sector'] for ticker in combo_df['Ticker']]"
   ]
  },
  {
   "cell_type": "code",
   "execution_count": 3,
   "metadata": {},
   "outputs": [
    {
     "data": {
      "text/html": [
       "<div>\n",
       "<style scoped>\n",
       "    .dataframe tbody tr th:only-of-type {\n",
       "        vertical-align: middle;\n",
       "    }\n",
       "\n",
       "    .dataframe tbody tr th {\n",
       "        vertical-align: top;\n",
       "    }\n",
       "\n",
       "    .dataframe thead th {\n",
       "        text-align: right;\n",
       "    }\n",
       "</style>\n",
       "<table border=\"1\" class=\"dataframe\">\n",
       "  <thead>\n",
       "    <tr style=\"text-align: right;\">\n",
       "      <th></th>\n",
       "      <th>Revenue</th>\n",
       "      <th>Gross Profit</th>\n",
       "      <th>Operating Income</th>\n",
       "      <th>Income Tax Provision</th>\n",
       "      <th>Net Income Common</th>\n",
       "      <th>Total Assets</th>\n",
       "      <th>Total current assets</th>\n",
       "      <th>Total liabilities</th>\n",
       "      <th>Total current liabilities</th>\n",
       "      <th>Shareholders Equity (Total)</th>\n",
       "      <th>...</th>\n",
       "      <th>Ticker_ZIXI</th>\n",
       "      <th>Ticker_ZM</th>\n",
       "      <th>Ticker_ZNGA</th>\n",
       "      <th>Ticker_ZS</th>\n",
       "      <th>Ticker_ZTS</th>\n",
       "      <th>Ticker_ZUMZ</th>\n",
       "      <th>Ticker_ZUO</th>\n",
       "      <th>Ticker_ZVO</th>\n",
       "      <th>Ticker_ZYNE</th>\n",
       "      <th>Ticker_ZYXI</th>\n",
       "    </tr>\n",
       "    <tr>\n",
       "      <th>Date</th>\n",
       "      <th></th>\n",
       "      <th></th>\n",
       "      <th></th>\n",
       "      <th></th>\n",
       "      <th></th>\n",
       "      <th></th>\n",
       "      <th></th>\n",
       "      <th></th>\n",
       "      <th></th>\n",
       "      <th></th>\n",
       "      <th></th>\n",
       "      <th></th>\n",
       "      <th></th>\n",
       "      <th></th>\n",
       "      <th></th>\n",
       "      <th></th>\n",
       "      <th></th>\n",
       "      <th></th>\n",
       "      <th></th>\n",
       "      <th></th>\n",
       "      <th></th>\n",
       "    </tr>\n",
       "  </thead>\n",
       "  <tbody>\n",
       "    <tr>\n",
       "      <th>2021-03-31</th>\n",
       "      <td>3.252080e+11</td>\n",
       "      <td>1.266010e+11</td>\n",
       "      <td>8.890300e+10</td>\n",
       "      <td>1.331700e+10</td>\n",
       "      <td>7.631100e+10</td>\n",
       "      <td>3.371580e+11</td>\n",
       "      <td>1.214650e+11</td>\n",
       "      <td>2.679800e+11</td>\n",
       "      <td>1.063850e+11</td>\n",
       "      <td>6.917800e+10</td>\n",
       "      <td>...</td>\n",
       "      <td>0</td>\n",
       "      <td>0</td>\n",
       "      <td>0</td>\n",
       "      <td>0</td>\n",
       "      <td>0</td>\n",
       "      <td>0</td>\n",
       "      <td>0</td>\n",
       "      <td>0</td>\n",
       "      <td>0</td>\n",
       "      <td>0</td>\n",
       "    </tr>\n",
       "    <tr>\n",
       "      <th>2020-12-31</th>\n",
       "      <td>2.939710e+11</td>\n",
       "      <td>1.137350e+11</td>\n",
       "      <td>7.425300e+10</td>\n",
       "      <td>1.082200e+10</td>\n",
       "      <td>6.393000e+10</td>\n",
       "      <td>3.540540e+11</td>\n",
       "      <td>1.541060e+11</td>\n",
       "      <td>2.878300e+11</td>\n",
       "      <td>1.325070e+11</td>\n",
       "      <td>6.622400e+10</td>\n",
       "      <td>...</td>\n",
       "      <td>0</td>\n",
       "      <td>0</td>\n",
       "      <td>0</td>\n",
       "      <td>0</td>\n",
       "      <td>0</td>\n",
       "      <td>0</td>\n",
       "      <td>0</td>\n",
       "      <td>0</td>\n",
       "      <td>0</td>\n",
       "      <td>0</td>\n",
       "    </tr>\n",
       "    <tr>\n",
       "      <th>2020-09-30</th>\n",
       "      <td>2.742470e+11</td>\n",
       "      <td>1.042750e+11</td>\n",
       "      <td>6.628800e+10</td>\n",
       "      <td>9.680000e+09</td>\n",
       "      <td>5.741100e+10</td>\n",
       "      <td>3.238880e+11</td>\n",
       "      <td>1.437130e+11</td>\n",
       "      <td>2.585490e+11</td>\n",
       "      <td>1.053920e+11</td>\n",
       "      <td>6.533900e+10</td>\n",
       "      <td>...</td>\n",
       "      <td>0</td>\n",
       "      <td>0</td>\n",
       "      <td>0</td>\n",
       "      <td>0</td>\n",
       "      <td>0</td>\n",
       "      <td>0</td>\n",
       "      <td>0</td>\n",
       "      <td>0</td>\n",
       "      <td>0</td>\n",
       "      <td>0</td>\n",
       "    </tr>\n",
       "    <tr>\n",
       "      <th>2020-06-30</th>\n",
       "      <td>2.736210e+11</td>\n",
       "      <td>1.039940e+11</td>\n",
       "      <td>6.713800e+10</td>\n",
       "      <td>9.893000e+09</td>\n",
       "      <td>5.842400e+10</td>\n",
       "      <td>3.173440e+11</td>\n",
       "      <td>1.400650e+11</td>\n",
       "      <td>2.450620e+11</td>\n",
       "      <td>9.531800e+10</td>\n",
       "      <td>7.228200e+10</td>\n",
       "      <td>...</td>\n",
       "      <td>0</td>\n",
       "      <td>0</td>\n",
       "      <td>0</td>\n",
       "      <td>0</td>\n",
       "      <td>0</td>\n",
       "      <td>0</td>\n",
       "      <td>0</td>\n",
       "      <td>0</td>\n",
       "      <td>0</td>\n",
       "      <td>0</td>\n",
       "    </tr>\n",
       "    <tr>\n",
       "      <th>2020-03-31</th>\n",
       "      <td>2.680150e+11</td>\n",
       "      <td>1.021730e+11</td>\n",
       "      <td>6.559100e+10</td>\n",
       "      <td>9.876000e+09</td>\n",
       "      <td>5.721500e+10</td>\n",
       "      <td>3.204000e+11</td>\n",
       "      <td>1.437530e+11</td>\n",
       "      <td>2.419750e+11</td>\n",
       "      <td>9.609400e+10</td>\n",
       "      <td>7.842500e+10</td>\n",
       "      <td>...</td>\n",
       "      <td>0</td>\n",
       "      <td>0</td>\n",
       "      <td>0</td>\n",
       "      <td>0</td>\n",
       "      <td>0</td>\n",
       "      <td>0</td>\n",
       "      <td>0</td>\n",
       "      <td>0</td>\n",
       "      <td>0</td>\n",
       "      <td>0</td>\n",
       "    </tr>\n",
       "  </tbody>\n",
       "</table>\n",
       "<p>5 rows × 2905 columns</p>\n",
       "</div>"
      ],
      "text/plain": [
       "                 Revenue  Gross Profit  Operating Income  \\\n",
       "Date                                                       \n",
       "2021-03-31  3.252080e+11  1.266010e+11      8.890300e+10   \n",
       "2020-12-31  2.939710e+11  1.137350e+11      7.425300e+10   \n",
       "2020-09-30  2.742470e+11  1.042750e+11      6.628800e+10   \n",
       "2020-06-30  2.736210e+11  1.039940e+11      6.713800e+10   \n",
       "2020-03-31  2.680150e+11  1.021730e+11      6.559100e+10   \n",
       "\n",
       "            Income Tax Provision  Net Income Common  Total Assets  \\\n",
       "Date                                                                \n",
       "2021-03-31          1.331700e+10       7.631100e+10  3.371580e+11   \n",
       "2020-12-31          1.082200e+10       6.393000e+10  3.540540e+11   \n",
       "2020-09-30          9.680000e+09       5.741100e+10  3.238880e+11   \n",
       "2020-06-30          9.893000e+09       5.842400e+10  3.173440e+11   \n",
       "2020-03-31          9.876000e+09       5.721500e+10  3.204000e+11   \n",
       "\n",
       "            Total current assets  Total liabilities  \\\n",
       "Date                                                  \n",
       "2021-03-31          1.214650e+11       2.679800e+11   \n",
       "2020-12-31          1.541060e+11       2.878300e+11   \n",
       "2020-09-30          1.437130e+11       2.585490e+11   \n",
       "2020-06-30          1.400650e+11       2.450620e+11   \n",
       "2020-03-31          1.437530e+11       2.419750e+11   \n",
       "\n",
       "            Total current liabilities  Shareholders Equity (Total)  ...  \\\n",
       "Date                                                                ...   \n",
       "2021-03-31               1.063850e+11                 6.917800e+10  ...   \n",
       "2020-12-31               1.325070e+11                 6.622400e+10  ...   \n",
       "2020-09-30               1.053920e+11                 6.533900e+10  ...   \n",
       "2020-06-30               9.531800e+10                 7.228200e+10  ...   \n",
       "2020-03-31               9.609400e+10                 7.842500e+10  ...   \n",
       "\n",
       "            Ticker_ZIXI  Ticker_ZM  Ticker_ZNGA  Ticker_ZS  Ticker_ZTS  \\\n",
       "Date                                                                     \n",
       "2021-03-31            0          0            0          0           0   \n",
       "2020-12-31            0          0            0          0           0   \n",
       "2020-09-30            0          0            0          0           0   \n",
       "2020-06-30            0          0            0          0           0   \n",
       "2020-03-31            0          0            0          0           0   \n",
       "\n",
       "           Ticker_ZUMZ  Ticker_ZUO  Ticker_ZVO  Ticker_ZYNE  Ticker_ZYXI  \n",
       "Date                                                                      \n",
       "2021-03-31           0           0           0            0            0  \n",
       "2020-12-31           0           0           0            0            0  \n",
       "2020-09-30           0           0           0            0            0  \n",
       "2020-06-30           0           0           0            0            0  \n",
       "2020-03-31           0           0           0            0            0  \n",
       "\n",
       "[5 rows x 2905 columns]"
      ]
     },
     "execution_count": 3,
     "metadata": {},
     "output_type": "execute_result"
    }
   ],
   "source": [
    "combo_df = pd.get_dummies(combo_df, columns=['Ticker'])\n",
    "combo_df.head()"
   ]
  },
  {
   "cell_type": "code",
   "execution_count": null,
   "metadata": {},
   "outputs": [],
   "source": []
  },
  {
   "cell_type": "code",
   "execution_count": 4,
   "metadata": {},
   "outputs": [],
   "source": [
    "X = combo_df.drop(columns=['Sector'])\n",
    "y = combo_df['Sector']"
   ]
  },
  {
   "cell_type": "code",
   "execution_count": null,
   "metadata": {},
   "outputs": [],
   "source": []
  },
  {
   "cell_type": "code",
   "execution_count": 21,
   "metadata": {},
   "outputs": [
    {
     "name": "stdout",
     "output_type": "stream",
     "text": [
      "<class 'pandas.core.frame.DataFrame'>\n",
      "Index: 104423 entries, 2021-03-31 to 2011-12-31\n",
      "Columns: 2905 entries, Revenue to Ticker_ZYXI\n",
      "dtypes: float64(15), object(1), uint8(2889)\n",
      "memory usage: 303.7+ MB\n"
     ]
    }
   ],
   "source": [
    "combo_df.info()"
   ]
  },
  {
   "cell_type": "code",
   "execution_count": null,
   "metadata": {},
   "outputs": [],
   "source": []
  },
  {
   "cell_type": "code",
   "execution_count": null,
   "metadata": {},
   "outputs": [],
   "source": []
  },
  {
   "cell_type": "code",
   "execution_count": 5,
   "metadata": {},
   "outputs": [],
   "source": [
    "# KMeans Model"
   ]
  },
  {
   "cell_type": "code",
   "execution_count": 6,
   "metadata": {},
   "outputs": [
    {
     "name": "stdout",
     "output_type": "stream",
     "text": [
      "This code took 150 seconds to run\n"
     ]
    }
   ],
   "source": [
    "start_time = time.time()\n",
    "\n",
    "#scale the data\n",
    "sc = StandardScaler()\n",
    "X_train_k = sc.fit_transform(X)\n",
    "\n",
    "#instantiate the KMeans model\n",
    "km = KMeans(n_clusters=11)\n",
    "km.fit(X_train_k)\n",
    "\n",
    "# set the cluster labels\n",
    "X['cluster'] = km.labels_\n",
    "\n",
    "print(f\"This code took {round(time.time() - start_time)} seconds to run\")"
   ]
  },
  {
   "cell_type": "code",
   "execution_count": 7,
   "metadata": {},
   "outputs": [
    {
     "name": "stdout",
     "output_type": "stream",
     "text": [
      "This code took 0 seconds to run\n"
     ]
    }
   ],
   "source": [
    "start_time = time.time()\n",
    "\n",
    "km.cluster_centers_\n",
    "\n",
    "print(f\"This code took {round(time.time() - start_time)} seconds to run\")"
   ]
  },
  {
   "cell_type": "code",
   "execution_count": 8,
   "metadata": {},
   "outputs": [
    {
     "name": "stdout",
     "output_type": "stream",
     "text": [
      "This code took 0 seconds to run\n"
     ]
    }
   ],
   "source": [
    "start_time = time.time()\n",
    "\n",
    "centroids = pd.DataFrame(\n",
    "    sc.inverse_transform(km.cluster_centers_),\n",
    "    columns = [X.columns[:-1]]\n",
    ")\n",
    "\n",
    "print(f\"This code took {round(time.time() - start_time)} seconds to run\")"
   ]
  },
  {
   "cell_type": "code",
   "execution_count": 85,
   "metadata": {},
   "outputs": [
    {
     "data": {
      "text/plain": [
       "<Figure size 720x1800 with 0 Axes>"
      ]
     },
     "metadata": {},
     "output_type": "display_data"
    },
    {
     "data": {
      "image/png": "[encoded data removed]",
      "text/plain": [
       "<Figure size 648x432 with 1 Axes>"
      ]
     },
     "metadata": {
      "needs_background": "light"
     },
     "output_type": "display_data"
    }
   ],
   "source": [
    "plt.figure(figsize=(10,25));\n",
    "\n",
    "## Plot scatter by cluster / color, and centroids\n",
    "colors = [\"red\", \"green\", \"blue\",'yellow','orange','gray','pink','black','goldenrod','crimson','darkblue']\n",
    "X['color'] = X['cluster'].map(lambda p: colors[p])\n",
    "\n",
    "ax = X.plot(    \n",
    "    kind=\"scatter\", \n",
    "    y=\"Total Assets\", x=\"Revenue\",\n",
    "    figsize=(9,6),\n",
    "    c = X['color'], s=5\n",
    ")\n",
    "\n",
    "plt.xlim(0,3E11)\n",
    "plt.ylim(0,6E11)\n",
    "plt.title('Clustering companies based on financials');\n",
    "plt.savefig('images/cluster_rev_assets.png')\n",
    "\n",
    "\n",
    "# centroids.plot(\n",
    "#     kind=\"scatter\", \n",
    "#     x=\"Gross Profit\", y=\"Net Income Common\", \n",
    "#     marker=\"*\", c=[\"red\", \"green\", \"blue\",'yellow','orange','black'], s=1000,\n",
    "#     ax=ax\n",
    "# )"
   ]
  },
  {
   "cell_type": "code",
   "execution_count": 12,
   "metadata": {},
   "outputs": [
    {
     "data": {
      "text/plain": [
       "Date\n",
       "2021-03-31    False\n",
       "2020-12-31    False\n",
       "2020-09-30    False\n",
       "2020-06-30    False\n",
       "2020-03-31    False\n",
       "              ...  \n",
       "2012-12-31    False\n",
       "2012-09-30    False\n",
       "2012-06-30    False\n",
       "2012-03-31    False\n",
       "2011-12-31    False\n",
       "Length: 104423, dtype: bool"
      ]
     },
     "execution_count": 12,
     "metadata": {},
     "output_type": "execute_result"
    }
   ],
   "source": [
    "X['cluster'] == y"
   ]
  },
  {
   "cell_type": "code",
   "execution_count": 13,
   "metadata": {},
   "outputs": [
    {
     "data": {
      "text/html": [
       "<div>\n",
       "<style scoped>\n",
       "    .dataframe tbody tr th:only-of-type {\n",
       "        vertical-align: middle;\n",
       "    }\n",
       "\n",
       "    .dataframe tbody tr th {\n",
       "        vertical-align: top;\n",
       "    }\n",
       "\n",
       "    .dataframe thead th {\n",
       "        text-align: right;\n",
       "    }\n",
       "</style>\n",
       "<table border=\"1\" class=\"dataframe\">\n",
       "  <thead>\n",
       "    <tr style=\"text-align: right;\">\n",
       "      <th></th>\n",
       "      <th>cluster</th>\n",
       "      <th>Sector</th>\n",
       "    </tr>\n",
       "    <tr>\n",
       "      <th>Date</th>\n",
       "      <th></th>\n",
       "      <th></th>\n",
       "    </tr>\n",
       "  </thead>\n",
       "  <tbody>\n",
       "    <tr>\n",
       "      <th>2021-03-31</th>\n",
       "      <td>0</td>\n",
       "      <td>Information Technology</td>\n",
       "    </tr>\n",
       "    <tr>\n",
       "      <th>2020-12-31</th>\n",
       "      <td>0</td>\n",
       "      <td>Information Technology</td>\n",
       "    </tr>\n",
       "    <tr>\n",
       "      <th>2020-09-30</th>\n",
       "      <td>0</td>\n",
       "      <td>Information Technology</td>\n",
       "    </tr>\n",
       "    <tr>\n",
       "      <th>2020-06-30</th>\n",
       "      <td>0</td>\n",
       "      <td>Information Technology</td>\n",
       "    </tr>\n",
       "    <tr>\n",
       "      <th>2020-03-31</th>\n",
       "      <td>0</td>\n",
       "      <td>Information Technology</td>\n",
       "    </tr>\n",
       "    <tr>\n",
       "      <th>...</th>\n",
       "      <td>...</td>\n",
       "      <td>...</td>\n",
       "    </tr>\n",
       "    <tr>\n",
       "      <th>2012-12-31</th>\n",
       "      <td>5</td>\n",
       "      <td>Health Care</td>\n",
       "    </tr>\n",
       "    <tr>\n",
       "      <th>2012-09-30</th>\n",
       "      <td>5</td>\n",
       "      <td>Health Care</td>\n",
       "    </tr>\n",
       "    <tr>\n",
       "      <th>2012-06-30</th>\n",
       "      <td>5</td>\n",
       "      <td>Health Care</td>\n",
       "    </tr>\n",
       "    <tr>\n",
       "      <th>2012-03-31</th>\n",
       "      <td>5</td>\n",
       "      <td>Health Care</td>\n",
       "    </tr>\n",
       "    <tr>\n",
       "      <th>2011-12-31</th>\n",
       "      <td>5</td>\n",
       "      <td>Health Care</td>\n",
       "    </tr>\n",
       "  </tbody>\n",
       "</table>\n",
       "<p>104423 rows × 2 columns</p>\n",
       "</div>"
      ],
      "text/plain": [
       "            cluster                  Sector\n",
       "Date                                       \n",
       "2021-03-31        0  Information Technology\n",
       "2020-12-31        0  Information Technology\n",
       "2020-09-30        0  Information Technology\n",
       "2020-06-30        0  Information Technology\n",
       "2020-03-31        0  Information Technology\n",
       "...             ...                     ...\n",
       "2012-12-31        5             Health Care\n",
       "2012-09-30        5             Health Care\n",
       "2012-06-30        5             Health Care\n",
       "2012-03-31        5             Health Care\n",
       "2011-12-31        5             Health Care\n",
       "\n",
       "[104423 rows x 2 columns]"
      ]
     },
     "execution_count": 13,
     "metadata": {},
     "output_type": "execute_result"
    }
   ],
   "source": [
    "compare_df = X[['cluster']].copy()\n",
    "compare_df['Sector'] = y\n",
    "compare_df"
   ]
  },
  {
   "cell_type": "code",
   "execution_count": 91,
   "metadata": {},
   "outputs": [
    {
     "data": {
      "text/plain": [
       "5     72547\n",
       "1     11545\n",
       "2      8064\n",
       "7      5743\n",
       "4      4052\n",
       "8      1587\n",
       "0       608\n",
       "6       160\n",
       "10       39\n",
       "9        39\n",
       "3        39\n",
       "Name: cluster, dtype: int64"
      ]
     },
     "execution_count": 91,
     "metadata": {},
     "output_type": "execute_result"
    }
   ],
   "source": [
    "compare_df['cluster'].value_counts()"
   ]
  },
  {
   "cell_type": "code",
   "execution_count": 87,
   "metadata": {},
   "outputs": [
    {
     "name": "stdout",
     "output_type": "stream",
     "text": [
      "0\n",
      "1\n",
      "2\n",
      "3\n",
      "4\n",
      "5\n",
      "6\n",
      "7\n",
      "8\n",
      "9\n"
     ]
    }
   ],
   "source": [
    "for i in range(0,10):\n",
    "    print(i)"
   ]
  },
  {
   "cell_type": "code",
   "execution_count": 19,
   "metadata": {},
   "outputs": [
    {
     "data": {
      "text/plain": [
       "Financials                19571\n",
       "Industrials               16352\n",
       "Information Technology    15257\n",
       "Health Care               14775\n",
       "Consumer Discretionary    13026\n",
       "Materials                  4959\n",
       "Real Estate                4724\n",
       "Energy                     4671\n",
       "Communication              4382\n",
       "Consumer Staples           4196\n",
       "Utilities                  2510\n",
       "Name: Sector, dtype: int64"
      ]
     },
     "execution_count": 19,
     "metadata": {},
     "output_type": "execute_result"
    }
   ],
   "source": [
    "compare_df['Sector'].value_counts()"
   ]
  },
  {
   "cell_type": "code",
   "execution_count": 20,
   "metadata": {},
   "outputs": [
    {
     "name": "stdout",
     "output_type": "stream",
     "text": [
      "cluster  Sector                \n",
      "0        Communication             177\n",
      "         Information Technology    153\n",
      "         Health Care                85\n",
      "         Energy                     80\n",
      "         Consumer Staples           79\n",
      "         Industrials                24\n",
      "         Consumer Discretionary     10\n",
      "dtype: int64\n",
      "cluster  Sector                \n",
      "1        Industrials               2512\n",
      "         Financials                1991\n",
      "         Consumer Discretionary    1877\n",
      "         Materials                 1125\n",
      "         Information Technology    1043\n",
      "         Energy                     813\n",
      "         Health Care                807\n",
      "         Consumer Staples           707\n",
      "         Communication              400\n",
      "         Real Estate                153\n",
      "         Utilities                  117\n",
      "dtype: int64\n",
      "cluster  Sector                \n",
      "2        Financials                1687\n",
      "         Consumer Discretionary    1142\n",
      "         Information Technology     980\n",
      "         Industrials                950\n",
      "         Communication              674\n",
      "         Health Care                669\n",
      "         Consumer Staples           555\n",
      "         Materials                  451\n",
      "         Utilities                  442\n",
      "         Real Estate                317\n",
      "         Energy                     197\n",
      "dtype: int64\n",
      "cluster  Sector     \n",
      "3        Industrials    39\n",
      "dtype: int64\n",
      "cluster  Sector                \n",
      "4        Industrials               630\n",
      "         Health Care               590\n",
      "         Utilities                 544\n",
      "         Financials                476\n",
      "         Consumer Discretionary    417\n",
      "         Information Technology    402\n",
      "         Energy                    364\n",
      "         Consumer Staples          281\n",
      "         Communication             187\n",
      "         Materials                 161\n",
      "dtype: int64\n",
      "cluster  Sector                \n",
      "5        Financials                14629\n",
      "         Health Care               12216\n",
      "         Information Technology    12206\n",
      "         Industrials               11410\n",
      "         Consumer Discretionary     8627\n",
      "         Materials                  3053\n",
      "         Communication              2796\n",
      "         Energy                     2511\n",
      "         Real Estate                2310\n",
      "         Consumer Staples           2157\n",
      "         Utilities                   632\n",
      "dtype: int64\n",
      "cluster  Sector    \n",
      "6        Financials    160\n",
      "dtype: int64\n",
      "cluster  Sector                \n",
      "7        Real Estate               1826\n",
      "         Utilities                  775\n",
      "         Industrials                693\n",
      "         Energy                     666\n",
      "         Consumer Discretionary     553\n",
      "         Financials                 391\n",
      "         Information Technology     329\n",
      "         Consumer Staples           182\n",
      "         Communication              148\n",
      "         Materials                  129\n",
      "         Health Care                 51\n",
      "dtype: int64\n",
      "cluster  Sector                \n",
      "8        Consumer Discretionary    400\n",
      "         Health Care               357\n",
      "         Consumer Staples          235\n",
      "         Financials                198\n",
      "         Information Technology    144\n",
      "         Industrials                94\n",
      "         Real Estate                79\n",
      "         Materials                  40\n",
      "         Energy                     40\n",
      "dtype: int64\n",
      "cluster  Sector     \n",
      "9        Real Estate    39\n",
      "dtype: int64\n",
      "cluster  Sector    \n",
      "10       Financials    39\n",
      "dtype: int64\n"
     ]
    }
   ],
   "source": [
    "for i in range(11):\n",
    "    print(compare_df[compare_df['cluster']==i].value_counts())"
   ]
  },
  {
   "cell_type": "code",
   "execution_count": null,
   "metadata": {},
   "outputs": [],
   "source": []
  }
 ],
 "metadata": {
  "kernelspec": {
   "display_name": "Python 3",
   "language": "python",
   "name": "python3"
  },
  "language_info": {
   "codemirror_mode": {
    "name": "ipython",
    "version": 3
   },
   "file_extension": ".py",
   "mimetype": "text/x-python",
   "name": "python",
   "nbconvert_exporter": "python",
   "pygments_lexer": "ipython3",
   "version": "3.8.5"
  }
 },
 "nbformat": 4,
 "nbformat_minor": 4
}
